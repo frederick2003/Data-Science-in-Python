{
 "cells": [
  {
   "cell_type": "markdown",
   "metadata": {},
   "source": [
    "# Data Formats"
   ]
  },
  {
   "cell_type": "markdown",
   "metadata": {},
   "source": [
    "## Downloading Data\n",
    "\n",
    "The built-in Python *urllib.request* module has functions which help in downloading content from HTTP URLs using minimal code."
   ]
  },
  {
   "cell_type": "code",
   "execution_count": null,
   "metadata": {},
   "outputs": [],
   "source": [
    "import urllib.request\n",
    "import urllib.error\n",
    "\n",
    "url = \"http://mlg.ucd.ie/modules/python/ucd.txt\"\n",
    "# open the url and read the response\n",
    "response = urllib.request.urlopen(url)\n",
    "# decode the response content from bytes to a utf-8 string\n",
    "text = response.read().decode(\"utf-8\")\n",
    "print(text)"
   ]
  },
  {
   "cell_type": "markdown",
   "metadata": {},
   "source": [
    "In practice, we should always wrap code to fetch URLs in proper error handling blocks to handle the various cases where we cannot access the URL. This includes network issues, server errors, and malformed responses."
   ]
  },
  {
   "cell_type": "code",
   "execution_count": null,
   "metadata": {},
   "outputs": [],
   "source": [
    "# specify a URL that does not exist\n",
    "url = \"http://somemissinglink.ucd.ie/ucd.txt\"\n",
    "\n",
    "try:\n",
    "    # attempt to retrieve the URL\n",
    "    response = urllib.request.urlopen(url)\n",
    "    text = response.read().decode(\"utf-8\")\n",
    "    print(text)\n",
    "except urllib.error.HTTPError as e:\n",
    "    print(f\"HTTP Error {e.code}: Failed to retrieve {url}\")\n",
    "except urllib.error.URLError as e:\n",
    "    print(f\"Network Error: Failed to retrieve {url} - {e.reason}\")\n",
    "except Exception as e:\n",
    "    print(f\"Unexpected error retrieving {url}: {e}\")"
   ]
  },
  {
   "cell_type": "markdown",
   "metadata": {},
   "source": [
    "## Working with CSV Data"
   ]
  },
  {
   "cell_type": "markdown",
   "metadata": {},
   "source": [
    "The CSV (\"Comma Separated Values\") file format is often used to exchange tabular data between different applications, like Excel. Essentially a CSV file is a plain text file where values are split by a comma separator. Alternatively can be tab or space separated. \n",
    "\n",
    "As an example, we will look at a CSV file containing details of Premier League goal scorers. We could download this CSV file using the `urllib.request.urlopen()` function and manually parse it..."
   ]
  },
  {
   "cell_type": "code",
   "execution_count": null,
   "metadata": {},
   "outputs": [],
   "source": [
    "# download the CSV with proper error handling\n",
    "url = \"http://mlg.ucd.ie/modules/python/goal_scorers.csv\"\n",
    "\n",
    "try:\n",
    "    response = urllib.request.urlopen(url)\n",
    "    raw_csv = response.read().decode(\"utf-8\")\n",
    "    \n",
    "    # parse each line\n",
    "    lines = raw_csv.split(\"\\n\")\n",
    "    for line in lines:\n",
    "        line = line.strip()\n",
    "        if len(line) > 0:\n",
    "            # split based on a comma separator\n",
    "            parts = line.split(\",\")\n",
    "            print(parts)\n",
    "except urllib.error.HTTPError as e:\n",
    "    print(f\"HTTP Error {e.code}: Could not download CSV file\")\n",
    "except urllib.error.URLError as e:\n",
    "    print(f\"Network Error: {e.reason}\")\n",
    "except Exception as e:\n",
    "    print(f\"Unexpected error: {e}\")"
   ]
  },
  {
   "cell_type": "markdown",
   "metadata": {},
   "source": [
    "Python also includes a built-in module called `csv` which simplies the process of reading and writing CSV data.\n",
    "\n",
    "See https://docs.python.org/3/library/csv.html"
   ]
  },
  {
   "cell_type": "code",
   "execution_count": null,
   "metadata": {},
   "outputs": [],
   "source": [
    "# Download the file and save it as a CSV file using modern file handling\n",
    "url = \"http://mlg.ucd.ie/modules/python/goal_scorers.csv\"\n",
    "\n",
    "try:\n",
    "    response = urllib.request.urlopen(url)\n",
    "    data = response.read().decode(\"utf-8\")\n",
    "    \n",
    "    with open(\"goal_data.csv\", \"w\", encoding=\"utf-8\") as fout:\n",
    "        fout.write(data)\n",
    "    print(\"Successfully downloaded and saved goal_data.csv\")\n",
    "    \n",
    "except urllib.error.HTTPError as e:\n",
    "    print(f\"HTTP Error {e.code}: Could not download file\")\n",
    "except urllib.error.URLError as e:\n",
    "    print(f\"Network Error: {e.reason}\")\n",
    "except IOError as e:\n",
    "    print(f\"File Error: Could not write to goal_data.csv - {e}\")\n",
    "except Exception as e:\n",
    "    print(f\"Unexpected error: {e}\")"
   ]
  },
  {
   "cell_type": "markdown",
   "metadata": {},
   "source": [
    "Once we've saved the data, we can use the `csv` module to read each line (row) into a dictionary with proper error handling:"
   ]
  },
  {
   "cell_type": "code",
   "execution_count": null,
   "metadata": {},
   "outputs": [],
   "source": [
    "# Import the module\n",
    "import csv\n",
    "\n",
    "try:\n",
    "    with open(\"goal_data.csv\", \"r\", encoding=\"utf-8\") as fin:\n",
    "        reader = csv.DictReader(fin)\n",
    "        rows = []\n",
    "        for row_num, row in enumerate(reader, 1):\n",
    "            try:\n",
    "                print(row)\n",
    "                rows.append(row)\n",
    "            except Exception as e:\n",
    "                print(f\"Error processing row {row_num}: {e}\")\n",
    "    print(f\"Successfully read {len(rows)} rows of data\")\n",
    "    \n",
    "except IOError as e:\n",
    "    print(f\"File Error: Could not read goal_data.csv - {e}\")\n",
    "except csv.Error as e:\n",
    "    print(f\"CSV Error: Invalid CSV format - {e}\")\n",
    "except Exception as e:\n",
    "    print(f\"Unexpected error: {e}\")"
   ]
  },
  {
   "cell_type": "markdown",
   "metadata": {},
   "source": [
    "We can also use the `csv` module to write data out to a CSV file. In the example below, we will write out the data which we collected above, row by row:"
   ]
  },
  {
   "cell_type": "code",
   "execution_count": null,
   "metadata": {},
   "outputs": [],
   "source": [
    "# Write data to CSV file using modern file handling\n",
    "try:\n",
    "    with open(\"output.csv\", \"w\", encoding='utf-8', newline='') as fout:\n",
    "        # Specify the ordered list of fields in our file\n",
    "        fields = [\"Player\", \"Club\", \"Total Goals\", \"Home Goals\", \"Away Goals\"]\n",
    "        writer = csv.DictWriter(fout, fieldnames=fields)\n",
    "        # Write the header row\n",
    "        writer.writeheader()\n",
    "        # Write each row of data\n",
    "        for row in rows:\n",
    "            writer.writerow(row)\n",
    "            \n",
    "    print(f\"Successfully wrote {len(rows)} rows to output.csv\")    \n",
    "except IOError as e:\n",
    "    print(f\"File Error: Could not write to output.csv - {e}\")\n",
    "except csv.Error as e:\n",
    "    print(f\"CSV Error: Could not write CSV data - {e}\")\n",
    "except Exception as e:\n",
    "    print(f\"Unexpected error: {e}\")"
   ]
  },
  {
   "cell_type": "markdown",
   "metadata": {},
   "source": [
    "## Working with JSON"
   ]
  },
  {
   "cell_type": "markdown",
   "metadata": {},
   "source": [
    "[JSON](http://json.org/) is a lightweight format which is becoming increasingly popular for online data exchanged. Based originally on the JavaScript language and (relatively) easy for humans to read and write\n",
    "\n",
    "The built-in module *json* provides an easy way to encode and decode data in JSON in Python."
   ]
  },
  {
   "cell_type": "code",
   "execution_count": null,
   "metadata": {},
   "outputs": [],
   "source": [
    "import json"
   ]
  },
  {
   "cell_type": "markdown",
   "metadata": {},
   "source": [
    "Let's try downloading and parsing a simple JSON file which contains information about a number of books, originally from librarything.com:"
   ]
  },
  {
   "cell_type": "code",
   "execution_count": null,
   "metadata": {},
   "outputs": [],
   "source": [
    "url = \"http://mlg.ucd.ie/modules/python/books.json\"\n",
    "\n",
    "try:\n",
    "    response = urllib.request.urlopen(url)\n",
    "    raw_json = response.read().decode(\"utf-8\")\n",
    "    print(\"Successfully downloaded JSON data\")\n",
    "except urllib.error.HTTPError as e:\n",
    "    print(f\"HTTP Error {e.code}: Could not download JSON file\")\n",
    "except urllib.error.URLError as e:\n",
    "    print(f\"Network Error: {e.reason}\")\n",
    "except Exception as e:\n",
    "    print(f\"Unexpected error: {e}\")\n",
    "    raw_json = None"
   ]
  },
  {
   "cell_type": "code",
   "execution_count": null,
   "metadata": {},
   "outputs": [],
   "source": [
    "print(raw_json)"
   ]
  },
  {
   "cell_type": "markdown",
   "metadata": {},
   "source": [
    "We can now parse the JSON, converting it from a string into a useful Python data structure, by using the `json.loads()`function"
   ]
  },
  {
   "cell_type": "code",
   "execution_count": null,
   "metadata": {},
   "outputs": [],
   "source": [
    "try:\n",
    "    data = json.loads(raw_json)\n",
    "    print(\"Successfully parsed JSON data\")\n",
    "    for book in data:\n",
    "        print(book)\n",
    "except json.JSONDecodeError as e:\n",
    "    print(f\"JSON Error: Invalid JSON format - {e}\")\n",
    "except Exception as e:\n",
    "    print(f\"Unexpected error parsing JSON: {e}\")"
   ]
  },
  {
   "cell_type": "markdown",
   "metadata": {},
   "source": [
    "We can now iterate through the books in the list and extract the relevant information that we require."
   ]
  },
  {
   "cell_type": "code",
   "execution_count": null,
   "metadata": {},
   "outputs": [],
   "source": [
    "for book in data:\n",
    "    print(f\"{book['title']} = {book['year']}\")"
   ]
  },
  {
   "cell_type": "markdown",
   "metadata": {},
   "source": [
    "## Working with XML"
   ]
  },
  {
   "cell_type": "markdown",
   "metadata": {
    "collapsed": true,
    "jupyter": {
     "outputs_hidden": true
    }
   },
   "source": [
    "Extensible Markup Language (XML) is a markup language that defines a set of rules for encoding documents in a format which is both human-readable and machine-readable. XML is a widely-adopted format. Python includes several built-in modules for parsing XML data."
   ]
  },
  {
   "cell_type": "markdown",
   "metadata": {},
   "source": [
    "The `xml.etree.ElementTree` module can be used to extract data from a simple XML file based on its tree structure. "
   ]
  },
  {
   "cell_type": "code",
   "execution_count": null,
   "metadata": {},
   "outputs": [],
   "source": [
    "# Download XML content with proper error handling\n",
    "url = \"http://mlg.ucd.ie/modules/python/books.xml\"\n",
    "\n",
    "try:\n",
    "    response = urllib.request.urlopen(url)\n",
    "    raw_xml = response.read().decode(\"utf-8\")\n",
    "    print(\"Successfully downloaded XML data:\")\n",
    "    print(raw_xml)\n",
    "except urllib.error.HTTPError as e:\n",
    "    print(f\"HTTP Error {e.code}: Could not download XML file\")\n",
    "    raw_xml = None\n",
    "except urllib.error.URLError as e:\n",
    "    print(f\"Network Error: {e.reason}\")\n",
    "    raw_xml = None\n",
    "except Exception as e:\n",
    "    print(f\"Unexpected error: {e}\")\n",
    "    raw_xml = None"
   ]
  },
  {
   "cell_type": "markdown",
   "metadata": {},
   "source": [
    "We can use the `xml.etree.ElementTree.fromstring()` function to parse content from a string containing XML data."
   ]
  },
  {
   "cell_type": "code",
   "execution_count": null,
   "metadata": {},
   "outputs": [],
   "source": [
    "import xml.etree.ElementTree\n",
    "\n",
    "try:\n",
    "    tree = xml.etree.ElementTree.fromstring(raw_xml)\n",
    "    print(\"Successfully parsed XML data\")\n",
    "except xml.etree.ElementTree.ParseError as e:\n",
    "    print(f\"XML Parse Error: Invalid XML format - {e}\")\n",
    "    tree = None\n",
    "except Exception as e:\n",
    "    print(f\"Unexpected error parsing XML: {e}\")\n",
    "    tree = None"
   ]
  },
  {
   "cell_type": "markdown",
   "metadata": {},
   "source": [
    "An XML tree has a root node (i.e. the top level of the document), with child nodes at lower levels. We can iterate over these:"
   ]
  },
  {
   "cell_type": "code",
   "execution_count": null,
   "metadata": {},
   "outputs": [],
   "source": [
    "# loop through the immediate children of the root element\n",
    "for child in tree:\n",
    "    # Get the name of the tag, along with any XML attributes which the tag has\n",
    "    print(child.tag, child.attrib)"
   ]
  },
  {
   "cell_type": "markdown",
   "metadata": {},
   "source": [
    "We can also query to find tags with specific names, such as 'book' and then in turn find child nodes of that tag with a specific name."
   ]
  },
  {
   "cell_type": "code",
   "execution_count": null,
   "metadata": {},
   "outputs": [],
   "source": [
    "titles = []\n",
    "# loop through all <book> elements in the XML tree\n",
    "for book in tree.findall(\"book\"):\n",
    "    # get the text inside a <title> tag, contained within a <book> tag\n",
    "    title_element = book.find(\"title\")\n",
    "    # check that the <title> tag exists and contains text\n",
    "    if title_element is not None and title_element.text:\n",
    "        title = title_element.text.strip()\n",
    "        titles.append(title)\n",
    "    else:\n",
    "        print(\"Warning: Book found without a title\")\n",
    "\n",
    "# sort and print the collected titles\n",
    "for title in sorted(titles):\n",
    "    print(f\"- {title}\")"
   ]
  }
 ],
 "metadata": {
  "anaconda-cloud": {},
  "kernelspec": {
   "display_name": "Python 3 (ipykernel)",
   "language": "python",
   "name": "python3"
  },
  "language_info": {
   "codemirror_mode": {
    "name": "ipython",
    "version": 3
   },
   "file_extension": ".py",
   "mimetype": "text/x-python",
   "name": "python",
   "nbconvert_exporter": "python",
   "pygments_lexer": "ipython3",
   "version": "3.13.5"
  }
 },
 "nbformat": 4,
 "nbformat_minor": 4
}
