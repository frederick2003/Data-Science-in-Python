{
 "cells": [
  {
   "cell_type": "markdown",
   "metadata": {},
   "source": [
    "# Data Formats"
   ]
  },
  {
   "cell_type": "markdown",
   "metadata": {},
   "source": [
    "## Downloading Data\n",
    "\n",
    "The built-in Python *urllib.request* module has functions which help in downloading content from HTTP URLs using minimal code."
   ]
  },
  {
   "cell_type": "code",
   "execution_count": 5,
   "metadata": {
    "scrolled": true
   },
   "outputs": [
    {
     "name": "stdout",
     "output_type": "stream",
     "text": [
      "History of UCD\n",
      "\n",
      "Originally known as the Catholic University of Ireland and subsequently as the Royal University, the university became UCD in 1908 and a constituent college of the National University of Ireland (NUI). \n",
      "\n",
      "In 1997, UCD became an autonomous university within the loose federal structure of the NUI and UCD students are awarded degrees of the National University of Ireland.\n",
      "\n",
      "UCD has been a major contributor to the making of modern Ireland. Many UCD students and staff participated in the struggle for Irish independence and the university has produced numerous Irish Presidents and Taoisigh (Prime Ministers) in addition to generations of Irish business, professional, cultural and sporting leaders. \n",
      "\n",
      "Among UCD's well-known graduates are authors (Maeve Binchy, Roddy Doyle, Flann O'Brien), actors (Gabriel Byrne, Brendan Gleeson), directors (Neil Jordan, Jim Sheridan) and sports stars such as Irish rugby captain Brian O'Driscoll and former Manchester United and Ireland captain Kevin Moran. Perhaps the best known of all its graduates is the writer James Joyce, who completed his Bachelor of Arts at the university in 1902.\n",
      "\n"
     ]
    }
   ],
   "source": [
    "import urllib.request\n",
    "import urllib.error\n",
    "\n",
    "url = \"http://mlg.ucd.ie/modules/python/ucd.txt\"\n",
    "# open the url and read the response\n",
    "response = urllib.request.urlopen(url)\n",
    "# decode the response content from bytes to a utf-8 string\n",
    "text = response.read().decode(\"utf-8\")\n",
    "print(text)"
   ]
  },
  {
   "cell_type": "markdown",
   "metadata": {},
   "source": [
    "In practice, we should always wrap code to fetch URLs in proper error handling blocks to handle the various cases where we cannot access the URL. This includes network issues, server errors, and malformed responses."
   ]
  },
  {
   "cell_type": "code",
   "execution_count": 2,
   "metadata": {},
   "outputs": [
    {
     "name": "stdout",
     "output_type": "stream",
     "text": [
      "Network Error: Failed to retrieve http://somemissinglink.ucd.ie/ucd.txt - [Errno 11001] getaddrinfo failed\n"
     ]
    }
   ],
   "source": [
    "# specify a URL that does not exist\n",
    "url = \"http://somemissinglink.ucd.ie/ucd.txt\"\n",
    "\n",
    "try:\n",
    "    # attempt to retrieve the URL\n",
    "    response = urllib.request.urlopen(url)\n",
    "    text = response.read().decode(\"utf-8\")\n",
    "    print(text)\n",
    "except urllib.error.HTTPError as e:\n",
    "    print(f\"HTTP Error {e.code}: Failed to retrieve {url}\")\n",
    "except urllib.error.URLError as e:\n",
    "    print(f\"Network Error: Failed to retrieve {url} - {e.reason}\")\n",
    "except Exception as e:\n",
    "    print(f\"Unexpected error retrieving {url}: {e}\")"
   ]
  },
  {
   "cell_type": "markdown",
   "metadata": {},
   "source": [
    "## Working with CSV Data"
   ]
  },
  {
   "cell_type": "markdown",
   "metadata": {},
   "source": [
    "The CSV (\"Comma Separated Values\") file format is often used to exchange tabular data between different applications, like Excel. Essentially a CSV file is a plain text file where values are split by a comma separator. Alternatively can be tab or space separated. \n",
    "\n",
    "As an example, we will look at a CSV file containing details of Premier League goal scorers. We could download this CSV file using the `urllib.request.urlopen()` function and manually parse it..."
   ]
  },
  {
   "cell_type": "code",
   "execution_count": 3,
   "metadata": {},
   "outputs": [
    {
     "name": "stdout",
     "output_type": "stream",
     "text": [
      "['Player', 'Club', 'Total Goals', 'Home Goals', 'Away Goals']\n",
      "['Jamie Vardy', 'Leicester City', '17', '8', '9']\n",
      "['Sergio Aguero', 'Manchester City', '16', '8', '8']\n",
      "['P. Aubameyang', 'Arsenal', '15', '6', '9']\n",
      "['Danny Ings', 'Southampton', '15', '8', '7']\n",
      "['Marcus Rashford', 'Manchester Utd', '14', '10', '4']\n",
      "['Mohamed Salah', 'Liverpool', '14', '12', '2']\n",
      "['Tammy Abraham', 'Chelsea', '13', '5', '8']\n",
      "['Sadio Mané', 'Liverpool', '12', '7', '5']\n",
      "['Raúl Jiménez', 'Wolverhampton', '11', '5', '6']\n",
      "['Harry Kane', 'Tottenham', '11', '6', '5']\n",
      "['D. Calvert-Lewin', 'Everton', '11', '6', '5']\n",
      "['Raheem Sterling', 'Manchester City', '11', '2', '9']\n",
      "['Teemu Pukki', 'Norwich City', '11', '7', '4']\n",
      "['Chris Wood', 'Burnley', '10', '6', '4']\n",
      "['Son Heungmin', 'Tottenham', '9', '6', '3']\n",
      "['Anthony Martial', 'Manchester Utd', '9', '4', '5']\n",
      "['Richarlison', 'Everton', '9', '5', '4']\n",
      "['Kevin De Bruyne', 'Manchester City', '9', '6', '3']\n",
      "['Gabriel Jesus', 'Manchester City', '9', '3', '6']\n",
      "['Roberto Firmino', 'Liverpool', '8', '0', '8']\n",
      "['Dele Alli', 'Tottenham', '7', '5', '2']\n",
      "['Ayoze Perez', 'Leicester City', '7', '2', '5']\n",
      "['Jack Grealish', 'Aston Villa', '7', '3', '4']\n",
      "['Harry Wilson', 'Bournemouth', '7', '2', '5']\n",
      "['Callum Wilson', 'Bournemouth', '7', '4', '3']\n",
      "['Neal Maupay', 'Brighton', '7', '4', '3']\n",
      "['Riyad Mahrez', 'Manchester City', '7', '3', '4']\n",
      "['Alexandre Lacazette', 'Arsenal', '6', '6', '0']\n",
      "['James Maddison', 'Leicester City', '6', '3', '3']\n",
      "['Jordan Ayew', 'Crystal Palace', '6', '3', '3']\n"
     ]
    }
   ],
   "source": [
    "# download the CSV with proper error handling\n",
    "url = \"http://mlg.ucd.ie/modules/python/goal_scorers.csv\"\n",
    "\n",
    "try:\n",
    "    response = urllib.request.urlopen(url)\n",
    "    raw_csv = response.read().decode(\"utf-8\")\n",
    "    \n",
    "    # parse each line\n",
    "    lines = raw_csv.split(\"\\n\")\n",
    "    for line in lines:\n",
    "        line = line.strip()\n",
    "        if len(line) > 0:\n",
    "            # split based on a comma separator\n",
    "            parts = line.split(\",\")\n",
    "            print(parts)\n",
    "except urllib.error.HTTPError as e:\n",
    "    print(f\"HTTP Error {e.code}: Could not download CSV file\")\n",
    "except urllib.error.URLError as e:\n",
    "    print(f\"Network Error: {e.reason}\")\n",
    "except Exception as e:\n",
    "    print(f\"Unexpected error: {e}\")"
   ]
  },
  {
   "cell_type": "markdown",
   "metadata": {},
   "source": [
    "Python also includes a built-in module called `csv` which simplies the process of reading and writing CSV data.\n",
    "\n",
    "See https://docs.python.org/3/library/csv.html"
   ]
  },
  {
   "cell_type": "code",
   "execution_count": 5,
   "metadata": {},
   "outputs": [
    {
     "name": "stdout",
     "output_type": "stream",
     "text": [
      "Successfully downloaded and saved goal_data.csv\n"
     ]
    }
   ],
   "source": [
    "# Download the file and save it as a CSV file using modern file handling\n",
    "url = \"http://mlg.ucd.ie/modules/python/goal_scorers.csv\"\n",
    "\n",
    "try:\n",
    "    response = urllib.request.urlopen(url)\n",
    "    data = response.read().decode(\"utf-8\")\n",
    "    \n",
    "    with open(\"goal_data.csv\", \"w\", encoding=\"utf-8\") as fout:\n",
    "        fout.write(data)\n",
    "    print(\"Successfully downloaded and saved goal_data.csv\")\n",
    "    \n",
    "except urllib.error.HTTPError as e:\n",
    "    print(f\"HTTP Error {e.code}: Could not download file\")\n",
    "except urllib.error.URLError as e:\n",
    "    print(f\"Network Error: {e.reason}\")\n",
    "except IOError as e:\n",
    "    print(f\"File Error: Could not write to goal_data.csv - {e}\")\n",
    "except Exception as e:\n",
    "    print(f\"Unexpected error: {e}\")"
   ]
  },
  {
   "cell_type": "markdown",
   "metadata": {},
   "source": [
    "Once we've saved the data, we can use the `csv` module to read each line (row) into a dictionary with proper error handling:"
   ]
  },
  {
   "cell_type": "code",
   "execution_count": 6,
   "metadata": {},
   "outputs": [
    {
     "name": "stdout",
     "output_type": "stream",
     "text": [
      "{'Player': 'Jamie Vardy', 'Club': 'Leicester City', 'Total Goals': '17', 'Home Goals': '8', 'Away Goals': '9'}\n",
      "{'Player': 'Sergio Aguero', 'Club': 'Manchester City', 'Total Goals': '16', 'Home Goals': '8', 'Away Goals': '8'}\n",
      "{'Player': 'P. Aubameyang', 'Club': 'Arsenal', 'Total Goals': '15', 'Home Goals': '6', 'Away Goals': '9'}\n",
      "{'Player': 'Danny Ings', 'Club': 'Southampton', 'Total Goals': '15', 'Home Goals': '8', 'Away Goals': '7'}\n",
      "{'Player': 'Marcus Rashford', 'Club': 'Manchester Utd', 'Total Goals': '14', 'Home Goals': '10', 'Away Goals': '4'}\n",
      "{'Player': 'Mohamed Salah', 'Club': 'Liverpool', 'Total Goals': '14', 'Home Goals': '12', 'Away Goals': '2'}\n",
      "{'Player': 'Tammy Abraham', 'Club': 'Chelsea', 'Total Goals': '13', 'Home Goals': '5', 'Away Goals': '8'}\n",
      "{'Player': 'Sadio Mané', 'Club': 'Liverpool', 'Total Goals': '12', 'Home Goals': '7', 'Away Goals': '5'}\n",
      "{'Player': 'Raúl Jiménez', 'Club': 'Wolverhampton', 'Total Goals': '11', 'Home Goals': '5', 'Away Goals': '6'}\n",
      "{'Player': 'Harry Kane', 'Club': 'Tottenham', 'Total Goals': '11', 'Home Goals': '6', 'Away Goals': '5'}\n",
      "{'Player': 'D. Calvert-Lewin', 'Club': 'Everton', 'Total Goals': '11', 'Home Goals': '6', 'Away Goals': '5'}\n",
      "{'Player': 'Raheem Sterling', 'Club': 'Manchester City', 'Total Goals': '11', 'Home Goals': '2', 'Away Goals': '9'}\n",
      "{'Player': 'Teemu Pukki', 'Club': 'Norwich City', 'Total Goals': '11', 'Home Goals': '7', 'Away Goals': '4'}\n",
      "{'Player': 'Chris Wood', 'Club': 'Burnley', 'Total Goals': '10', 'Home Goals': '6', 'Away Goals': '4'}\n",
      "{'Player': 'Son Heungmin', 'Club': 'Tottenham', 'Total Goals': '9', 'Home Goals': '6', 'Away Goals': '3'}\n",
      "{'Player': 'Anthony Martial', 'Club': 'Manchester Utd', 'Total Goals': '9', 'Home Goals': '4', 'Away Goals': '5'}\n",
      "{'Player': 'Richarlison', 'Club': 'Everton', 'Total Goals': '9', 'Home Goals': '5', 'Away Goals': '4'}\n",
      "{'Player': 'Kevin De Bruyne', 'Club': 'Manchester City', 'Total Goals': '9', 'Home Goals': '6', 'Away Goals': '3'}\n",
      "{'Player': 'Gabriel Jesus', 'Club': 'Manchester City', 'Total Goals': '9', 'Home Goals': '3', 'Away Goals': '6'}\n",
      "{'Player': 'Roberto Firmino', 'Club': 'Liverpool', 'Total Goals': '8', 'Home Goals': '0', 'Away Goals': '8'}\n",
      "{'Player': 'Dele Alli', 'Club': 'Tottenham', 'Total Goals': '7', 'Home Goals': '5', 'Away Goals': '2'}\n",
      "{'Player': 'Ayoze Perez', 'Club': 'Leicester City', 'Total Goals': '7', 'Home Goals': '2', 'Away Goals': '5'}\n",
      "{'Player': 'Jack Grealish', 'Club': 'Aston Villa', 'Total Goals': '7', 'Home Goals': '3', 'Away Goals': '4'}\n",
      "{'Player': 'Harry Wilson', 'Club': 'Bournemouth', 'Total Goals': '7', 'Home Goals': '2', 'Away Goals': '5'}\n",
      "{'Player': 'Callum Wilson', 'Club': 'Bournemouth', 'Total Goals': '7', 'Home Goals': '4', 'Away Goals': '3'}\n",
      "{'Player': 'Neal Maupay', 'Club': 'Brighton', 'Total Goals': '7', 'Home Goals': '4', 'Away Goals': '3'}\n",
      "{'Player': 'Riyad Mahrez', 'Club': 'Manchester City', 'Total Goals': '7', 'Home Goals': '3', 'Away Goals': '4'}\n",
      "{'Player': 'Alexandre Lacazette', 'Club': 'Arsenal', 'Total Goals': '6', 'Home Goals': '6', 'Away Goals': '0'}\n",
      "{'Player': 'James Maddison', 'Club': 'Leicester City', 'Total Goals': '6', 'Home Goals': '3', 'Away Goals': '3'}\n",
      "{'Player': 'Jordan Ayew', 'Club': 'Crystal Palace', 'Total Goals': '6', 'Home Goals': '3', 'Away Goals': '3'}\n",
      "Successfully read 30 rows of data\n"
     ]
    }
   ],
   "source": [
    "# Import the module\n",
    "import csv\n",
    "\n",
    "try:\n",
    "    with open(\"goal_data.csv\", \"r\", encoding=\"utf-8\") as fin:\n",
    "        reader = csv.DictReader(fin)\n",
    "        rows = []\n",
    "        for row_num, row in enumerate(reader, 1):\n",
    "            try:\n",
    "                print(row)\n",
    "                rows.append(row)\n",
    "            except Exception as e:\n",
    "                print(f\"Error processing row {row_num}: {e}\")\n",
    "    print(f\"Successfully read {len(rows)} rows of data\")\n",
    "    \n",
    "except IOError as e:\n",
    "    print(f\"File Error: Could not read goal_data.csv - {e}\")\n",
    "except csv.Error as e:\n",
    "    print(f\"CSV Error: Invalid CSV format - {e}\")\n",
    "except Exception as e:\n",
    "    print(f\"Unexpected error: {e}\")"
   ]
  },
  {
   "cell_type": "markdown",
   "metadata": {},
   "source": [
    "We can also use the `csv` module to write data out to a CSV file. In the example below, we will write out the data which we collected above, row by row:"
   ]
  },
  {
   "cell_type": "code",
   "execution_count": 7,
   "metadata": {},
   "outputs": [
    {
     "name": "stdout",
     "output_type": "stream",
     "text": [
      "Successfully wrote 30 rows to output.csv\n"
     ]
    }
   ],
   "source": [
    "# Write data to CSV file using modern file handling\n",
    "try:\n",
    "    with open(\"output.csv\", \"w\", encoding='utf-8', newline='') as fout:\n",
    "        # Specify the ordered list of fields in our file\n",
    "        fields = [\"Player\", \"Club\", \"Total Goals\", \"Home Goals\", \"Away Goals\"]\n",
    "        writer = csv.DictWriter(fout, fieldnames=fields)\n",
    "        # Write the header row\n",
    "        writer.writeheader()\n",
    "        # Write each row of data\n",
    "        for row in rows:\n",
    "            writer.writerow(row)\n",
    "            \n",
    "    print(f\"Successfully wrote {len(rows)} rows to output.csv\")    \n",
    "except IOError as e:\n",
    "    print(f\"File Error: Could not write to output.csv - {e}\")\n",
    "except csv.Error as e:\n",
    "    print(f\"CSV Error: Could not write CSV data - {e}\")\n",
    "except Exception as e:\n",
    "    print(f\"Unexpected error: {e}\")"
   ]
  },
  {
   "cell_type": "markdown",
   "metadata": {},
   "source": [
    "## Working with JSON"
   ]
  },
  {
   "cell_type": "markdown",
   "metadata": {},
   "source": [
    "[JSON](http://json.org/) is a lightweight format which is becoming increasingly popular for online data exchanged. Based originally on the JavaScript language and (relatively) easy for humans to read and write\n",
    "\n",
    "The built-in module *json* provides an easy way to encode and decode data in JSON in Python."
   ]
  },
  {
   "cell_type": "code",
   "execution_count": 11,
   "metadata": {},
   "outputs": [],
   "source": [
    "import json"
   ]
  },
  {
   "cell_type": "markdown",
   "metadata": {},
   "source": [
    "Let's try downloading and parsing a simple JSON file which contains information about a number of books, originally from librarything.com:"
   ]
  },
  {
   "cell_type": "code",
   "execution_count": 12,
   "metadata": {},
   "outputs": [
    {
     "name": "stdout",
     "output_type": "stream",
     "text": [
      "Successfully downloaded JSON data\n"
     ]
    }
   ],
   "source": [
    "url = \"http://mlg.ucd.ie/modules/python/books.json\"\n",
    "\n",
    "try:\n",
    "    response = urllib.request.urlopen(url)\n",
    "    raw_json = response.read().decode(\"utf-8\")\n",
    "    print(\"Successfully downloaded JSON data\")\n",
    "except urllib.error.HTTPError as e:\n",
    "    print(f\"HTTP Error {e.code}: Could not download JSON file\")\n",
    "except urllib.error.URLError as e:\n",
    "    print(f\"Network Error: {e.reason}\")\n",
    "except Exception as e:\n",
    "    print(f\"Unexpected error: {e}\")\n",
    "    raw_json = None"
   ]
  },
  {
   "cell_type": "code",
   "execution_count": 14,
   "metadata": {},
   "outputs": [
    {
     "name": "stdout",
     "output_type": "stream",
     "text": [
      "[{\n",
      "\t\"book_id\": \"13585350\",\n",
      "\t\"title\": \"The World Treasury of Science Fiction\",\n",
      "\t\"ISBN\": \"0316349410\",\n",
      "\t\"year\": 1989,\n",
      "\t\"rating\": 3,\n",
      "\t\"language\": \"eng\"\n",
      "}, {\n",
      "\t\"book_id\": \"124205572\",\n",
      "\t\"title\": \"The War of the Worlds\",\n",
      "\t\"ISBN\": \"1936594056\",\n",
      "\t\"year\": 2013,\n",
      "\t\"rating\": 4,\n",
      "\t\"language\": \"eng\"\n",
      "}, {\n",
      "\t\"book_id\": \"127360065\",\n",
      "\t\"title\": \"Under the Dome: A Novel\",\n",
      "\t\"ISBN\": \"1439149038\",\n",
      "\t\"year\": 2013,\n",
      "\t\"rating\": 2,\n",
      "\t\"language\": \"eng\"\n",
      "}, {\n",
      "\t\"book_id\": \"13908800\",\n",
      "\t\"title\": \"The Ultimate Hitchhiker's Guide to the Galaxy\",\n",
      "\t\"ISBN\": \"0345453743\",\n",
      "\t\"year\": 2002,\n",
      "\t\"rating\": 5,\n",
      "\t\"language\": \"eng\"\n",
      "}, {\n",
      "\t\"book_id\": \"123734934\",\n",
      "\t\"title\": \"The Time Traveler's Wife\",\n",
      "\t\"ISBN\": \"1476764832\",\n",
      "\t\"year\": 2014,\n",
      "\t\"rating\": 5,\n",
      "\t\"language\": \"eng\"\n",
      "}, {\n",
      "\t\"book_id\": \"13603020\",\n",
      "\t\"title\": \"Salem's Lot\",\n",
      "\t\"ISBN\": \"0451098277\",\n",
      "\t\"year\": 1976,\n",
      "\t\"rating\": 3,\n",
      "\t\"language\": \"eng\"\n",
      "}, {\n",
      "\t\"book_id\": \"124173974\",\n",
      "\t\"title\": \"Republic\",\n",
      "\t\"ISBN\": \"039395501X\",\n",
      "\t\"year\": 1985,\n",
      "\t\"rating\": 3,\n",
      "\t\"language\": \"eng\"\n",
      "}, {\n",
      "\t\"book_id\": \"123102859\",\n",
      "\t\"title\": \"The Road\",\n",
      "\t\"ISBN\": \"0307387895\",\n",
      "\t\"year\": 2006,\n",
      "\t\"rating\": 5,\n",
      "\t\"language\": \"eng\"\n",
      "}]\n",
      "\n"
     ]
    }
   ],
   "source": [
    "print(raw_json)"
   ]
  },
  {
   "cell_type": "markdown",
   "metadata": {},
   "source": [
    "We can now parse the JSON, converting it from a string into a useful Python data structure, by using the `json.loads()`function"
   ]
  },
  {
   "cell_type": "code",
   "execution_count": 15,
   "metadata": {},
   "outputs": [
    {
     "name": "stdout",
     "output_type": "stream",
     "text": [
      "Successfully parsed JSON data\n",
      "{'book_id': '13585350', 'title': 'The World Treasury of Science Fiction', 'ISBN': '0316349410', 'year': 1989, 'rating': 3, 'language': 'eng'}\n",
      "{'book_id': '124205572', 'title': 'The War of the Worlds', 'ISBN': '1936594056', 'year': 2013, 'rating': 4, 'language': 'eng'}\n",
      "{'book_id': '127360065', 'title': 'Under the Dome: A Novel', 'ISBN': '1439149038', 'year': 2013, 'rating': 2, 'language': 'eng'}\n",
      "{'book_id': '13908800', 'title': \"The Ultimate Hitchhiker's Guide to the Galaxy\", 'ISBN': '0345453743', 'year': 2002, 'rating': 5, 'language': 'eng'}\n",
      "{'book_id': '123734934', 'title': \"The Time Traveler's Wife\", 'ISBN': '1476764832', 'year': 2014, 'rating': 5, 'language': 'eng'}\n",
      "{'book_id': '13603020', 'title': \"Salem's Lot\", 'ISBN': '0451098277', 'year': 1976, 'rating': 3, 'language': 'eng'}\n",
      "{'book_id': '124173974', 'title': 'Republic', 'ISBN': '039395501X', 'year': 1985, 'rating': 3, 'language': 'eng'}\n",
      "{'book_id': '123102859', 'title': 'The Road', 'ISBN': '0307387895', 'year': 2006, 'rating': 5, 'language': 'eng'}\n"
     ]
    }
   ],
   "source": [
    "try:\n",
    "    data = json.loads(raw_json)\n",
    "    print(\"Successfully parsed JSON data\")\n",
    "    for book in data:\n",
    "        print(book)\n",
    "except json.JSONDecodeError as e:\n",
    "    print(f\"JSON Error: Invalid JSON format - {e}\")\n",
    "except Exception as e:\n",
    "    print(f\"Unexpected error parsing JSON: {e}\")"
   ]
  },
  {
   "cell_type": "markdown",
   "metadata": {},
   "source": [
    "We can now iterate through the books in the list and extract the relevant information that we require."
   ]
  },
  {
   "cell_type": "code",
   "execution_count": 16,
   "metadata": {},
   "outputs": [
    {
     "name": "stdout",
     "output_type": "stream",
     "text": [
      "The World Treasury of Science Fiction = 1989\n",
      "The War of the Worlds = 2013\n",
      "Under the Dome: A Novel = 2013\n",
      "The Ultimate Hitchhiker's Guide to the Galaxy = 2002\n",
      "The Time Traveler's Wife = 2014\n",
      "Salem's Lot = 1976\n",
      "Republic = 1985\n",
      "The Road = 2006\n"
     ]
    }
   ],
   "source": [
    "for book in data:\n",
    "    print(f\"{book['title']} = {book['year']}\")"
   ]
  },
  {
   "cell_type": "markdown",
   "metadata": {},
   "source": [
    "## Working with XML"
   ]
  },
  {
   "cell_type": "markdown",
   "metadata": {
    "collapsed": true,
    "jupyter": {
     "outputs_hidden": true
    }
   },
   "source": [
    "Extensible Markup Language (XML) is a markup language that defines a set of rules for encoding documents in a format which is both human-readable and machine-readable. XML is a widely-adopted format. Python includes several built-in modules for parsing XML data."
   ]
  },
  {
   "cell_type": "markdown",
   "metadata": {},
   "source": [
    "The `xml.etree.ElementTree` module can be used to extract data from a simple XML file based on its tree structure. "
   ]
  },
  {
   "cell_type": "code",
   "execution_count": 6,
   "metadata": {
    "scrolled": true
   },
   "outputs": [
    {
     "name": "stdout",
     "output_type": "stream",
     "text": [
      "Successfully downloaded XML data:\n",
      "<?xml version=\"1.0\" encoding=\"UTF-8\"?>\n",
      "<booklist>\n",
      "   <book id=\"13585350\">\n",
      "      <title>The World Treasury of Science Fiction</title>\n",
      "      <ISBN>0316349410</ISBN>\n",
      "      <year>1989</year>\n",
      "      <rating>3</rating>\n",
      "      <language>eng</language>\n",
      "   </book>\n",
      "   <book id=\"124205572\">\n",
      "      <title>The War of the Worlds</title>\n",
      "      <ISBN>1936594056</ISBN>\n",
      "      <year>2013</year>\n",
      "      <rating>4</rating>\n",
      "      <language>eng</language>\n",
      "   </book>\n",
      "   <book id=\"127360065\">\n",
      "      <title>Under the Dome: A Novel</title>\n",
      "      <ISBN>1439149038</ISBN>\n",
      "      <year>2013</year>\n",
      "      <rating>2</rating>\n",
      "      <language>eng</language>\n",
      "   </book>\n",
      "   <book id=\"13908800\">\n",
      "      <title>The Ultimate Hitchhiker's Guide to the Galaxy</title>\n",
      "      <ISBN>0345453743</ISBN>\n",
      "      <year>2002</year>\n",
      "      <rating>5</rating>\n",
      "      <language>eng</language>\n",
      "   </book>\n",
      "   <book id=\"123734934\">\n",
      "      <title>The Time Traveler's Wife</title>\n",
      "      <ISBN>1476764832</ISBN>\n",
      "      <year>2014</year>\n",
      "      <rating>5</rating>\n",
      "      <language>eng</language>\n",
      "   </book>\n",
      "   <book id=\"13603020\">\n",
      "      <title>Salem's Lot</title>\n",
      "      <ISBN>0451098277</ISBN>\n",
      "      <year>1976</year>\n",
      "      <rating>3</rating>\n",
      "      <language>eng</language>\n",
      "   </book>\n",
      "   <book id=\"124173974\">\n",
      "      <title>Republic</title>\n",
      "      <ISBN>039395501X</ISBN>\n",
      "      <year>1985</year>\n",
      "      <rating>3</rating>\n",
      "      <language>eng</language>\n",
      "   </book>\n",
      "   <book id=\"123102859\">\n",
      "      <title>The Road</title>\n",
      "      <ISBN>0307387895</ISBN>\n",
      "      <year>2006</year>\n",
      "      <rating>5</rating>\n",
      "      <language>eng</language>\n",
      "   </book>\n",
      "</booklist>\n",
      "\n"
     ]
    }
   ],
   "source": [
    "# Download XML content with proper error handling\n",
    "url = \"http://mlg.ucd.ie/modules/python/books.xml\"\n",
    "\n",
    "try:\n",
    "    response = urllib.request.urlopen(url)\n",
    "    raw_xml = response.read().decode(\"utf-8\")\n",
    "    print(\"Successfully downloaded XML data:\")\n",
    "    print(raw_xml)\n",
    "except urllib.error.HTTPError as e:\n",
    "    print(f\"HTTP Error {e.code}: Could not download XML file\")\n",
    "    raw_xml = None\n",
    "except urllib.error.URLError as e:\n",
    "    print(f\"Network Error: {e.reason}\")\n",
    "    raw_xml = None\n",
    "except Exception as e:\n",
    "    print(f\"Unexpected error: {e}\")\n",
    "    raw_xml = None"
   ]
  },
  {
   "cell_type": "markdown",
   "metadata": {},
   "source": [
    "We can use the `xml.etree.ElementTree.fromstring()` function to parse content from a string containing XML data."
   ]
  },
  {
   "cell_type": "code",
   "execution_count": 7,
   "metadata": {},
   "outputs": [
    {
     "name": "stdout",
     "output_type": "stream",
     "text": [
      "Successfully parsed XML data\n"
     ]
    }
   ],
   "source": [
    "import xml.etree.ElementTree\n",
    "\n",
    "try:\n",
    "    tree = xml.etree.ElementTree.fromstring(raw_xml)\n",
    "    print(\"Successfully parsed XML data\")\n",
    "except xml.etree.ElementTree.ParseError as e:\n",
    "    print(f\"XML Parse Error: Invalid XML format - {e}\")\n",
    "    tree = None\n",
    "except Exception as e:\n",
    "    print(f\"Unexpected error parsing XML: {e}\")\n",
    "    tree = None"
   ]
  },
  {
   "cell_type": "markdown",
   "metadata": {},
   "source": [
    "An XML tree has a root node (i.e. the top level of the document), with child nodes at lower levels. We can iterate over these:"
   ]
  },
  {
   "cell_type": "code",
   "execution_count": 8,
   "metadata": {},
   "outputs": [
    {
     "name": "stdout",
     "output_type": "stream",
     "text": [
      "book {'id': '13585350'}\n",
      "book {'id': '124205572'}\n",
      "book {'id': '127360065'}\n",
      "book {'id': '13908800'}\n",
      "book {'id': '123734934'}\n",
      "book {'id': '13603020'}\n",
      "book {'id': '124173974'}\n",
      "book {'id': '123102859'}\n"
     ]
    }
   ],
   "source": [
    "# loop through the immediate children of the root element\n",
    "for child in tree:\n",
    "    # Get the name of the tag, along with any XML attributes which the tag has\n",
    "    print(child.tag, child.attrib)"
   ]
  },
  {
   "cell_type": "markdown",
   "metadata": {},
   "source": [
    "We can also query to find tags with specific names, such as 'book' and then in turn find child nodes of that tag with a specific name."
   ]
  },
  {
   "cell_type": "code",
   "execution_count": 9,
   "metadata": {},
   "outputs": [
    {
     "name": "stdout",
     "output_type": "stream",
     "text": [
      "- Republic\n",
      "- Salem's Lot\n",
      "- The Road\n",
      "- The Time Traveler's Wife\n",
      "- The Ultimate Hitchhiker's Guide to the Galaxy\n",
      "- The War of the Worlds\n",
      "- The World Treasury of Science Fiction\n",
      "- Under the Dome: A Novel\n"
     ]
    }
   ],
   "source": [
    "titles = []\n",
    "# loop through all <book> elements in the XML tree\n",
    "for book in tree.findall(\"book\"):\n",
    "    # get the text inside a <title> tag, contained within a <book> tag\n",
    "    title_element = book.find(\"title\")\n",
    "    # check that the <title> tag exists and contains text\n",
    "    if title_element is not None and title_element.text:\n",
    "        title = title_element.text.strip()\n",
    "        titles.append(title)\n",
    "    else:\n",
    "        print(\"Warning: Book found without a title\")\n",
    "\n",
    "# sort and print the collected titles\n",
    "for title in sorted(titles):\n",
    "    print(f\"- {title}\")"
   ]
  }
 ],
 "metadata": {
  "anaconda-cloud": {},
  "kernelspec": {
   "display_name": "Python 3 (ipykernel)",
   "language": "python",
   "name": "python3"
  },
  "language_info": {
   "codemirror_mode": {
    "name": "ipython",
    "version": 3
   },
   "file_extension": ".py",
   "mimetype": "text/x-python",
   "name": "python",
   "nbconvert_exporter": "python",
   "pygments_lexer": "ipython3",
   "version": "3.13.5"
  }
 },
 "nbformat": 4,
 "nbformat_minor": 4
}
