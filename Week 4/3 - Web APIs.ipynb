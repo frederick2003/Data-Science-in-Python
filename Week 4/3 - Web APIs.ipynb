{
 "cells": [
  {
   "cell_type": "markdown",
   "metadata": {},
   "source": [
    "# Web APIs"
   ]
  },
  {
   "cell_type": "markdown",
   "metadata": {},
   "source": [
    "Instead of manually scraping HTML data, some web sites provide a convenient \"official\" way of retrieving their data via a **Web API (Application Programming Interface)**. APIs provide structured access to data and are generally more reliable and respectful than web scraping.\n",
    "\n",
    "**Understanding HTTP Status Codes:**\n",
    "\n",
    "When working with APIs, we will encounter various HTTP status codes when we try to access them:\n",
    "- *200*: Success - Request completed successfully. Hopefully we will always get this response!\n",
    "- *400*: Bad Request - Invalid request parameters\n",
    "- *401*: Unauthorized - Authentication required\n",
    "- *403*: Forbidden - Access denied\n",
    "- *404*: Not Found - Resource doesn't exist\n",
    "- *429*: Too Many Requests - Rate limit exceeded\n",
    "- *500*: Internal Server Error - Some server-side error has occurred\n",
    "\n",
    "In this notebook we look at two examples of accessing public APIs with Python."
   ]
  },
  {
   "cell_type": "markdown",
   "metadata": {},
   "source": [
    "## Example - Wikipedia\n",
    "\n",
    "As a simple example of using an online API, we will use the Wikipedia web API to perform a search for Wikipedia pages with titles which match a particular query keyword.\n",
    "\n",
    "The endpoint for this API is given below. The complete documentation for using this endpoint is [online here](https://en.wikipedia.org/w/api.php):"
   ]
  },
  {
   "cell_type": "code",
   "execution_count": null,
   "metadata": {},
   "outputs": [],
   "source": [
    "end_point = \"https://en.wikipedia.org/w/api.php\""
   ]
  },
  {
   "cell_type": "markdown",
   "metadata": {},
   "source": [
    "We build a URL that includes the endpoint and the query parameters which specify what we are looking for. In this case, we are looking for Wikipedia article with the query keyword \"Dublin\":"
   ]
  },
  {
   "cell_type": "code",
   "execution_count": null,
   "metadata": {},
   "outputs": [],
   "source": [
    "# the keyword in page titles that we are searching for\n",
    "keyword = \"Dublin\"\n",
    "url = \"%s?action=query&list=search&format=json&srsearch=%s\" % (end_point, keyword)\n",
    "print(url)"
   ]
  },
  {
   "cell_type": "markdown",
   "metadata": {},
   "source": [
    "We send our request to the API using a standard HTTP request using `urllib.request.urlopen`:"
   ]
  },
  {
   "cell_type": "code",
   "execution_count": null,
   "metadata": {},
   "outputs": [],
   "source": [
    "import urllib.request\n",
    "import urllib.error\n",
    "\n",
    "try:\n",
    "    # perform the request \n",
    "    # note that we need to add a special header to appear to be a proper web browser\n",
    "    headers = {\"User-Agent\": \"Mozilla/5.0\"}\n",
    "    req = urllib.request.Request(url, headers=headers)\n",
    "    response = urllib.request.urlopen(req)\n",
    "    \n",
    "    # check if the request was successful\n",
    "    if response.getcode() == 200:\n",
    "        # read the body of the response\n",
    "        raw_json = response.read().decode(\"utf-8\")\n",
    "        print(f\"Successfully retrieved data (HTTP {response.getcode()})\")\n",
    "    else:\n",
    "        print(f\"Unexpected HTTP status code: {response.getcode()}\")\n",
    "        raw_json = None\n",
    "except urllib.error.HTTPError as e:\n",
    "    print(f\"HTTP Error {e.code}: {e.reason}\")\n",
    "except urllib.error.URLError as e:\n",
    "    print(f\"Network Error: {e.reason}\")\n",
    "except Exception as e:\n",
    "    print(f\"Unexpected error: {e}\")"
   ]
  },
  {
   "cell_type": "markdown",
   "metadata": {},
   "source": [
    "Once we have downloaded the JSON data into a string, we parse it using the *loads()* function from the `json` module, which will convert it into an actual Python dictionary that we can easily work with."
   ]
  },
  {
   "cell_type": "code",
   "execution_count": null,
   "metadata": {},
   "outputs": [],
   "source": [
    "import json\n",
    "\n",
    "response_data = json.loads(raw_json)\n",
    "print(\"Successfully parsed API response\")\n",
    "# display the structure to understand the data format\n",
    "if isinstance(response_data, dict):\n",
    "    print(\"Response keys:\", list(response_data.keys()))\n",
    "print(\"Response data:\", response_data)"
   ]
  },
  {
   "cell_type": "markdown",
   "metadata": {},
   "source": [
    "We can now process the results sent back by the API. For instance, we could print the top results return for our keyword query: "
   ]
  },
  {
   "cell_type": "code",
   "execution_count": null,
   "metadata": {},
   "outputs": [],
   "source": [
    "# extract the part of the response that contains the search results\n",
    "search_results = response_data[\"query\"][\"search\"]\n",
    "print(f\"Found {len(search_results)} search results:\")\n",
    "\n",
    "# print out the results returned by the API\n",
    "for i, result in enumerate(search_results, 1):\n",
    "    if \"title\" in result:\n",
    "        print(f\"{i}. {result['title']}\")\n",
    "    else:\n",
    "        print(f\"{i}. (Title not available)\")"
   ]
  },
  {
   "cell_type": "markdown",
   "metadata": {},
   "source": [
    "## Example - Currency Exchange Rates"
   ]
  },
  {
   "cell_type": "markdown",
   "metadata": {},
   "source": [
    "In the next example, we will use the *frankfurter.app* (formerly *Fixer.io*) API to get currency exchange rate information: https://frankfurter.app"
   ]
  },
  {
   "cell_type": "markdown",
   "metadata": {},
   "source": [
    "To retrieve all rates in EUROs, we retrieve data from the API end point: https://api.frankfurter.app/latest - we do not need to specify any parameters in the URL in this case. "
   ]
  },
  {
   "cell_type": "code",
   "execution_count": null,
   "metadata": {},
   "outputs": [],
   "source": [
    "end_point = \"https://api.frankfurter.app/latest\"\n",
    "\n",
    "try:\n",
    "    # perform the request\n",
    "    # note that we need to add a special header to appear to be a proper web browser\n",
    "    headers = {\"User-Agent\": \"Mozilla/5.0\"}\n",
    "    req = urllib.request.Request(end_point, headers=headers)\n",
    "    \n",
    "    # retrieve the data from the API endpoint\n",
    "    print(f\"Requesting data from: {end_point}\")\n",
    "    response = urllib.request.urlopen(req)\n",
    "    \n",
    "    # check if the request was successful\n",
    "    if response.getcode() == 200:\n",
    "        # read the body of the response\n",
    "        raw_json = response.read().decode(\"utf-8\")\n",
    "        print(f\"Successfully retrieved currency data (HTTP {response.getcode()})\")\n",
    "        print(\"Raw JSON response:\")\n",
    "        print(raw_json)\n",
    "    else:\n",
    "        print(f\"Unexpected HTTP status code: {response.getcode()}\")\n",
    "        raw_json = None\n",
    "except urllib.error.HTTPError as e:\n",
    "    print(f\"HTTP Error {e.code}: {e.reason}\")\n",
    "except urllib.error.URLError as e:\n",
    "    print(f\"Network Error: {e.reason}\")\n",
    "except Exception as e:\n",
    "    print(f\"Unexpected error: {e}\")"
   ]
  },
  {
   "cell_type": "markdown",
   "metadata": {},
   "source": [
    "Parse the JSON data"
   ]
  },
  {
   "cell_type": "code",
   "execution_count": null,
   "metadata": {},
   "outputs": [],
   "source": [
    "data = json.loads(raw_json)\n",
    "print(\"Successfully parsed currency data\")\n",
    "\n",
    "# display the information provided by the API\n",
    "print(\"Available data fields:\", list(data.keys()))\n",
    "\n",
    "# show all rates if available\n",
    "if \"rates\" in data:\n",
    "    print(f\"Currency rates (base: {data.get('base', 'EUR')}):\")\n",
    "    for currency, rate in data[\"rates\"].items():\n",
    "        print(f\"  {currency}: {rate:.4f}\")\n",
    "else:\n",
    "    print(\"No rates data found\")"
   ]
  },
  {
   "cell_type": "code",
   "execution_count": null,
   "metadata": {},
   "outputs": [],
   "source": [
    "# get a specific rate with error handling\n",
    "if data and \"rates\" in data:\n",
    "    chf_rate = data[\"rates\"][\"CHF\"]\n",
    "    print(f\"Swiss Franc (CHF) rate: {chf_rate}\")\n",
    "else:\n",
    "    print(\"No currency data available\")"
   ]
  },
  {
   "cell_type": "markdown",
   "metadata": {},
   "source": [
    "We can change the URL to get rates for a different currency, such as US Dollars (USD). We do this by adding an extra parameter to the URL."
   ]
  },
  {
   "cell_type": "code",
   "execution_count": null,
   "metadata": {},
   "outputs": [],
   "source": [
    "# create a URL based on the end point, with extra parameters\n",
    "url = f\"{end_point}?base=USD\"\n",
    "print(f\"Requesting USD-based rates from: {url}\")\n",
    "\n",
    "try:\n",
    "    # perform the request\n",
    "    # note that we need to add a special header to appear to be a proper web browser\n",
    "    headers = {\"User-Agent\": \"Mozilla/5.0\"}\n",
    "    req = urllib.request.Request(url, headers=headers)\n",
    "    response = urllib.request.urlopen(req)\n",
    "    \n",
    "    # check if the request was successful\n",
    "    if response.getcode() == 200:\n",
    "        usd_raw_json = response.read().decode(\"utf-8\")\n",
    "        print(f\"Successfully retrieved currency data (HTTP {response.getcode()})\")\n",
    "        \n",
    "        # parse the JSON\n",
    "        usd_data = json.loads(usd_raw_json)\n",
    "        # display the USD-based rates\n",
    "        if \"rates\" in usd_data:\n",
    "            print(f\"\\nCurrency rates (base: {usd_data.get('base', 'USD')}):\")\n",
    "            print(\"Sample rates:\")\n",
    "            # show first few rates as example\n",
    "            for i, (currency, rate) in enumerate(usd_data[\"rates\"].items()):\n",
    "                print(f\"  {currency}: {rate:.4f}\")\n",
    "        else:\n",
    "            print(\"No rates found in USD response\")\n",
    "    else:\n",
    "        print(f\"Unexpected HTTP status code: {response.getcode()}\")\n",
    "        usd_raw_json = None\n",
    "        \n",
    "except urllib.error.HTTPError as e:\n",
    "    print(f\"HTTP Error {e.code}: {e.reason}\")\n",
    "except urllib.error.URLError as e:\n",
    "    print(f\"Network Error: {e.reason}\")\n",
    "except Exception as e:\n",
    "    print(f\"Unexpected error: {e}\")"
   ]
  },
  {
   "cell_type": "code",
   "execution_count": null,
   "metadata": {},
   "outputs": [],
   "source": []
  },
  {
   "cell_type": "code",
   "execution_count": null,
   "metadata": {},
   "outputs": [],
   "source": []
  },
  {
   "cell_type": "code",
   "execution_count": null,
   "metadata": {},
   "outputs": [],
   "source": []
  }
 ],
 "metadata": {
  "anaconda-cloud": {},
  "kernelspec": {
   "display_name": "Python 3 (ipykernel)",
   "language": "python",
   "name": "python3"
  },
  "language_info": {
   "codemirror_mode": {
    "name": "ipython",
    "version": 3
   },
   "file_extension": ".py",
   "mimetype": "text/x-python",
   "name": "python",
   "nbconvert_exporter": "python",
   "pygments_lexer": "ipython3",
   "version": "3.13.5"
  }
 },
 "nbformat": 4,
 "nbformat_minor": 4
}
