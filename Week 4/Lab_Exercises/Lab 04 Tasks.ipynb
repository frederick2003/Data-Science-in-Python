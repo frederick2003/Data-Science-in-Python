{
 "cells": [
  {
   "cell_type": "markdown",
   "metadata": {},
   "source": [
    "# Lab Tasks"
   ]
  },
  {
   "cell_type": "markdown",
   "metadata": {},
   "source": [
    "## Task 1 - JSON Parsing"
   ]
  },
  {
   "cell_type": "markdown",
   "metadata": {},
   "source": [
    "Use Python to download a file containing metadata for member states of the EU in JSON format from the URL: \n",
    "\n",
    "http://mlg.ucd.ie/modules/python/eu.json"
   ]
  },
  {
   "cell_type": "code",
   "execution_count": 25,
   "metadata": {},
   "outputs": [],
   "source": [
    "import json\n",
    "import csv\n",
    "import urllib.request\n",
    "import urllib.error"
   ]
  },
  {
   "cell_type": "markdown",
   "metadata": {},
   "source": [
    "Parse the JSON data that you have downloaded."
   ]
  },
  {
   "cell_type": "code",
   "execution_count": 6,
   "metadata": {},
   "outputs": [
    {
     "name": "stdout",
     "output_type": "stream",
     "text": [
      "Successfully downloaded JSON data\n"
     ]
    }
   ],
   "source": [
    "url = \"http://mlg.ucd.ie/modules/python/eu.json\"\n",
    "\n",
    "try:\n",
    "    response = urllib.request.urlopen(url)\n",
    "    raw_json = response.read().decode(\"utf-8\")\n",
    "    print(\"Successfully downloaded JSON data\")\n",
    "except urllib.error.HTTPError as e:\n",
    "    print(f\"HTTP Error {e.code}: Could not download JSON file\")\n",
    "except urllib.error.URLError as e:\n",
    "    print(f\"Network Error: {e.reason}\")\n",
    "except Exception as e:\n",
    "    print(f\"Unexpected error: {e}\")\n",
    "    raw_json = None"
   ]
  },
  {
   "cell_type": "code",
   "execution_count": 8,
   "metadata": {
    "scrolled": true
   },
   "outputs": [
    {
     "name": "stdout",
     "output_type": "stream",
     "text": [
      "{\n",
      "  \"countries\": [\n",
      "    {\n",
      "      \"name\": \"Austria\",\n",
      "      \"population\": 8902600,\n",
      "      \"first_language\": \"German\",\n",
      "      \"capital_city\": \"Vienna\"\n",
      "    },\n",
      "    {\n",
      "      \"name\": \"Belgium\",\n",
      "      \"population\": 11589623,\n",
      "      \"first_language\": \"Dutch\",\n",
      "      \"capital_city\": \"Brussels\"\n",
      "    },\n",
      "    {\n",
      "      \"name\": \"Bulgaria\",\n",
      "      \"population\": 6927288,\n",
      "      \"first_language\": \"Bulgarian\",\n",
      "      \"capital_city\": \"Sofia\"\n",
      "    },\n",
      "    {\n",
      "      \"name\": \"Croatia\",\n",
      "      \"population\": 4047200,\n",
      "      \"first_language\": \"Croatian\",\n",
      "      \"capital_city\": \"Zagreb\"\n",
      "    },\n",
      "    {\n",
      "      \"name\": \"Cyprus\",\n",
      "      \"population\": 888005,\n",
      "      \"first_language\": \"Greek\",\n",
      "      \"capital_city\": \"Nicosia\"\n",
      "    },\n",
      "    {\n",
      "      \"name\": \"Czech Republic\",\n",
      "      \"population\": 10701777,\n",
      "      \"first_language\": \"Czech\",\n",
      "      \"capital_city\": \"Prague\"\n",
      "    },\n",
      "    {\n",
      "      \"name\": \"Denmark\",\n",
      "      \"population\": 5822763,\n",
      "      \"first_language\": \"Danish\",\n",
      "      \"capital_city\": \"Copenhagen\"\n",
      "    },\n",
      "    {\n",
      "      \"name\": \"Estonia\",\n",
      "      \"population\": 1326535,\n",
      "      \"first_language\": \"Estonian\",\n",
      "      \"capital_city\": \"Tallinn\"\n",
      "    },\n",
      "    {\n",
      "      \"name\": \"Finland\",\n",
      "      \"population\": 5527573,\n",
      "      \"first_language\": \"Finnish\",\n",
      "      \"capital_city\": \"Helsinki\"\n",
      "    },\n",
      "    {\n",
      "      \"name\": \"France\",\n",
      "      \"population\": 67391582,\n",
      "      \"first_language\": \"French\",\n",
      "      \"capital_city\": \"Paris\"\n",
      "    },\n",
      "    {\n",
      "      \"name\": \"Germany\",\n",
      "      \"population\": 83166711,\n",
      "      \"first_language\": \"German\",\n",
      "      \"capital_city\": \"Berlin\"\n",
      "    },\n",
      "    {\n",
      "      \"name\": \"Greece\",\n",
      "      \"population\": 10423054,\n",
      "      \"first_language\": \"Greek\",\n",
      "      \"capital_city\": \"Athens\"\n",
      "    },\n",
      "    {\n",
      "      \"name\": \"Hungary\",\n",
      "      \"population\": 9769526,\n",
      "      \"first_language\": \"Hungarian\",\n",
      "      \"capital_city\": \"Budapest\"\n",
      "    },\n",
      "    {\n",
      "      \"name\": \"Ireland\",\n",
      "      \"population\": 5343805,\n",
      "      \"first_language\": \"English\",\n",
      "      \"capital_city\": \"Dublin\"\n",
      "    },\n",
      "    {\n",
      "      \"name\": \"Italy\",\n",
      "      \"population\": 60244639,\n",
      "      \"first_language\": \"Italian\",\n",
      "      \"capital_city\": \"Rome\"\n",
      "    },\n",
      "    {\n",
      "      \"name\": \"Latvia\",\n",
      "      \"population\": 1886198,\n",
      "      \"first_language\": \"Latvian\",\n",
      "      \"capital_city\": \"Riga\"\n",
      "    },\n",
      "    {\n",
      "      \"name\": \"Lithuania\",\n",
      "      \"population\": 2790476,\n",
      "      \"first_language\": \"Lithuanian\",\n",
      "      \"capital_city\": \"Vilnius\"\n",
      "    },\n",
      "    {\n",
      "      \"name\": \"Luxembourg\",\n",
      "      \"population\": 634814,\n",
      "      \"first_language\": \"Luxembourgish\",\n",
      "      \"capital_city\": \"Luxembourg City\"\n",
      "    },\n",
      "    {\n",
      "      \"name\": \"Malta\",\n",
      "      \"population\": 514564,\n",
      "      \"first_language\": \"Maltese\",\n",
      "      \"capital_city\": \"Valletta\"\n",
      "    },\n",
      "    {\n",
      "      \"name\": \"Netherlands\",\n",
      "      \"population\": 17479916,\n",
      "      \"first_language\": \"Dutch\",\n",
      "      \"capital_city\": \"Amsterdam\"\n",
      "    },\n",
      "    {\n",
      "      \"name\": \"Poland\",\n",
      "      \"population\": 38386000,\n",
      "      \"first_language\": \"Polish\",\n",
      "      \"capital_city\": \"Warsaw\"\n",
      "    },\n",
      "    {\n",
      "      \"name\": \"Portugal\",\n",
      "      \"population\": 10305564,\n",
      "      \"first_language\": \"Portuguese\",\n",
      "      \"capital_city\": \"Lisbon\"\n",
      "    },\n",
      "    {\n",
      "      \"name\": \"Romania\",\n",
      "      \"population\": 19317984,\n",
      "      \"first_language\": \"Romanian\",\n",
      "      \"capital_city\": \"Bucharest\"\n",
      "    },\n",
      "    {\n",
      "      \"name\": \"Slovakia\",\n",
      "      \"population\": 5460136,\n",
      "      \"first_language\": \"Slovak\",\n",
      "      \"capital_city\": \"Bratislava\"\n",
      "    },\n",
      "    {\n",
      "      \"name\": \"Slovenia\",\n",
      "      \"population\": 2100126,\n",
      "      \"first_language\": \"Slovene\",\n",
      "      \"capital_city\": \"Ljubljana\"\n",
      "    },\n",
      "    {\n",
      "      \"name\": \"Spain\",\n",
      "      \"population\": 47351567,\n",
      "      \"first_language\": \"Spanish\",\n",
      "      \"capital_city\": \"Madrid\"\n",
      "    },\n",
      "    {\n",
      "      \"name\": \"Sweden\",\n",
      "      \"population\": 10327589,\n",
      "      \"first_language\": \"Swedish\",\n",
      "      \"capital_city\": \"Stockholm\"\n",
      "    }\n",
      "  ]\n",
      "}\n",
      "\n"
     ]
    }
   ],
   "source": [
    "print(raw_json)"
   ]
  },
  {
   "cell_type": "markdown",
   "metadata": {},
   "source": [
    "From the parsed JSON data, print a list of the all of the country names, along with the corresponding capital city."
   ]
  },
  {
   "cell_type": "code",
   "execution_count": 17,
   "metadata": {
    "scrolled": true
   },
   "outputs": [
    {
     "name": "stdout",
     "output_type": "stream",
     "text": [
      "Country name: Austria, Capital city: Vienna\n",
      "Country name: Belgium, Capital city: Brussels\n",
      "Country name: Bulgaria, Capital city: Sofia\n",
      "Country name: Croatia, Capital city: Zagreb\n",
      "Country name: Cyprus, Capital city: Nicosia\n",
      "Country name: Czech Republic, Capital city: Prague\n",
      "Country name: Denmark, Capital city: Copenhagen\n",
      "Country name: Estonia, Capital city: Tallinn\n",
      "Country name: Finland, Capital city: Helsinki\n",
      "Country name: France, Capital city: Paris\n",
      "Country name: Germany, Capital city: Berlin\n",
      "Country name: Greece, Capital city: Athens\n",
      "Country name: Hungary, Capital city: Budapest\n",
      "Country name: Ireland, Capital city: Dublin\n",
      "Country name: Italy, Capital city: Rome\n",
      "Country name: Latvia, Capital city: Riga\n",
      "Country name: Lithuania, Capital city: Vilnius\n",
      "Country name: Luxembourg, Capital city: Luxembourg City\n",
      "Country name: Malta, Capital city: Valletta\n",
      "Country name: Netherlands, Capital city: Amsterdam\n",
      "Country name: Poland, Capital city: Warsaw\n",
      "Country name: Portugal, Capital city: Lisbon\n",
      "Country name: Romania, Capital city: Bucharest\n",
      "Country name: Slovakia, Capital city: Bratislava\n",
      "Country name: Slovenia, Capital city: Ljubljana\n",
      "Country name: Spain, Capital city: Madrid\n",
      "Country name: Sweden, Capital city: Stockholm\n"
     ]
    }
   ],
   "source": [
    "try:\n",
    "    data = json.loads(raw_json)\n",
    "    country_array = data['countries']\n",
    "    for country in country_array:\n",
    "        print(f\"Country name: {country['name']}, Capital city: {country['capital_city']}\")\n",
    "except json.JSONDecodeError as e:\n",
    "    print(f\"JSON Error: Invalid JSON format - {e}\")\n",
    "except Exception as e:\n",
    "    print(f\"Unexpected error parsing JSON: {e}\")"
   ]
  },
  {
   "cell_type": "markdown",
   "metadata": {},
   "source": [
    "Extract the population information for each member state."
   ]
  },
  {
   "cell_type": "code",
   "execution_count": 23,
   "metadata": {},
   "outputs": [
    {
     "name": "stdout",
     "output_type": "stream",
     "text": [
      "[8902600, 11589623, 6927288, 4047200, 888005, 10701777, 5822763, 1326535, 5527573, 67391582, 83166711, 10423054, 9769526, 5343805, 60244639, 1886198, 2790476, 634814, 514564, 17479916, 38386000, 10305564, 19317984, 5460136, 2100126, 47351567, 10327589]\n"
     ]
    }
   ],
   "source": [
    "try:\n",
    "    population = []\n",
    "    for country in country_array:\n",
    "        population.append(country['population'])\n",
    "    print(population)\n",
    "except json.JSONDecodeError as e:\n",
    "    print(f\"JSON Error: Invalid JSON format - {e}\")\n",
    "except Exception as e:\n",
    "    print(f\"Unexpected error parsing JSON: {e}\")"
   ]
  },
  {
   "cell_type": "markdown",
   "metadata": {},
   "source": [
    "Export the EU member state data to a new file in CSV format, with an appropriate header line."
   ]
  },
  {
   "cell_type": "code",
   "execution_count": 29,
   "metadata": {},
   "outputs": [
    {
     "name": "stdout",
     "output_type": "stream",
     "text": [
      "Successfully wrote 27 rows to output.csv\n"
     ]
    }
   ],
   "source": [
    "# Write data to CSV file using modern file handling\n",
    "try:\n",
    "    with open(\"eu_memberstate_data.csv\", \"w\", encoding='utf-8', newline='') as fout:\n",
    "        # Specify the ordered list of fields in our file\n",
    "        fields = [\"name\", \"population\", \"first_language\", \"capital_city\"]\n",
    "        writer = csv.DictWriter(fout, fieldnames=fields)\n",
    "        # Write the header row\n",
    "        writer.writeheader()\n",
    "        # Write each row of data\n",
    "        for country in country_array:\n",
    "            writer.writerow(country)\n",
    "            \n",
    "    print(f\"Successfully wrote {len(country_array)} rows to output.csv\")    \n",
    "except IOError as e:\n",
    "    print(f\"File Error: Could not write to output.csv - {e}\")\n",
    "except csv.Error as e:\n",
    "    print(f\"CSV Error: Could not write CSV data - {e}\")\n",
    "except Exception as e:\n",
    "    print(f\"Unexpected error: {e}\")"
   ]
  },
  {
   "cell_type": "markdown",
   "metadata": {},
   "source": [
    "## Task 2 - XML Parsing"
   ]
  },
  {
   "cell_type": "markdown",
   "metadata": {},
   "source": [
    "Use Python to download a file containing a contact list in XML format from the URL: \n",
    "\n",
    "http://mlg.ucd.ie/modules/python/contacts.xml"
   ]
  },
  {
   "cell_type": "code",
   "execution_count": 34,
   "metadata": {},
   "outputs": [],
   "source": [
    "import xml.etree.ElementTree\n",
    "url = \"http://mlg.ucd.ie/modules/python/contacts.xml\""
   ]
  },
  {
   "cell_type": "markdown",
   "metadata": {},
   "source": [
    "Parse the XML data that you have downloaded."
   ]
  },
  {
   "cell_type": "code",
   "execution_count": 44,
   "metadata": {
    "scrolled": true
   },
   "outputs": [
    {
     "name": "stdout",
     "output_type": "stream",
     "text": [
      "Successfully downloaded XML data:\n",
      "<?xml version=\"1.0\"?>\n",
      "<contacts>\n",
      "  <contact>\n",
      "    <name>John Smith</name>\n",
      "    <phone>085-456-7890</phone>\n",
      "    <email>johnsmith243@gmail.com</email>\n",
      "  </contact>\n",
      "  <contact>\n",
      "    <name>Alice Murphy</name>\n",
      "    <phone>086-456-7891</phone>\n",
      "    <email>alice.murphy12@ucd.ie</email>\n",
      "  </contact>\n",
      "  <contact>\n",
      "    <name>Joe Adams</name>\n",
      "    <phone>086-222-4654</phone>\n",
      "    <email>joeadams2016@tcd.ie</email>\n",
      "  </contact>\n",
      "  <contact>\n",
      "    <name>Carol Conroy</name>\n",
      "    <phone>087-131-1331</phone>\n",
      "    <email>cconry1342@gmail.com</email>\n",
      "  </contact>\n",
      "  <contact>\n",
      "    <name>Mary Carthy</name>\n",
      "    <phone>086-221-7433</phone>\n",
      "    <email>mcarthy1987@ucd.ie</email>\n",
      "  </contact>\n",
      "</contacts>\n",
      "Successfully parsed XML data\n"
     ]
    }
   ],
   "source": [
    "try:\n",
    "    response = urllib.request.urlopen(url)\n",
    "    raw_xml = response.read().decode(\"utf-8\")\n",
    "    print(\"Successfully downloaded XML data:\")\n",
    "    print(raw_xml)\n",
    "except urllib.error.HTTPError as e:\n",
    "    print(f\"HTTP Error {e.code}: Could not download XML file\")\n",
    "    raw_xml = None\n",
    "except urllib.error.URLError as e:\n",
    "    print(f\"Network Error: {e.reason}\")\n",
    "    raw_xml = None\n",
    "except Exception as e:\n",
    "    print(f\"Unexpected error: {e}\")\n",
    "    raw_xml = None\n",
    "\n",
    "try:\n",
    "    tree = xml.etree.ElementTree.fromstring(raw_xml)\n",
    "    print(\"Successfully parsed XML data\")\n",
    "except xml.etree.ElementTree.ParseError as e:\n",
    "    print(f\"XML Parse Error: Invalid XML format - {e}\")\n",
    "    tree = None\n",
    "except Exception as e:\n",
    "    print(f\"Unexpected error parsing XML: {e}\")\n",
    "    tree = None"
   ]
  },
  {
   "cell_type": "markdown",
   "metadata": {},
   "source": [
    "From the parsed XML data, extract the name, email address and phone number of each contact. \n",
    "\n",
    "Store these contacts in a list of dictionaries, and print them out."
   ]
  },
  {
   "cell_type": "code",
   "execution_count": 49,
   "metadata": {},
   "outputs": [
    {
     "name": "stdout",
     "output_type": "stream",
     "text": [
      "[{'name': 'John Smith', 'phone': '085-456-7890', 'email': 'johnsmith243@gmail.com'}, {'name': 'Alice Murphy', 'phone': '086-456-7891', 'email': 'alice.murphy12@ucd.ie'}, {'name': 'Joe Adams', 'phone': '086-222-4654', 'email': 'joeadams2016@tcd.ie'}, {'name': 'Carol Conroy', 'phone': '087-131-1331', 'email': 'cconry1342@gmail.com'}, {'name': 'Mary Carthy', 'phone': '086-221-7433', 'email': 'mcarthy1987@ucd.ie'}]\n"
     ]
    }
   ],
   "source": [
    "contact_list = []\n",
    "for child in tree:\n",
    "    contacts = {}\n",
    "    contacts['name'] = child.find('name').text\n",
    "    contacts['phone'] = child.find('phone').text\n",
    "    contacts['email'] = child.find('email').text\n",
    "    contact_list.append(contacts)\n",
    "print(contact_list)"
   ]
  },
  {
   "cell_type": "markdown",
   "metadata": {},
   "source": [
    "Export the contact data to a new file in CSV format."
   ]
  },
  {
   "cell_type": "code",
   "execution_count": 50,
   "metadata": {},
   "outputs": [
    {
     "name": "stdout",
     "output_type": "stream",
     "text": [
      "Successfully wrote 5 rows to output.csv\n"
     ]
    }
   ],
   "source": [
    "# Write data to CSV file using modern file handling\n",
    "try:\n",
    "    with open(\"contacts.csv\", \"w\", encoding='utf-8', newline='') as fout:\n",
    "        # Specify the ordered list of fields in our file\n",
    "        fields = [\"name\", \"phone\", \"email\"]\n",
    "        writer = csv.DictWriter(fout, fieldnames=fields)\n",
    "        # Write the header row\n",
    "        writer.writeheader()\n",
    "        # Write each row of data\n",
    "        for contact in contact_list:\n",
    "            writer.writerow(contact)\n",
    "            \n",
    "    print(f\"Successfully wrote {len(contact_list)} rows to output.csv\")    \n",
    "except IOError as e:\n",
    "    print(f\"File Error: Could not write to output.csv - {e}\")\n",
    "except csv.Error as e:\n",
    "    print(f\"CSV Error: Could not write CSV data - {e}\")\n",
    "except Exception as e:\n",
    "    print(f\"Unexpected error: {e}\")"
   ]
  },
  {
   "cell_type": "markdown",
   "metadata": {},
   "source": [
    "Use Pickle to serialise the contact data to a file. Verify that you can deseralise the data again."
   ]
  },
  {
   "cell_type": "code",
   "execution_count": 59,
   "metadata": {},
   "outputs": [],
   "source": [
    "import pickle\n",
    "fout = open(\"contact_byteStream.pkl\", \"wb\")\n",
    "pickle.dump(contact_list, fout)\n",
    "fout.close()"
   ]
  },
  {
   "cell_type": "code",
   "execution_count": 58,
   "metadata": {},
   "outputs": [
    {
     "name": "stdout",
     "output_type": "stream",
     "text": [
      "{'name': 'John Smith', 'phone': '085-456-7890', 'email': 'johnsmith243@gmail.com'}\n",
      "{'name': 'Alice Murphy', 'phone': '086-456-7891', 'email': 'alice.murphy12@ucd.ie'}\n",
      "{'name': 'Joe Adams', 'phone': '086-222-4654', 'email': 'joeadams2016@tcd.ie'}\n",
      "{'name': 'Carol Conroy', 'phone': '087-131-1331', 'email': 'cconry1342@gmail.com'}\n",
      "{'name': 'Mary Carthy', 'phone': '086-221-7433', 'email': 'mcarthy1987@ucd.ie'}\n"
     ]
    }
   ],
   "source": [
    "with open(\"contact_byteStream.pkl\", \"rb\") as fin:\n",
    "    contacts = pickle.load(fin)\n",
    "    for contact in"
   ]
  }
 ],
 "metadata": {
  "anaconda-cloud": {},
  "kernelspec": {
   "display_name": "Python 3 (ipykernel)",
   "language": "python",
   "name": "python3"
  },
  "language_info": {
   "codemirror_mode": {
    "name": "ipython",
    "version": 3
   },
   "file_extension": ".py",
   "mimetype": "text/x-python",
   "name": "python",
   "nbconvert_exporter": "python",
   "pygments_lexer": "ipython3",
   "version": "3.13.5"
  }
 },
 "nbformat": 4,
 "nbformat_minor": 4
}
