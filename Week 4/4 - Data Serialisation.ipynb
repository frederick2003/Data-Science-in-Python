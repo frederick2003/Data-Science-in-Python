{
 "cells": [
  {
   "cell_type": "markdown",
   "metadata": {},
   "source": [
    "# Data Serialisation\n",
    "\n",
    "Data serialisation is the process of flattening complex data structures, into a format that can be easily stored, transferred, or shared with another program. Python provides several different ways to do this.\n",
    "\n",
    "Note: When using serialisation methods like Pickle, be aware that deserialising data from untrusted sources can be dangerous. Pickle can execute arbitrary code during deserialisation, so only deserialise data from trusted sources."
   ]
  },
  {
   "cell_type": "markdown",
   "metadata": {},
   "source": [
    "## Serialisation with JSON\n",
    "The built-in `json` module provides an interface for converting Python objects into JavaScript Object Notation (JSON) format. "
   ]
  },
  {
   "cell_type": "code",
   "execution_count": null,
   "metadata": {},
   "outputs": [],
   "source": [
    "import json"
   ]
  },
  {
   "cell_type": "markdown",
   "metadata": {},
   "source": [
    "Firstly, a simple example of serialising a dictionary to disk with JSON. "
   ]
  },
  {
   "cell_type": "code",
   "execution_count": null,
   "metadata": {},
   "outputs": [],
   "source": [
    "capitals = {\"Ireland\":\"Dublin\", \"France\":\"Paris\", \"Spain\":\"Madrid\", \"Italy\": \"Rome\"} "
   ]
  },
  {
   "cell_type": "markdown",
   "metadata": {},
   "source": [
    "This code saves the Python dictionary `capitals` to a file named *example1.json* in JSON format.  The `json.dump()` function is used to write the object directly to a file, with several arguments specified :\n",
    "\n",
    "- `indent=2`: Formats the JSON output with an indentation of 2 spaces, making it human-readable.\n",
    "- `ensure_ascii=False`: Ensures that non-ASCII characters (e.g. accented letters) are preserved in their original form, rather than being escaped."
   ]
  },
  {
   "cell_type": "code",
   "execution_count": null,
   "metadata": {},
   "outputs": [],
   "source": [
    "try:\n",
    "    with open(\"example1.json\", \"w\", encoding=\"utf-8\") as fout:\n",
    "        json.dump(capitals, fout, indent=2, ensure_ascii=False)\n",
    "    print(\"Successfully saved data to example1.json\")\n",
    "except IOError as e:\n",
    "    print(f\"File Error: Could not write file - {e}\")\n",
    "except Exception as e:\n",
    "    print(f\"Unexpected error: {e}\")"
   ]
  },
  {
   "cell_type": "markdown",
   "metadata": {},
   "source": [
    "To deserialise, we open the file for text reading and then use the `json.load()` function to reconstruct a copy of the original dictionary:"
   ]
  },
  {
   "cell_type": "code",
   "execution_count": null,
   "metadata": {},
   "outputs": [],
   "source": [
    "try:\n",
    "    # open the file, then load and parse the json data\n",
    "    with open(\"example1.json\", \"r\", encoding=\"utf-8\") as fin:\n",
    "        values = json.load(fin)\n",
    "    print(\"Successfully loaded data from example1.json\")\n",
    "except IOError as e:\n",
    "    print(f\"Error: Could not read file - {e}\")\n",
    "except Exception as e:\n",
    "    print(f\"Unexpected error: {e}\")"
   ]
  },
  {
   "cell_type": "markdown",
   "metadata": {},
   "source": [
    "The dictionary is exactly the same as we originally created (note that a dictionary ordering is arbitrary, so the pairs may not necessarily appear in the same order, but the values are the same)."
   ]
  },
  {
   "cell_type": "code",
   "execution_count": null,
   "metadata": {},
   "outputs": [],
   "source": [
    "print(\"Reconstructed data:\", values)\n",
    "print(\"Data type:\", type(values))"
   ]
  },
  {
   "cell_type": "markdown",
   "metadata": {},
   "source": [
    "## Serialisation with Pickle\n",
    "\n",
    "The built-in Python `pickle` module is the main mechanism provided by Python for serialising data. Unlike JSON, Pickle can serialise almost any Python object, including custom classes, functions, and nested structures."
   ]
  },
  {
   "cell_type": "code",
   "execution_count": null,
   "metadata": {},
   "outputs": [],
   "source": [
    "import pickle"
   ]
  },
  {
   "cell_type": "markdown",
   "metadata": {},
   "source": [
    "A simple example of serialising a dictionary to disk with Pickle. "
   ]
  },
  {
   "cell_type": "code",
   "execution_count": null,
   "metadata": {},
   "outputs": [],
   "source": [
    "capitals = {\"Ireland\":\"Dublin\", \"France\":\"Paris\", \"Spain\":\"Madrid\", \"Italy\": \"Rome\"} \n",
    "capitals"
   ]
  },
  {
   "cell_type": "markdown",
   "metadata": {},
   "source": [
    "We open a file for binary writing (`\"wb\"`). The simplest usage of Pickle involves calling the `pickle.dump()` function.  "
   ]
  },
  {
   "cell_type": "code",
   "execution_count": null,
   "metadata": {},
   "outputs": [],
   "source": [
    "try:\n",
    "    # open the file and serlaise the data with Pickle\n",
    "    with open(\"example1.pkl\", \"wb\") as fout:\n",
    "        pickle.dump(capitals, fout)\n",
    "    print(\"Successfully saved data to example1.pkl\")\n",
    "except IOError as e:\n",
    "    print(f\"File Error: Could not write to example1.pkl - {e}\")\n",
    "except Exception as e:\n",
    "    print(f\"Unexpected error: {e}\")"
   ]
  },
  {
   "cell_type": "markdown",
   "metadata": {},
   "source": [
    "To deserialise, we first open the file for binary reading (`\"rb\"`) and reconstruct the original dictionary using `pickle.load()`:"
   ]
  },
  {
   "cell_type": "code",
   "execution_count": null,
   "metadata": {},
   "outputs": [],
   "source": [
    "try:\n",
    "    # open the file and load the serialised data\n",
    "    with open(\"example1.pkl\", \"rb\") as fin:\n",
    "        pickle_values = pickle.load(fin)\n",
    "    print(\"Successfully loaded data from example1.pkl\")\n",
    "except pickle.UnpicklingError as e:\n",
    "    print(f\"Pickle Error: Could not unpickle data - {e}\")\n",
    "    pickle_values = None\n",
    "except IOError as e:\n",
    "    print(f\"File Error: Could not read example1.pkl - {e}\")\n",
    "    pickle_values = None\n",
    "except Exception as e:\n",
    "    print(f\"Unexpected error: {e}\")\n",
    "    pickle_values = None"
   ]
  },
  {
   "cell_type": "markdown",
   "metadata": {},
   "source": [
    "We can see that Pickle has reconstructed the original dictionary:"
   ]
  },
  {
   "cell_type": "code",
   "execution_count": null,
   "metadata": {},
   "outputs": [],
   "source": [
    "print(\"Pickle reconstructed data:\", pickle_values)\n",
    "print(\"Data type:\", type(pickle_values))"
   ]
  },
  {
   "cell_type": "markdown",
   "metadata": {},
   "source": [
    "We can apply the same process for more complex, nested data structures."
   ]
  },
  {
   "cell_type": "code",
   "execution_count": null,
   "metadata": {},
   "outputs": [],
   "source": [
    "cities = [\"London\", \"Paris\", \"Madrid\"]\n",
    "teams = [\"Chelsea\", \"PSG\", \"Real Madrid\"]\n",
    "data = [cities, teams]\n",
    "\n",
    "try:\n",
    "    # open the file and seralise the nested data\n",
    "    with open(\"example2.pkl\", \"wb\") as fout:\n",
    "        pickle.dump(data, fout)\n",
    "    print(\"Successfully saved nested data to example2.pkl\")\n",
    "except IOError as e:\n",
    "    print(f\"Error saving data: {e}\")\n",
    "except Exception as e:\n",
    "    print(f\"Unexpected error: {e}\")"
   ]
  },
  {
   "cell_type": "code",
   "execution_count": null,
   "metadata": {},
   "outputs": [],
   "source": [
    "# Load and verify the nested data\n",
    "try:\n",
    "    with open(\"example2.pkl\", \"rb\") as fin:\n",
    "        backup = pickle.load(fin)\n",
    "    print(\"Successfully loaded nested data from example2.pkl\")\n",
    "except IOError as e:\n",
    "    print(f\"Error loading data: {e}\")\n",
    "except Exception as e:\n",
    "    print(f\"Unexpected error: {e}\")"
   ]
  },
  {
   "cell_type": "code",
   "execution_count": null,
   "metadata": {},
   "outputs": [],
   "source": [
    "print(\"Complete backup data:\", backup)\n",
    "print(\"Cities data:\", backup[0])\n",
    "print(\"Teams data:\", backup[1])"
   ]
  },
  {
   "cell_type": "markdown",
   "metadata": {},
   "source": [
    "A further example, with more a complex data structure - 2 dictionaries inside a single list."
   ]
  },
  {
   "cell_type": "code",
   "execution_count": null,
   "metadata": {},
   "outputs": [],
   "source": [
    "book1 = {\n",
    "    \"id\" : \"978-1933988177\",\n",
    "    \"category\" : [\"book\",\"paperback\"],\n",
    "    \"name\" : \"Lucene in Action\",\n",
    "    \"author\" : \"Michael McCandless\",\n",
    "    \"genre\" : \"technology\",\n",
    "    \"price\" : 30.50,\n",
    "    \"pages\" : 475 }\n",
    "\n",
    "book2 = {\n",
    "    \"id\" : \"978-1857995879\",\n",
    "    \"category\" : [\"book\",\"paperback\"],\n",
    "    \"name\" : \"Sophie's World\",\n",
    "    \"author\" : \"Jostein Gaarder\",\n",
    "    \"sequence_i\" : 1,\n",
    "    \"genre\" : \"fiction\",\n",
    "    \"price\" : 3.07,\n",
    "    \"pages\" : 64 }"
   ]
  },
  {
   "cell_type": "code",
   "execution_count": null,
   "metadata": {},
   "outputs": [],
   "source": [
    "books = [book1, book2]\n",
    "books"
   ]
  },
  {
   "cell_type": "code",
   "execution_count": null,
   "metadata": {},
   "outputs": [],
   "source": [
    "# serialise the dictionary data\n",
    "try:\n",
    "    with open(\"example3.pkl\", \"wb\") as fout:\n",
    "        pickle.dump(books, fout)\n",
    "    print(f\"Successfully saved {len(books)} book records to example3.pkl\")\n",
    "except IOError as e:\n",
    "    print(f\"Error saving data: {e}\")\n",
    "except Exception as e:\n",
    "    print(f\"Unexpected error: {e}\")"
   ]
  },
  {
   "cell_type": "markdown",
   "metadata": {},
   "source": [
    "Again Pickle can reconstruct the original data structure from the seralised version on disk:"
   ]
  },
  {
   "cell_type": "code",
   "execution_count": null,
   "metadata": {},
   "outputs": [],
   "source": [
    "# load and verify the book data\n",
    "try:\n",
    "    with open(\"example3.pkl\", \"rb\") as fin:\n",
    "        book_backup = pickle.load(fin)\n",
    "    print(f\"Successfully loaded {len(book_backup)} book records\")\n",
    "except IOError as e:\n",
    "    print(f\"Error loading data: {e}\")\n",
    "except Exception as e:\n",
    "    print(f\"Unexpected error: {e}\")"
   ]
  },
  {
   "cell_type": "code",
   "execution_count": null,
   "metadata": {},
   "outputs": [],
   "source": [
    "print(\"All book data:\", book_backup)"
   ]
  },
  {
   "cell_type": "code",
   "execution_count": null,
   "metadata": {},
   "outputs": [],
   "source": [
    "# show information for the first book\n",
    "first_book = book_backup[0]\n",
    "for key, value in first_book.items():\n",
    "    print(f\"{key}: {value}\")"
   ]
  }
 ],
 "metadata": {
  "anaconda-cloud": {},
  "kernelspec": {
   "display_name": "Python 3 (ipykernel)",
   "language": "python",
   "name": "python3"
  },
  "language_info": {
   "codemirror_mode": {
    "name": "ipython",
    "version": 3
   },
   "file_extension": ".py",
   "mimetype": "text/x-python",
   "name": "python",
   "nbconvert_exporter": "python",
   "pygments_lexer": "ipython3",
   "version": "3.13.5"
  }
 },
 "nbformat": 4,
 "nbformat_minor": 4
}
