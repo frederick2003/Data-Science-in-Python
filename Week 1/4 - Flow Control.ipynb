{
 "cells": [
  {
   "cell_type": "markdown",
   "metadata": {},
   "source": [
    "# Flow Control\n",
    "\n",
    "In this notebook we look at Python's core **flow control** statements, which can be used to control the order in which a program's code is executed."
   ]
  },
  {
   "cell_type": "markdown",
   "metadata": {},
   "source": [
    "## If statements\n",
    "\n",
    "These statements select code to execute based on the value of a specified Boolean condition - i.e. is the condition `True` or `False`. The simplest form has just one condition after the `if` statement. The subsequent code block will be executed if that conditions is `True`, otherwise it will be skipped."
   ]
  },
  {
   "cell_type": "code",
   "execution_count": null,
   "metadata": {},
   "outputs": [],
   "source": [
    "x = 3 \n",
    "y = 4\n",
    "if x < y:\n",
    "    print(\"y is greater\")    # code block"
   ]
  },
  {
   "cell_type": "markdown",
   "metadata": {},
   "source": [
    "We can also include the `elif` keyword with an alternative condition. If the first condition is False and the second condition is True, the second code block will be executed:"
   ]
  },
  {
   "cell_type": "code",
   "execution_count": null,
   "metadata": {},
   "outputs": [],
   "source": [
    "a = 5 \n",
    "b = 5\n",
    "if a > b:\n",
    "    print(\"First value is greater\")      # first code block\n",
    "elif a == b:\n",
    "    print(\"Both values are equal\")  # alternative code block"
   ]
  },
  {
   "cell_type": "markdown",
   "metadata": {},
   "source": [
    "We can also add a \"last resort\" code block after the `else` keyword, which is executed if none of the previous conditions evaluate to True:"
   ]
  },
  {
   "cell_type": "code",
   "execution_count": null,
   "metadata": {},
   "outputs": [],
   "source": [
    "v = 9\n",
    "w = 10\n",
    "if v > w:\n",
    "    print(\"v is greater\")      # first branch\n",
    "elif v == w:\n",
    "    print(\"Both values are equal\")  # alternative branch\n",
    "else: \n",
    "    print(\"Last resort, w must be greater\")      # last resort"
   ]
  },
  {
   "cell_type": "markdown",
   "metadata": {},
   "source": [
    "## While Loops"
   ]
  },
  {
   "cell_type": "markdown",
   "metadata": {},
   "source": [
    "While loops repeatedly execute a block of code as long as a specified boolean expression remains `True`."
   ]
  },
  {
   "cell_type": "code",
   "execution_count": null,
   "metadata": {},
   "outputs": [],
   "source": [
    "x = 5\n",
    "while x < 10:                    # header line with condition\n",
    "    print(f\"x is currently {x}\")   # code block\n",
    "    x += 1"
   ]
  },
  {
   "cell_type": "markdown",
   "metadata": {},
   "source": [
    "If the condition never holds `True`, then the code block will never be executed:"
   ]
  },
  {
   "cell_type": "code",
   "execution_count": null,
   "metadata": {},
   "outputs": [],
   "source": [
    "y = 10\n",
    "# loop while y is less than 4\n",
    "while y < 4:\n",
    "    print(y)    # this code block will not be executed"
   ]
  },
  {
   "cell_type": "markdown",
   "metadata": {},
   "source": [
    "A number of special statements can alter the execution of a while loop. Most commonly, the `break` statement \"breaks out\" of the loop, so that the block of code is no longer executed."
   ]
  },
  {
   "cell_type": "code",
   "execution_count": null,
   "metadata": {},
   "outputs": [],
   "source": [
    "counter = 1\n",
    "\n",
    "# loop while counter is less than 8\n",
    "while counter < 8:\n",
    "    print(f\"counter is currently {counter}\")\n",
    "    # check if counter is divisible by 3\n",
    "    if counter % 3 == 0:\n",
    "        print(f\"breaking out of loop when counter is {counter}\")\n",
    "        break\n",
    "    counter += 1"
   ]
  },
  {
   "cell_type": "markdown",
   "metadata": {},
   "source": [
    "## For Loops"
   ]
  },
  {
   "cell_type": "markdown",
   "metadata": {},
   "source": [
    "**For loops** iterate over a sequence and repeatedly apply a block of code to each item in the sequence. They can be applied to the items in any ordered sequence or other iterable object - e.g. a list, a tuple, a set, or the output of a function."
   ]
  },
  {
   "cell_type": "code",
   "execution_count": null,
   "metadata": {},
   "outputs": [],
   "source": [
    "vals = [2.5, 4.2, 3.1, 6.7, 8.9]\n",
    "for v in vals:\n",
    "    print(f\"Loop variable v is currently: {v}\")"
   ]
  },
  {
   "cell_type": "markdown",
   "metadata": {},
   "source": [
    "Items in the sequence being iterated over can have any type:"
   ]
  },
  {
   "cell_type": "code",
   "execution_count": null,
   "metadata": {},
   "outputs": [],
   "source": [
    "mylist = [\"UCD\", 2020, True, 0.0123]\n",
    "for x in mylist:\n",
    "    print(f\"Loop variable x is currently: {x}\")"
   ]
  },
  {
   "cell_type": "markdown",
   "metadata": {},
   "source": [
    "Iterating over a *set* is the same as iterating over a list with a *for* loop:"
   ]
  },
  {
   "cell_type": "code",
   "execution_count": null,
   "metadata": {},
   "outputs": [],
   "source": [
    "countries = {\"Ireland\", \"Spain\", \"Italy\", \"Germany\", \"Portugal\"}\n",
    "for country in countries:\n",
    "    print(f\"Country: {country}\")"
   ]
  },
  {
   "cell_type": "markdown",
   "metadata": {},
   "source": [
    "We can also easily iterate over the keys in a dictionary using a *for* loop:"
   ]
  },
  {
   "cell_type": "code",
   "execution_count": null,
   "metadata": {},
   "outputs": [],
   "source": [
    "# loop through the dictionary and print each country with its capital\n",
    "capitals = {\"Italy\": \"Rome\", \"Ireland\": \"Dublin\", \"Germany\": \"Berlin\"}\n",
    "\n",
    "for country in capitals:\n",
    "    print(f\"{country} = {capitals[country]}\")"
   ]
  },
  {
   "cell_type": "markdown",
   "metadata": {},
   "source": [
    "To iterate over a sequence of numbers, the built-in function `range()` is frequently used to generate arithmetic integer sequences. It can be used in several different ways:"
   ]
  },
  {
   "cell_type": "code",
   "execution_count": null,
   "metadata": {},
   "outputs": [],
   "source": [
    "# iterate over a sequence starting at 0 and ending before 4:\n",
    "for i in range(4):\n",
    "    print(i)"
   ]
  },
  {
   "cell_type": "code",
   "execution_count": null,
   "metadata": {},
   "outputs": [],
   "source": [
    "# iterate over a sequence starting at 3 and ending before 8:\n",
    "for i in range(3, 8):\n",
    "    print(i)"
   ]
  },
  {
   "cell_type": "code",
   "execution_count": null,
   "metadata": {},
   "outputs": [],
   "source": [
    "# iterate over a sequence starting at 5, ending before 20, and incrementing by 4 at each step:\n",
    "for i in range(5, 20, 4):\n",
    "    print(i)"
   ]
  },
  {
   "cell_type": "markdown",
   "metadata": {},
   "source": [
    "We can also include a negative step size, where we start at a larger number and end before a smaller number."
   ]
  },
  {
   "cell_type": "code",
   "execution_count": null,
   "metadata": {},
   "outputs": [],
   "source": [
    "# start at 40, ending before 20, and decrementing by 5 each time (i.e adding -5):\n",
    "for i in range(40, 20, -5):\n",
    "    print(i)"
   ]
  },
  {
   "cell_type": "markdown",
   "metadata": {},
   "source": [
    "Note that the output of `range()` is not actually a list. If we want to convert it to one, we need to call the `list()``\n",
    " function:"
   ]
  },
  {
   "cell_type": "code",
   "execution_count": null,
   "metadata": {},
   "outputs": [],
   "source": [
    "# create a list of numbers from 5 to 19 with a step of 4\n",
    "list(range(5, 20, 4))"
   ]
  },
  {
   "cell_type": "markdown",
   "metadata": {},
   "source": [
    "To iterate over the indices of a sequence, we can combine the `range()` and `len()` functions:"
   ]
  },
  {
   "cell_type": "code",
   "execution_count": null,
   "metadata": {},
   "outputs": [],
   "source": [
    "continents = [\"Africa\", \"America\", \"Antarctica\", \"Asia\", \"Oceania\", \"Europe\"]\n",
    "for i in range(len(continents)):\n",
    "    print(i, continents[i])"
   ]
  },
  {
   "cell_type": "markdown",
   "metadata": {},
   "source": [
    "A more convenient way to do this is to use the built-in `enumerate()` function. The function allows us to iterate over all of the values in a sequence, returning back two loop variables: 1) the current position in the iteration, 2) the current value."
   ]
  },
  {
   "cell_type": "code",
   "execution_count": null,
   "metadata": {},
   "outputs": [],
   "source": [
    "for pos, value in enumerate(continents):\n",
    "    print(pos, value)"
   ]
  },
  {
   "cell_type": "markdown",
   "metadata": {},
   "source": [
    "Sometimes we might want to skip items when iterating. We can do this using the `continue` statement, which continues with the next iteration of the loop:"
   ]
  },
  {
   "cell_type": "code",
   "execution_count": null,
   "metadata": {},
   "outputs": [],
   "source": [
    "for num in range(0, 10):\n",
    "    # even number?\n",
    "    if num % 2 == 0:\n",
    "        # skip to the next iteration\n",
    "        continue\n",
    "    print(f\"Odd number: {num}\")"
   ]
  },
  {
   "cell_type": "markdown",
   "metadata": {},
   "source": [
    "As with while loops, we can use the `break` statement to jump out of the enclosing for loop:"
   ]
  },
  {
   "cell_type": "code",
   "execution_count": null,
   "metadata": {},
   "outputs": [],
   "source": [
    "for pos, value in enumerate(continents):\n",
    "    if pos > 3:\n",
    "        # jump out of the loop\n",
    "        break\n",
    "    print(pos, value)"
   ]
  }
 ],
 "metadata": {
  "kernelspec": {
   "display_name": "Python 3 (ipykernel)",
   "language": "python",
   "name": "python3"
  },
  "language_info": {
   "codemirror_mode": {
    "name": "ipython",
    "version": 3
   },
   "file_extension": ".py",
   "mimetype": "text/x-python",
   "name": "python",
   "nbconvert_exporter": "python",
   "pygments_lexer": "ipython3",
   "version": "3.13.5"
  }
 },
 "nbformat": 4,
 "nbformat_minor": 4
}
