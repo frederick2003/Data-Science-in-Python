{
 "cells": [
  {
   "cell_type": "markdown",
   "metadata": {},
   "source": [
    "# Lab Tasks\n",
    "\n",
    "The code below creates two Python lists - one list with English words, and a corresponding list with French words."
   ]
  },
  {
   "cell_type": "code",
   "execution_count": 21,
   "metadata": {},
   "outputs": [],
   "source": [
    "english = [\"hello\", \"cat\", \"dog\", \"yes\", \"tomorrow\", \"yesterday\", \"fish\", \n",
    "          \"difficult\", \"easy\", \"bad\", \"no\", \"tuesday\", \"january\", \"world\"]"
   ]
  },
  {
   "cell_type": "code",
   "execution_count": 22,
   "metadata": {},
   "outputs": [],
   "source": [
    "french = [\"bonjour\", \"chat\", \"chien\", \"oui\", \"demain\", \"hier\", \"poisson\",\n",
    "          \"difficile\", \"facile\", \"mauvais\", \"non\", \"mardi\", \"janvier\", \"monde\"]"
   ]
  },
  {
   "cell_type": "markdown",
   "metadata": {},
   "source": [
    "## Task 1\n",
    "\n",
    "Verify that: 1) both lists contain an equal number of values; 2) all elements in both lists are strings.\n",
    "\n",
    "(Hint: We can use the `isinstance()` function to check whether a value has a specified type)"
   ]
  },
  {
   "cell_type": "code",
   "execution_count": 23,
   "metadata": {},
   "outputs": [
    {
     "data": {
      "text/plain": [
       "True"
      ]
     },
     "execution_count": 23,
     "metadata": {},
     "output_type": "execute_result"
    }
   ],
   "source": [
    "# 1\n",
    "len(english) == len(french)"
   ]
  },
  {
   "cell_type": "code",
   "execution_count": 24,
   "metadata": {},
   "outputs": [
    {
     "name": "stdout",
     "output_type": "stream",
     "text": [
      "All elements in both dictionarys are strings\n"
     ]
    }
   ],
   "source": [
    "#2\n",
    "result = \"All elements in both dictionarys are strings\"\n",
    "for eng_word in english:\n",
    "    if not isinstance(eng_word, str):\n",
    "        result = \"Not all elements in both dictionarys are strings\"\n",
    "for fre_word in french:\n",
    "    if not isinstance(fre_word, str):\n",
    "        result = \"Not all elements in both dictionarys are strings\"\n",
    "print(result)"
   ]
  },
  {
   "cell_type": "markdown",
   "metadata": {},
   "source": [
    "## Task 2\n",
    "\n",
    "Create a Python dictionary, which maps English words to French words, using the two lists above. "
   ]
  },
  {
   "cell_type": "code",
   "execution_count": 38,
   "metadata": {},
   "outputs": [
    {
     "name": "stdout",
     "output_type": "stream",
     "text": [
      "{'hello': 'bonjour', 'cat': 'chat', 'dog': 'chien', 'yes': 'oui', 'tomorrow': 'demain', 'yesterday': 'hier', 'fish': 'poisson', 'difficult': 'difficile', 'easy': 'facile', 'bad': 'mauvais', 'no': 'non', 'tuesday': 'mardi', 'january': 'janvier', 'world': 'monde'}\n"
     ]
    }
   ],
   "source": [
    "word_dict = {}\n",
    "for i in range(len(english)):\n",
    "    word_dict[english[i]] = french[i]\n",
    "print(word_dict)"
   ]
  },
  {
   "cell_type": "markdown",
   "metadata": {},
   "source": [
    "## Task 3\n",
    "\n",
    "Remove all key-value pairs from the dictionary above, where the keys (i.e. the English words) contain less than 4 characters."
   ]
  },
  {
   "cell_type": "code",
   "execution_count": 42,
   "metadata": {},
   "outputs": [
    {
     "name": "stdout",
     "output_type": "stream",
     "text": [
      "{'hello': 'bonjour', 'tomorrow': 'demain', 'yesterday': 'hier', 'fish': 'poisson', 'difficult': 'difficile', 'easy': 'facile', 'tuesday': 'mardi', 'january': 'janvier', 'world': 'monde'}\n"
     ]
    }
   ],
   "source": [
    "list_to_remove = []\n",
    "for pair in word_dict:\n",
    "    if len(pair) < 4:\n",
    "        list_to_remove.append(pair)\n",
    "for word in list_to_remove:\n",
    "    word_dict.pop(word)\n",
    "print(word_dict)"
   ]
  },
  {
   "cell_type": "markdown",
   "metadata": {},
   "source": [
    "## Task 4\n",
    "\n",
    "For the remaining words, print an alphabetically-ordered list of the English words and their corresponding French translations."
   ]
  },
  {
   "cell_type": "code",
   "execution_count": 45,
   "metadata": {},
   "outputs": [
    {
     "name": "stdout",
     "output_type": "stream",
     "text": [
      "difficult : difficile\n",
      "easy : facile\n",
      "fish : poisson\n",
      "hello : bonjour\n",
      "january : janvier\n",
      "tomorrow : demain\n",
      "tuesday : mardi\n",
      "world : monde\n",
      "yesterday : hier\n"
     ]
    }
   ],
   "source": [
    "ordered_list = []\n",
    "for word in word_dict:\n",
    "    ordered_list.append(word)\n",
    "ordered_list.sort()\n",
    "for word in ordered_list:\n",
    "    print(\"{} : {}\".format(word,word_dict[word]))"
   ]
  },
  {
   "cell_type": "markdown",
   "metadata": {},
   "source": [
    "## Task 5\n",
    "\n",
    "Write a new function named `translate()` which accepts 3 arguments: a translation dictionary, a word to translate, and a default word. If the word is in the dictionary, the function should return the translated word. Otherwise, it should return the default word."
   ]
  },
  {
   "cell_type": "code",
   "execution_count": 49,
   "metadata": {},
   "outputs": [
    {
     "data": {
      "text/plain": [
       "'bonjour'"
      ]
     },
     "execution_count": 49,
     "metadata": {},
     "output_type": "execute_result"
    }
   ],
   "source": [
    "def translate(translation_dict, word_to_translate, default):\n",
    "    if word_to_translate in translation_dict:\n",
    "        return translation_dict[word_to_translate]\n",
    "    else:\n",
    "        return default\n",
    "translate(word_dict, \"hello\", \"Not Found\")"
   ]
  },
  {
   "cell_type": "markdown",
   "metadata": {},
   "source": [
    "## Task 6\n",
    "\n",
    "Write a new function named `reverse_translate()` which accepts 2 arguments: a translation dictionary and a word in the target translation language. If the translation is found, it returns the original word; otherwise, it returns a default message indicating that the translation is not available"
   ]
  },
  {
   "cell_type": "code",
   "execution_count": 54,
   "metadata": {},
   "outputs": [
    {
     "name": "stdout",
     "output_type": "stream",
     "text": [
      "Target word not in translation dictionary\n"
     ]
    }
   ],
   "source": [
    "def reverse_translate(translation_dict, target_word):\n",
    "    for key, value in translation_dict.items():\n",
    "        if value == target_word:\n",
    "            return key\n",
    "    return \"Target word not in translation dictionary\"\n",
    "print(reverse_translate(word_dict, \"bazara\"))"
   ]
  }
 ],
 "metadata": {
  "kernelspec": {
   "display_name": "Python 3 (ipykernel)",
   "language": "python",
   "name": "python3"
  },
  "language_info": {
   "codemirror_mode": {
    "name": "ipython",
    "version": 3
   },
   "file_extension": ".py",
   "mimetype": "text/x-python",
   "name": "python",
   "nbconvert_exporter": "python",
   "pygments_lexer": "ipython3",
   "version": "3.13.5"
  }
 },
 "nbformat": 4,
 "nbformat_minor": 4
}
