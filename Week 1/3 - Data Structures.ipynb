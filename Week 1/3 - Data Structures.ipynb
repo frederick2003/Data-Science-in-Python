{
 "cells": [
  {
   "cell_type": "markdown",
   "metadata": {},
   "source": [
    "# Data Structures\n",
    "\n",
    "Python includes built-in variable types for a number of fundamental data structures, including lists, tuples, sets, and dictionaries (sometimes called maps). \n",
    "\n",
    "In this notebook we will look at creating and using variables for each of these types."
   ]
  },
  {
   "cell_type": "markdown",
   "metadata": {},
   "source": [
    "## Lists"
   ]
  },
  {
   "cell_type": "markdown",
   "metadata": {},
   "source": [
    "A **list** is an ordered collection of values. These values can have different types. Lists definitions are enclosed within square brackets:"
   ]
  },
  {
   "cell_type": "code",
   "execution_count": null,
   "metadata": {},
   "outputs": [],
   "source": [
    "# create an empty list\n",
    "mylist = []       \n",
    "mylist"
   ]
  },
  {
   "cell_type": "code",
   "execution_count": null,
   "metadata": {},
   "outputs": [],
   "source": [
    "# create a list of 3 integers\n",
    "numbers = [12, 108, 21]\n",
    "numbers"
   ]
  },
  {
   "cell_type": "code",
   "execution_count": null,
   "metadata": {},
   "outputs": [],
   "source": [
    "# a list containing 4 different variables of different types\n",
    "somedata = [\"text\", 7, 0.34, True]\n",
    "somedata"
   ]
  },
  {
   "cell_type": "markdown",
   "metadata": {},
   "source": [
    "We can check the length of a list (i.e. the number of values it contains) using the built-in `len()` function:"
   ]
  },
  {
   "cell_type": "code",
   "execution_count": null,
   "metadata": {},
   "outputs": [],
   "source": [
    "print(len(numbers))\n",
    "print(len(somedata))"
   ]
  },
  {
   "cell_type": "markdown",
   "metadata": {},
   "source": [
    "**Accessing Values**\n",
    "\n",
    "Entries in a list are accessed by specifying the **index** in square brackets - i.e. the position of the value in the list.\n",
    "\n",
    "Note: We always count from 0 in Python, so the first entry in a list has index 0"
   ]
  },
  {
   "cell_type": "code",
   "execution_count": null,
   "metadata": {},
   "outputs": [],
   "source": [
    "values = [34, 9, 12, 34]\n",
    "values[0]"
   ]
  },
  {
   "cell_type": "markdown",
   "metadata": {},
   "source": [
    "We can count from the end of the list backwards by using negative index numbers. The index -1 is the last entry in the list, the index -2 is the second last entry, and so on."
   ]
  },
  {
   "cell_type": "code",
   "execution_count": null,
   "metadata": {},
   "outputs": [],
   "source": [
    "values[-1]"
   ]
  },
  {
   "cell_type": "code",
   "execution_count": null,
   "metadata": {},
   "outputs": [],
   "source": [
    "values[-2]"
   ]
  },
  {
   "cell_type": "markdown",
   "metadata": {},
   "source": [
    "**Nesting**\n",
    "\n",
    "Lists can also be contained within other lists, which allows the construction of hierarchical data structures:"
   ]
  },
  {
   "cell_type": "code",
   "execution_count": null,
   "metadata": {},
   "outputs": [],
   "source": [
    "child1 = [12, 108, 23]\n",
    "child2 = [99, 4]\n",
    "child3 = [\"a\", \"b\", \"c\"]\n",
    "parent = [child1, child2, child3]\n",
    "print(parent)"
   ]
  },
  {
   "cell_type": "markdown",
   "metadata": {},
   "source": [
    "Values in nested lists can be accessed using multiple indexes in square brackets:"
   ]
  },
  {
   "cell_type": "code",
   "execution_count": null,
   "metadata": {},
   "outputs": [],
   "source": [
    "parent[0][2]"
   ]
  },
  {
   "cell_type": "code",
   "execution_count": null,
   "metadata": {},
   "outputs": [],
   "source": [
    "parent[2][1]"
   ]
  },
  {
   "cell_type": "markdown",
   "metadata": {},
   "source": [
    "**Slicing**\n",
    "\n",
    "Lists can also be **sliced** to access subsets of that list. The notation is `[i:j]`, where *i* is the start index inclusive and *j* is the end index exclusive. Remember that we always count from index 0:"
   ]
  },
  {
   "cell_type": "code",
   "execution_count": null,
   "metadata": {},
   "outputs": [],
   "source": [
    "fulllist = [9, 12, 23, 18, 21]\n",
    "fulllist[0:2]  # start at 1st item, end before 3rd item"
   ]
  },
  {
   "cell_type": "code",
   "execution_count": null,
   "metadata": {},
   "outputs": [],
   "source": [
    "fulllist[0:3]  # first three items"
   ]
  },
  {
   "cell_type": "markdown",
   "metadata": {},
   "source": [
    "When slicing, the default for *i* is 0, default for *j* is the end of the list."
   ]
  },
  {
   "cell_type": "code",
   "execution_count": null,
   "metadata": {},
   "outputs": [],
   "source": [
    "fulllist[1:]  # all items from the 2nd one onwards"
   ]
  },
  {
   "cell_type": "code",
   "execution_count": null,
   "metadata": {},
   "outputs": [],
   "source": [
    "fulllist[:4] # start at 1st item, end before 5th item"
   ]
  },
  {
   "cell_type": "markdown",
   "metadata": {},
   "source": [
    "**Modifying lists**\n",
    "\n",
    "Entries in a list can be changed after the list is created by specifying the index and performing assignment:"
   ]
  },
  {
   "cell_type": "code",
   "execution_count": null,
   "metadata": {},
   "outputs": [],
   "source": [
    "values = [34, 9, 12, 34]\n",
    "values[2] = 5000\n",
    "print(values)"
   ]
  },
  {
   "cell_type": "markdown",
   "metadata": {},
   "source": [
    "If we try to assign a value to an index that is beyond the length of the list, we will get an error message. Instead, we can add a value to the end of a list using the `append()` method:"
   ]
  },
  {
   "cell_type": "code",
   "execution_count": null,
   "metadata": {},
   "outputs": [],
   "source": [
    "values.append(\"extra\")\n",
    "print(values)"
   ]
  },
  {
   "cell_type": "markdown",
   "metadata": {},
   "source": [
    "We can also concatenate two or more lists together using the plus `+` operator:"
   ]
  },
  {
   "cell_type": "code",
   "execution_count": null,
   "metadata": {},
   "outputs": [],
   "source": [
    "values + [11, 27]"
   ]
  },
  {
   "cell_type": "code",
   "execution_count": null,
   "metadata": {},
   "outputs": [],
   "source": [
    "[\"A\",\"B\"] + [\"Y\",\"Z\"]"
   ]
  },
  {
   "cell_type": "markdown",
   "metadata": {},
   "source": [
    "We can insert a new value at a particular location in a list by using its associated `insert()` method. We specify the position and the value to insert as arguments. All the entries after that position are shifted to the right."
   ]
  },
  {
   "cell_type": "code",
   "execution_count": null,
   "metadata": {},
   "outputs": [],
   "source": [
    "values.insert(2, 88)\n",
    "values"
   ]
  },
  {
   "cell_type": "markdown",
   "metadata": {},
   "source": [
    "**Checking lists**\n",
    "\n",
    "The `in` identity operator can be used to test if a value is contained in a list. The result is a Boolean value:"
   ]
  },
  {
   "cell_type": "code",
   "execution_count": null,
   "metadata": {},
   "outputs": [],
   "source": [
    "mylist = [3, 6, 9, 12]"
   ]
  },
  {
   "cell_type": "code",
   "execution_count": null,
   "metadata": {},
   "outputs": [],
   "source": [
    "3 in mylist"
   ]
  },
  {
   "cell_type": "code",
   "execution_count": null,
   "metadata": {},
   "outputs": [],
   "source": [
    "27 in mylist"
   ]
  },
  {
   "cell_type": "markdown",
   "metadata": {},
   "source": [
    "The logical `not in` operator can be used to test if a value is missing from a list."
   ]
  },
  {
   "cell_type": "code",
   "execution_count": null,
   "metadata": {},
   "outputs": [],
   "source": [
    "27 not in mylist"
   ]
  },
  {
   "cell_type": "markdown",
   "metadata": {},
   "source": [
    "**Sorting lists**\n",
    "\n",
    "We can sort the items in a list by calling the `sort()` method on the list. Note that this sorts the list \"in place\" - i.e. the list itself is modified, rather than copied."
   ]
  },
  {
   "cell_type": "code",
   "execution_count": null,
   "metadata": {},
   "outputs": [],
   "source": [
    "# sort letters alphabetically (a to z)\n",
    "letters = [\"z\", \"b\", \"x\", \"d\", \"a\", \"c\"]\n",
    "letters.sort()\n",
    "print(\"Sorted letters:\", letters)"
   ]
  },
  {
   "cell_type": "markdown",
   "metadata": {},
   "source": [
    "We can also use the Python `sorted()` function, which returns a new sorted list, leaving the original list unchanged:"
   ]
  },
  {
   "cell_type": "code",
   "execution_count": null,
   "metadata": {},
   "outputs": [],
   "source": [
    "# sort the grades, A to E\n",
    "grades = [\"B\", \"A\", \"C\", \"C\", \"A\", \"E\"]\n",
    "sorted(grades)"
   ]
  },
  {
   "cell_type": "markdown",
   "metadata": {},
   "source": [
    "By default, values are sorted in *ascending order* (A-Z, lowest to highest):"
   ]
  },
  {
   "cell_type": "code",
   "execution_count": null,
   "metadata": {},
   "outputs": [],
   "source": [
    "numbers = [45, 12, 87, 3, 99, 21]\n",
    "numbers.sort()\n",
    "print(\"Numbers ascending:\", numbers)"
   ]
  },
  {
   "cell_type": "markdown",
   "metadata": {},
   "source": [
    "We can sort a list in *descending order* (Z-A, highest to lowest) by setting the `reverse` argument of the `sort()` method to `True`:"
   ]
  },
  {
   "cell_type": "code",
   "execution_count": null,
   "metadata": {},
   "outputs": [],
   "source": [
    "numbers2 = [45, 12, 87, 3, 99, 21]\n",
    "numbers2.sort(reverse=True)\n",
    "print(\"Numbers descending:\", numbers2)"
   ]
  },
  {
   "cell_type": "markdown",
   "metadata": {},
   "source": [
    "By setting `key` argument when calling the `sort()` method, we can define a custom criterion to determine how values are ordered during sorting.\n",
    "\n",
    "For example, we can sort the list `words` based on the length of each string by using the `key` argument with the `len` function."
   ]
  },
  {
   "cell_type": "code",
   "execution_count": null,
   "metadata": {},
   "outputs": [],
   "source": [
    "words = [\"elephant\", \"cat\", \"butterfly\", \"dog\", \"ant\"]\n",
    "words.sort(key=len)\n",
    "print(\"Words by length:\", words)"
   ]
  },
  {
   "cell_type": "markdown",
   "metadata": {},
   "source": [
    "The `sorted()` function works similarly but returns a new sorted list, leaving the original list unchanged:"
   ]
  },
  {
   "cell_type": "code",
   "execution_count": null,
   "metadata": {},
   "outputs": [],
   "source": [
    "# using sorted() - original list remains unchanged\n",
    "grades = [\"B\", \"A\", \"C\", \"C\", \"A\", \"E\"]\n",
    "sorted_grades = sorted(grades)\n",
    "print(\"Original grades:\", grades)\n",
    "print(\"Sorted grades:\", sorted_grades)"
   ]
  },
  {
   "cell_type": "markdown",
   "metadata": {},
   "source": [
    "**Reversing lists**\n",
    "\n",
    "To reverse the order of elements in a list, we can call its `reverse()` method. This modifies the original list in place."
   ]
  },
  {
   "cell_type": "code",
   "execution_count": null,
   "metadata": {},
   "outputs": [],
   "source": [
    "colors = [\"red\", \"green\", \"blue\", \"yellow\"]\n",
    "print(\"Original:\", colors)\n",
    "colors.reverse()\n",
    "print(\"After reverse():\", colors)"
   ]
  },
  {
   "cell_type": "markdown",
   "metadata": {},
   "source": [
    "Alternatively, we can use the slicing notation `[::-1]` which creates a new reversed list. The original list is not changed."
   ]
  },
  {
   "cell_type": "code",
   "execution_count": null,
   "metadata": {},
   "outputs": [],
   "source": [
    "numbers = [1, 2, 3, 4, 5]\n",
    "print(\"Original:\", numbers)\n",
    "reversed_numbers = numbers[::-1]\n",
    "print(\"Reversed copy:\", reversed_numbers)\n",
    "print(\"Original unchanged:\", numbers)"
   ]
  },
  {
   "cell_type": "markdown",
   "metadata": {
    "collapsed": true,
    "jupyter": {
     "outputs_hidden": true
    }
   },
   "source": [
    "## Tuples"
   ]
  },
  {
   "cell_type": "markdown",
   "metadata": {},
   "source": [
    "**Tuples** are like lists but are \"immutable\". This means that they cannot be modified after creation.\n",
    "\n",
    "Tuples are created using parenthesis notation, with values separated by commas:"
   ]
  },
  {
   "cell_type": "code",
   "execution_count": null,
   "metadata": {},
   "outputs": [],
   "source": [
    "suits = (\"hearts\", \"diamonds\", \"spades\", \"clubs\")\n",
    "suits"
   ]
  },
  {
   "cell_type": "markdown",
   "metadata": {},
   "source": [
    "Values in tuples are also accessed using the same square bracket index notation that we saw for lists."
   ]
  },
  {
   "cell_type": "code",
   "execution_count": null,
   "metadata": {},
   "outputs": [],
   "source": [
    "suits[0]"
   ]
  },
  {
   "cell_type": "code",
   "execution_count": null,
   "metadata": {},
   "outputs": [],
   "source": [
    "suits[-1]"
   ]
  },
  {
   "cell_type": "markdown",
   "metadata": {},
   "source": [
    "Like lists, different types of variables can be contained within the same tuple."
   ]
  },
  {
   "cell_type": "code",
   "execution_count": null,
   "metadata": {},
   "outputs": [],
   "source": [
    "t = (123, True, \"UCD\", 123.23)\n",
    "t"
   ]
  },
  {
   "cell_type": "markdown",
   "metadata": {},
   "source": [
    "However, unlike lists, we cannot modify the tuple once it has been defined. If we try to assign a new value to an index in the tuple, we will get an error message."
   ]
  },
  {
   "cell_type": "code",
   "execution_count": null,
   "metadata": {},
   "outputs": [],
   "source": [
    "t[3] = 3435"
   ]
  },
  {
   "cell_type": "markdown",
   "metadata": {},
   "source": [
    "## Sets"
   ]
  },
  {
   "cell_type": "markdown",
   "metadata": {},
   "source": [
    "Sets are unordered lists which contain no duplicate values. Sets do not have an order, so we cannot index into them by position:"
   ]
  },
  {
   "cell_type": "markdown",
   "metadata": {},
   "source": [
    "We can create a new set using curly brackets notation:"
   ]
  },
  {
   "cell_type": "code",
   "execution_count": null,
   "metadata": {},
   "outputs": [],
   "source": [
    "countries = {\"Ireland\", \"Spain\", \"Italy\", \"Croatia\"}\n",
    "countries"
   ]
  },
  {
   "cell_type": "code",
   "execution_count": null,
   "metadata": {},
   "outputs": [],
   "source": [
    "# a set with 4 different types\n",
    "mix = {\"UCD\", 2000, True, 15.6}\n",
    "mix"
   ]
  },
  {
   "cell_type": "markdown",
   "metadata": {},
   "source": [
    "To make a set without any elements, we call the `set()` function without any argument:"
   ]
  },
  {
   "cell_type": "code",
   "execution_count": null,
   "metadata": {},
   "outputs": [],
   "source": [
    "elements = set()\n",
    "elements"
   ]
  },
  {
   "cell_type": "markdown",
   "metadata": {},
   "source": [
    "We can also create sets from lists, strings or any other iterable value, using the `set()` function:"
   ]
  },
  {
   "cell_type": "code",
   "execution_count": null,
   "metadata": {},
   "outputs": [],
   "source": [
    "mylist = [1, 3, 1, 4, 3, 6, 8, 1, 4, 4]\n",
    "set(mylist)"
   ]
  },
  {
   "cell_type": "markdown",
   "metadata": {},
   "source": [
    "Note that only the unique values from the original list are retained:"
   ]
  },
  {
   "cell_type": "code",
   "execution_count": null,
   "metadata": {},
   "outputs": [],
   "source": [
    "# create a list with duplicates\n",
    "winners = [\"Brazil\", \"Germany\", \"Argentina\", \"Italy\", \"Argentina\", \"Germany\", \"Brazil\", \"France\", \"Brazil\", \"Italy\"]\n",
    "# get the unique values\n",
    "set(winners)"
   ]
  },
  {
   "cell_type": "markdown",
   "metadata": {},
   "source": [
    "The `in` membership operator also works on sets:"
   ]
  },
  {
   "cell_type": "code",
   "execution_count": null,
   "metadata": {},
   "outputs": [],
   "source": [
    "names = {\"Bill\", \"Lisa\", \"Ted\"}"
   ]
  },
  {
   "cell_type": "code",
   "execution_count": null,
   "metadata": {},
   "outputs": [],
   "source": [
    "'Bill' in names"
   ]
  },
  {
   "cell_type": "code",
   "execution_count": null,
   "metadata": {},
   "outputs": [],
   "source": [
    "'Sharon' in names"
   ]
  },
  {
   "cell_type": "markdown",
   "metadata": {},
   "source": [
    "**Modifying sets**\n",
    "\n",
    "To add a single value to an existing set, we call its associated `add()` method:"
   ]
  },
  {
   "cell_type": "code",
   "execution_count": null,
   "metadata": {},
   "outputs": [],
   "source": [
    "names.add(\"Catherine\")\n",
    "names"
   ]
  },
  {
   "cell_type": "markdown",
   "metadata": {},
   "source": [
    "Note that sets do not allow duplicates, so adding the same value multiple times has no effect:"
   ]
  },
  {
   "cell_type": "code",
   "execution_count": null,
   "metadata": {},
   "outputs": [],
   "source": [
    "names.add(\"Olivia\")\n",
    "names.add(\"Olivia\")\n",
    "names.add(\"Olivia\")\n",
    "names"
   ]
  },
  {
   "cell_type": "markdown",
   "metadata": {},
   "source": [
    "We can add multiple values to an existing set using its `update()` method. This method can take tuples, lists, strings or other sets as its argument."
   ]
  },
  {
   "cell_type": "code",
   "execution_count": null,
   "metadata": {},
   "outputs": [],
   "source": [
    "names.update([\"Bob\", \"Alice\", \"John\"])\n",
    "names"
   ]
  },
  {
   "cell_type": "markdown",
   "metadata": {},
   "source": [
    "**Comparing sets**\n",
    "\n",
    "We can easily calculate unions, intersections and differences for two sets:"
   ]
  },
  {
   "cell_type": "code",
   "execution_count": null,
   "metadata": {},
   "outputs": [],
   "source": [
    "x = {1, 2, 3, 4}\n",
    "y = {3, 4, 5, 6}"
   ]
  },
  {
   "cell_type": "code",
   "execution_count": null,
   "metadata": {},
   "outputs": [],
   "source": [
    "# which values are in both x and y?\n",
    "x.intersection(y)"
   ]
  },
  {
   "cell_type": "code",
   "execution_count": null,
   "metadata": {},
   "outputs": [],
   "source": [
    "# which are values are in either x or y, or both?\n",
    "x.union(y)"
   ]
  },
  {
   "cell_type": "code",
   "execution_count": null,
   "metadata": {},
   "outputs": [],
   "source": [
    "# which values are in x but not in y?\n",
    "x.difference(y)"
   ]
  },
  {
   "cell_type": "code",
   "execution_count": null,
   "metadata": {},
   "outputs": [],
   "source": [
    "# which values are in y but not in x?\n",
    "y.difference(x)    "
   ]
  },
  {
   "cell_type": "markdown",
   "metadata": {},
   "source": [
    "We can convert a *set* to a *list* data structure by calling the built-in `list()` function:"
   ]
  },
  {
   "cell_type": "code",
   "execution_count": null,
   "metadata": {},
   "outputs": [],
   "source": [
    "list(x)"
   ]
  },
  {
   "cell_type": "markdown",
   "metadata": {},
   "source": [
    "## Dictionaries"
   ]
  },
  {
   "cell_type": "markdown",
   "metadata": {},
   "source": [
    "A **dictionary** (sometimes called a map) is a data structure consisting of (key:value) pairs. Each **key** is linked to a **value**, and keys are unique:"
   ]
  },
  {
   "cell_type": "markdown",
   "metadata": {},
   "source": [
    "Dictionaries can be created using curly bracket notation, and can either be initially empty or populated with one or more pairs."
   ]
  },
  {
   "cell_type": "code",
   "execution_count": null,
   "metadata": {},
   "outputs": [],
   "source": [
    "# create an empty dictionary\n",
    "d0 = {}\n",
    "d0"
   ]
  },
  {
   "cell_type": "code",
   "execution_count": null,
   "metadata": {},
   "outputs": [],
   "source": [
    "# create a dictionary containing two pairs\n",
    "d1 = {\"Ireland\": \"Dublin\", \"France\": \"Paris\"}\n",
    "d1"
   ]
  },
  {
   "cell_type": "code",
   "execution_count": null,
   "metadata": {},
   "outputs": [],
   "source": [
    "# create a dictionary containing three pairs\n",
    "d2 = {\"age\": 22, \"name\": \"alice\", 100: False}\n",
    "d2"
   ]
  },
  {
   "cell_type": "markdown",
   "metadata": {},
   "source": [
    "We can check the number of key-value pairs in a dictionary using the built-in `len()` function:"
   ]
  },
  {
   "cell_type": "code",
   "execution_count": null,
   "metadata": {},
   "outputs": [],
   "source": [
    "len(d2)"
   ]
  },
  {
   "cell_type": "markdown",
   "metadata": {},
   "source": [
    "Note that types of keys and values in a dictionary can be mixed:"
   ]
  },
  {
   "cell_type": "code",
   "execution_count": null,
   "metadata": {},
   "outputs": [],
   "source": [
    "# create a dictionary with mixed key and value types\n",
    "mixedmap = {1: \"ucd\", 0.8: False, \"b\": 10, \"c\": \"d\"}\n",
    "mixedmap"
   ]
  },
  {
   "cell_type": "markdown",
   "metadata": {},
   "source": [
    "We can access a value in a dictionary by using the square bracket notation and specifying the corresponding key:"
   ]
  },
  {
   "cell_type": "code",
   "execution_count": null,
   "metadata": {},
   "outputs": [],
   "source": [
    "d1[\"Ireland\"]"
   ]
  },
  {
   "cell_type": "code",
   "execution_count": null,
   "metadata": {},
   "outputs": [],
   "source": [
    "d2[\"name\"]"
   ]
  },
  {
   "cell_type": "code",
   "execution_count": null,
   "metadata": {},
   "outputs": [],
   "source": [
    "mixedmap[1]"
   ]
  },
  {
   "cell_type": "markdown",
   "metadata": {},
   "source": [
    "If we try to access a value for a non-existent key in a dictionary, we will get an error message:"
   ]
  },
  {
   "cell_type": "code",
   "execution_count": null,
   "metadata": {},
   "outputs": [],
   "source": [
    "d1[\"Sweden\"]"
   ]
  },
  {
   "cell_type": "markdown",
   "metadata": {},
   "source": [
    "To avoid this type of error, check for the presence of a key in a dictionary using the `in` operator:"
   ]
  },
  {
   "cell_type": "code",
   "execution_count": null,
   "metadata": {},
   "outputs": [],
   "source": [
    "\"Ireland\" in d1"
   ]
  },
  {
   "cell_type": "code",
   "execution_count": null,
   "metadata": {},
   "outputs": [],
   "source": [
    "\"Sweden\" in d1"
   ]
  },
  {
   "cell_type": "markdown",
   "metadata": {},
   "source": [
    "We can easily add new values to a dictionary using square bracket notation and assignment. If a value does not already exist for a given key, it will be added:"
   ]
  },
  {
   "cell_type": "code",
   "execution_count": null,
   "metadata": {},
   "outputs": [],
   "source": [
    "d1[\"Germany\"] = \"Berlin\"\n",
    "d1"
   ]
  },
  {
   "cell_type": "markdown",
   "metadata": {},
   "source": [
    "If a value for the key exists, the previous value will be overwritten:"
   ]
  },
  {
   "cell_type": "code",
   "execution_count": null,
   "metadata": {},
   "outputs": [],
   "source": [
    "d1[\"Ireland\"] = \"Cork\"\n",
    "d1"
   ]
  },
  {
   "cell_type": "markdown",
   "metadata": {},
   "source": [
    "Dictionaries have various associated methods to access the keys and/or values."
   ]
  },
  {
   "cell_type": "code",
   "execution_count": null,
   "metadata": {},
   "outputs": [],
   "source": [
    "# get only the keys from a dictionary\n",
    "d2.keys()"
   ]
  },
  {
   "cell_type": "code",
   "execution_count": null,
   "metadata": {},
   "outputs": [],
   "source": [
    "# get only the values from a dictionary\n",
    "d2.values()"
   ]
  },
  {
   "cell_type": "code",
   "execution_count": null,
   "metadata": {},
   "outputs": [],
   "source": [
    "# get all (key:value) pairs as tuples\n",
    "d2.items()"
   ]
  },
  {
   "cell_type": "markdown",
   "metadata": {},
   "source": [
    "## Combining Different Data Structures\n",
    "\n",
    "In real-world applications, we often combine different data structures to create more complex and useful data representations. Here are some practical examples:"
   ]
  },
  {
   "cell_type": "markdown",
   "metadata": {},
   "source": [
    "**Example:** Lists of dictionaries"
   ]
  },
  {
   "cell_type": "code",
   "execution_count": null,
   "metadata": {},
   "outputs": [],
   "source": [
    "# represent student records as a list of dictionaries\n",
    "students = [\n",
    "    {\"name\": \"Alice\", \"age\": 20, \"grades\": [85, 92, 78]},\n",
    "    {\"name\": \"John\", \"age\": 21, \"grades\": [90, 88, 95]},\n",
    "    {\"name\": \"Mary\", \"age\": 19, \"grades\": [76, 82, 89]}\n",
    "]\n",
    "\n",
    "# access individual student information\n",
    "print(\"First student name:\", students[0][\"name\"])\n",
    "print(\"Second student grade:\", students[1][\"grades\"][0])\n",
    "print(\"Final student grade:\", students[-1][\"grades\"][0])\n",
    "\n",
    "# calculate average grade for Alice\n",
    "alice_avg = sum(students[0][\"grades\"]) / len(students[0][\"grades\"])\n",
    "print(f\"Alice's average grade: {alice_avg:.1f}\")"
   ]
  },
  {
   "cell_type": "markdown",
   "metadata": {},
   "source": [
    "**Example:** Dictionaries with sets as values"
   ]
  },
  {
   "cell_type": "code",
   "execution_count": null,
   "metadata": {},
   "outputs": [],
   "source": [
    "# movie genres with sets of movies\n",
    "movie_genres = {\n",
    "    \"action\": {\"Die Hard\", \"Mad Max\", \"John Wick\", \"The Matrix\"},\n",
    "    \"comedy\": {\"Happy Gilmore\", \"Superbad\", \"Anchorman\"},\n",
    "    \"sci-fi\": {\"Blade Runner\", \"The Matrix\", \"Interstellar\", \"Alien\"}\n",
    "}\n",
    "\n",
    "# find movies that are both action and sci-fi\n",
    "action_scifi = movie_genres[\"action\"].intersection(movie_genres[\"sci-fi\"])\n",
    "print(\"Action Sci-Fi movies:\", action_scifi)\n",
    "\n",
    "# add a new movie to a genre\n",
    "movie_genres[\"comedy\"].add(\"Dumb and Dumber\")\n",
    "print(\"Updated comedy movies:\", movie_genres[\"comedy\"])"
   ]
  }
 ],
 "metadata": {
  "kernelspec": {
   "display_name": "Python 3 (ipykernel)",
   "language": "python",
   "name": "python3"
  },
  "language_info": {
   "codemirror_mode": {
    "name": "ipython",
    "version": 3
   },
   "file_extension": ".py",
   "mimetype": "text/x-python",
   "name": "python",
   "nbconvert_exporter": "python",
   "pygments_lexer": "ipython3",
   "version": "3.13.5"
  }
 },
 "nbformat": 4,
 "nbformat_minor": 4
}
