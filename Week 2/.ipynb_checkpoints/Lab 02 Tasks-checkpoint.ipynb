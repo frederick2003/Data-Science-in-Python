{
 "cells": [
  {
   "cell_type": "markdown",
   "metadata": {},
   "source": [
    "# Lab Tasks"
   ]
  },
  {
   "cell_type": "markdown",
   "metadata": {},
   "source": [
    "## Task 1\n",
    "\n",
    "Create a function `sorted_random()` which generates a list of *n* random numbers, sorted in descending order (i.e. largest first). The number *n* should be an input argument for the function. If no value is specified for *n*, by default a list of 10 numbers should be generated."
   ]
  },
  {
   "cell_type": "code",
   "execution_count": null,
   "metadata": {},
   "outputs": [],
   "source": []
  },
  {
   "cell_type": "markdown",
   "metadata": {},
   "source": [
    "## Task 2\n",
    "\n",
    "Download the comma-separated file *scores.csv* from the module Brightspace page and save it to the same directory as your notebook. \n",
    "\n",
    "Write a function `display_numbers()` which takes one argument - an input file path. The function should read floating point numbers from each line in the specified file, and compute the sum for the values on each line. Print each sum to 2 decimal places. \n",
    "\n",
    "Apply the function `display_numbers()` to *scores.csv*."
   ]
  },
  {
   "cell_type": "code",
   "execution_count": null,
   "metadata": {},
   "outputs": [],
   "source": []
  },
  {
   "cell_type": "markdown",
   "metadata": {
    "collapsed": true,
    "jupyter": {
     "outputs_hidden": true
    }
   },
   "source": [
    "## Task 3\n",
    "\n",
    "Write a function `reverse_numbers()` which takes two arguments - 1) an input file path; 2) an output file path. The function should read floating point numbers from each line in the specified input file. The order of the values from in line should then be reversed, and these lines should be written to the specifed output file.\n",
    "\n",
    "Apply the function `reverse_numbers()` to the file *scores.csv* from Task 2 above to create a new output file *reversed.csv*."
   ]
  },
  {
   "cell_type": "code",
   "execution_count": null,
   "metadata": {},
   "outputs": [],
   "source": []
  },
  {
   "cell_type": "markdown",
   "metadata": {},
   "source": [
    "## Task 4\n",
    "\n",
    "Download the comma-separated file *worldcup.csv* from the module Brightspace page and save it to the same directory as your notebook. This data file contains a list of the winners and runners-up for all FIFA World Cup finals, one final per line.\n",
    "\n",
    "Write a function `count_finalists()` which takes a single argument (an input file path), reads the data, and displays the number of times each country has appeared in a World Cup final. Countries should be displayed in alphabetical order.\n",
    "\n",
    "Apply the function `count_finalists()` to the file *worldcup.csv*."
   ]
  },
  {
   "cell_type": "code",
   "execution_count": null,
   "metadata": {},
   "outputs": [],
   "source": []
  },
  {
   "cell_type": "markdown",
   "metadata": {},
   "source": [
    "## Task 5\n",
    "\n",
    "Write a function `validate_csv_data()` which takes a file path as input and validates that each line contains only numeric values (floats or integers). The function should:\n",
    "\n",
    "1. Read the file line by line\n",
    "2. Check if each value in each line can be converted to a float\n",
    "3. Print any validation errors with the line number\n",
    "4. Return the total number of valid lines processed\n",
    "\n",
    "Test your function with the *scores.csv* file and also create a test file with some invalid data to show that the validation process works correctly."
   ]
  },
  {
   "cell_type": "code",
   "execution_count": null,
   "metadata": {},
   "outputs": [],
   "source": []
  }
 ],
 "metadata": {
  "kernelspec": {
   "display_name": "Python 3 (ipykernel)",
   "language": "python",
   "name": "python3"
  },
  "language_info": {
   "codemirror_mode": {
    "name": "ipython",
    "version": 3
   },
   "file_extension": ".py",
   "mimetype": "text/x-python",
   "name": "python",
   "nbconvert_exporter": "python",
   "pygments_lexer": "ipython3",
   "version": "3.13.5"
  }
 },
 "nbformat": 4,
 "nbformat_minor": 4
}
