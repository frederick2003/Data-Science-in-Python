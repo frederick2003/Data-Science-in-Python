{
 "cells": [
  {
   "cell_type": "markdown",
   "metadata": {},
   "source": [
    "# Lab Tasks"
   ]
  },
  {
   "cell_type": "markdown",
   "metadata": {},
   "source": [
    "## Task 1\n",
    "\n",
    "Create a function `sorted_random()` which generates a list of *n* random numbers, sorted in descending order (i.e. largest first). The number *n* should be an input argument for the function. If no value is specified for *n*, by default a list of 10 numbers should be generated."
   ]
  },
  {
   "cell_type": "code",
   "execution_count": 20,
   "metadata": {},
   "outputs": [
    {
     "name": "stdout",
     "output_type": "stream",
     "text": [
      "[1822, 1649, 1544, 1525, 1489, 1444, 1398, 1289, 691, 681, 338, 29]\n"
     ]
    }
   ],
   "source": [
    "import random\n",
    "def sorted_random(n):\n",
    "    random_nums = []\n",
    "    if not isinstance(n,int):\n",
    "        n = 10\n",
    "    for i in range(n):\n",
    "        random_nums.append(random.randint(0,2000))\n",
    "    random_nums.sort(reverse=True)\n",
    "\n",
    "sorted_random(12)"
   ]
  },
  {
   "cell_type": "markdown",
   "metadata": {},
   "source": [
    "## Task 2\n",
    "\n",
    "Download the comma-separated file *scores.csv* from the module Brightspace page and save it to the same directory as your notebook. \n",
    "\n",
    "Write a function `display_numbers()` which takes one argument - an input file path. The function should read floating point numbers from each line in the specified file, and compute the sum for the values on each line. Print each sum to 2 decimal places. \n",
    "\n",
    "Apply the function `display_numbers()` to *scores.csv*."
   ]
  },
  {
   "cell_type": "code",
   "execution_count": 36,
   "metadata": {},
   "outputs": [
    {
     "name": "stdout",
     "output_type": "stream",
     "text": [
      "2.84\n",
      "3.57\n",
      "1.57\n",
      "2.41\n",
      "2.47\n",
      "3.02\n"
     ]
    }
   ],
   "source": [
    "def display_numbers(file_path):\n",
    "    file = open(file_path, 'r')\n",
    "    lines = file.readlines()\n",
    "    file.close()\n",
    "    for line in lines:\n",
    "        line = line.strip()\n",
    "        nums = line.split(',')\n",
    "        current_sum = 0\n",
    "        for num in nums:\n",
    "            current_sum += float(num)\n",
    "        print(f\"{current_sum:.2f}\")\n",
    "        \n",
    "display_numbers(\"scores.csv\")"
   ]
  },
  {
   "cell_type": "markdown",
   "metadata": {
    "collapsed": true,
    "jupyter": {
     "outputs_hidden": true
    }
   },
   "source": [
    "## Task 3\n",
    "\n",
    "Write a function `reverse_numbers()` which takes two arguments - 1) an input file path; 2) an output file path. The function should read floating point numbers from each line in the specified input file. The order of the values from in line should then be reversed, and these lines should be written to the specifed output file.\n",
    "\n",
    "Apply the function `reverse_numbers()` to the file *scores.csv* from Task 2 above to create a new output file *reversed.csv*."
   ]
  },
  {
   "cell_type": "code",
   "execution_count": 41,
   "metadata": {},
   "outputs": [],
   "source": [
    "def reverse_numbers(in_file_path, out_file_path):\n",
    "    out_file = open(out_file_path, 'w')\n",
    "    in_file = open(in_file_path, 'r')\n",
    "    lines = in_file.readlines()\n",
    "    in_file.close()\n",
    "    for line in lines:\n",
    "        line = line.strip()\n",
    "        nums = line.split(',')\n",
    "        nums.reverse()\n",
    "        for num in nums:\n",
    "            out_file.write(num + \",\")\n",
    "        out_file.write(\"\\n\")\n",
    "    out_file.close()\n",
    "reverse_numbers(\"scores.csv\", \"reversed.csv\")\n",
    "    "
   ]
  },
  {
   "cell_type": "markdown",
   "metadata": {},
   "source": [
    "## Task 4\n",
    "\n",
    "Download the comma-separated file *worldcup.csv* from the module Brightspace page and save it to the same directory as your notebook. This data file contains a list of the winners and runners-up for all FIFA World Cup finals, one final per line.\n",
    "\n",
    "Write a function `count_finalists()` which takes a single argument (an input file path), reads the data, and displays the number of times each country has appeared in a World Cup final. Countries should be displayed in alphabetical order.\n",
    "\n",
    "Apply the function `count_finalists()` to the file *worldcup.csv*."
   ]
  },
  {
   "cell_type": "code",
   "execution_count": 56,
   "metadata": {},
   "outputs": [
    {
     "name": "stdout",
     "output_type": "stream",
     "text": [
      "Argentina:5\n",
      "Brazil:7\n",
      "Croatia:1\n",
      "Czechoslovakia:2\n",
      "England:1\n",
      "France:3\n",
      "Germany:2\n",
      "Hungary:2\n",
      "Italy:6\n",
      "Netherlands:3\n",
      "Spain:1\n",
      "Sweden:1\n",
      "Uruguay:2\n",
      "West Germany:6\n"
     ]
    }
   ],
   "source": [
    "def count_finalists(in_file):\n",
    "    finalists = []\n",
    "    finalist_count = {}\n",
    "    file = open(in_file, \"r\")\n",
    "    lines = file.readlines()[1:]\n",
    "    file.close()\n",
    "    for line in lines:\n",
    "        line = line.strip()\n",
    "        countries = line.split(',')[1:]\n",
    "        for country in countries:\n",
    "            if country in finalist_count:\n",
    "                finalist_count[country] += 1\n",
    "            else:\n",
    "                finalist_count[country] = 1\n",
    "            \n",
    "    sorted_dict = dict(sorted(finalist_count.items()))\n",
    "            \n",
    "    for key, value in sorted_dict.items():\n",
    "        print(f\"{key}:{value}\")\n",
    "\n",
    "    \n",
    "\n",
    "    \n",
    "count_finalists(\"worldcup.csv\")"
   ]
  },
  {
   "cell_type": "markdown",
   "metadata": {},
   "source": [
    "## Task 5\n",
    "\n",
    "Write a function `validate_csv_data()` which takes a file path as input and validates that each line contains only numeric values (floats or integers). The function should:\n",
    "\n",
    "1. Read the file line by line\n",
    "2. Check if each value in each line can be converted to a float\n",
    "3. Print any validation errors with the line number\n",
    "4. Return the total number of valid lines processed\n",
    "\n",
    "Test your function with the *scores.csv* file and also create a test file with some invalid data to show that the validation process works correctly."
   ]
  },
  {
   "cell_type": "code",
   "execution_count": 70,
   "metadata": {},
   "outputs": [
    {
     "data": {
      "text/plain": [
       "5"
      ]
     },
     "execution_count": 70,
     "metadata": {},
     "output_type": "execute_result"
    }
   ],
   "source": [
    "def is_valid_float(value):\n",
    "    try:\n",
    "        float(value)\n",
    "        return True\n",
    "    except(TypeError,ValueError):\n",
    "        print(f\"{value} \")\n",
    "        return False\n",
    "def is_valid_int(value):\n",
    "    try:\n",
    "        int(value)\n",
    "        return True\n",
    "    except(TypeError, ValueError):\n",
    "        return False\n",
    "\n",
    "def validate_csv_data(input_file):\n",
    "    processed_lines = 0\n",
    "    file = open(input_file, 'r')\n",
    "    lines = file.readlines()\n",
    "    file.close()\n",
    "    for line in lines:\n",
    "        valid_line = True\n",
    "        line = line.strip()\n",
    "        parts = line.split(\",\")\n",
    "        for part in parts:\n",
    "            if not is_valid_float(part) and not is_valid_int(part):\n",
    "                valid_line = False\n",
    "                break\n",
    "        if valid_line:\n",
    "            processed_lines += 1\n",
    "    return processed_lines\n",
    "            \n",
    "        \n",
    "validate_csv_data(\"scores.csv\")"
   ]
  },
  {
   "cell_type": "code",
   "execution_count": null,
   "metadata": {},
   "outputs": [],
   "source": []
  }
 ],
 "metadata": {
  "kernelspec": {
   "display_name": "Python 3 (ipykernel)",
   "language": "python",
   "name": "python3"
  },
  "language_info": {
   "codemirror_mode": {
    "name": "ipython",
    "version": 3
   },
   "file_extension": ".py",
   "mimetype": "text/x-python",
   "name": "python",
   "nbconvert_exporter": "python",
   "pygments_lexer": "ipython3",
   "version": "3.13.5"
  }
 },
 "nbformat": 4,
 "nbformat_minor": 4
}
