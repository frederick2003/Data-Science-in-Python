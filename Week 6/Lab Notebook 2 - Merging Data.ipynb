{
 "cells": [
  {
   "cell_type": "markdown",
   "id": "af439bd5",
   "metadata": {},
   "source": [
    "# Merging Data\n",
    "\n",
    "We often want to combine data stored in multiple different sources into a single representation for analysis or modelling. In this notebook, we look at how we can **merge** data using Pandas DataFrames."
   ]
  },
  {
   "cell_type": "code",
   "execution_count": 1,
   "id": "6636d980",
   "metadata": {},
   "outputs": [],
   "source": [
    "import pandas as pd\n",
    "import matplotlib.pyplot as plt"
   ]
  },
  {
   "cell_type": "markdown",
   "id": "6164aadd-e3bf-406b-b088-f5ee33f74650",
   "metadata": {},
   "source": [
    "## Data Loading "
   ]
  },
  {
   "cell_type": "markdown",
   "id": "79c365f5-a554-422e-97de-e8b4c86559d5",
   "metadata": {},
   "source": [
    "We will work with records for university students and programmes, which are split across two separate CSV files:\n",
    "- *student_details.csv*: A master list of students with their unique student ID, first name, surname, gender, and university email.\n",
    "- *student_enrolment.csv*: Enrolment records for students, indicating their study level, school, and programme year linked by student ID."
   ]
  },
  {
   "cell_type": "code",
   "execution_count": 2,
   "id": "19bd53c7",
   "metadata": {
    "scrolled": true
   },
   "outputs": [
    {
     "name": "stdout",
     "output_type": "stream",
     "text": [
      "DataFrame has 50 rows and 5 columns\n",
      "Columns: ['student_id', 'firstname', 'lastname', 'gender', 'email']\n"
     ]
    },
    {
     "data": {
      "text/html": [
       "<div>\n",
       "<style scoped>\n",
       "    .dataframe tbody tr th:only-of-type {\n",
       "        vertical-align: middle;\n",
       "    }\n",
       "\n",
       "    .dataframe tbody tr th {\n",
       "        vertical-align: top;\n",
       "    }\n",
       "\n",
       "    .dataframe thead th {\n",
       "        text-align: right;\n",
       "    }\n",
       "</style>\n",
       "<table border=\"1\" class=\"dataframe\">\n",
       "  <thead>\n",
       "    <tr style=\"text-align: right;\">\n",
       "      <th></th>\n",
       "      <th>student_id</th>\n",
       "      <th>firstname</th>\n",
       "      <th>lastname</th>\n",
       "      <th>gender</th>\n",
       "      <th>email</th>\n",
       "    </tr>\n",
       "  </thead>\n",
       "  <tbody>\n",
       "    <tr>\n",
       "      <th>0</th>\n",
       "      <td>250001</td>\n",
       "      <td>Ciara</td>\n",
       "      <td>Walsh</td>\n",
       "      <td>F</td>\n",
       "      <td>ciara.walsh@uni.ie</td>\n",
       "    </tr>\n",
       "    <tr>\n",
       "      <th>1</th>\n",
       "      <td>250002</td>\n",
       "      <td>Micheal</td>\n",
       "      <td>Connolly</td>\n",
       "      <td>M</td>\n",
       "      <td>micheal.connolly@uni.ie</td>\n",
       "    </tr>\n",
       "    <tr>\n",
       "      <th>2</th>\n",
       "      <td>250003</td>\n",
       "      <td>Xu</td>\n",
       "      <td>Li</td>\n",
       "      <td>M</td>\n",
       "      <td>xu.li@uni.ie</td>\n",
       "    </tr>\n",
       "    <tr>\n",
       "      <th>3</th>\n",
       "      <td>250004</td>\n",
       "      <td>Sia</td>\n",
       "      <td>Khalfaoui</td>\n",
       "      <td>F</td>\n",
       "      <td>sia.khalfaoui@uni.ie</td>\n",
       "    </tr>\n",
       "    <tr>\n",
       "      <th>4</th>\n",
       "      <td>250005</td>\n",
       "      <td>Orlaith</td>\n",
       "      <td>Gallagher</td>\n",
       "      <td>F</td>\n",
       "      <td>orlaith.gallagher@uni.ie</td>\n",
       "    </tr>\n",
       "    <tr>\n",
       "      <th>5</th>\n",
       "      <td>250006</td>\n",
       "      <td>Nora</td>\n",
       "      <td>Curran</td>\n",
       "      <td>F</td>\n",
       "      <td>nora.curran@uni.ie</td>\n",
       "    </tr>\n",
       "    <tr>\n",
       "      <th>6</th>\n",
       "      <td>250007</td>\n",
       "      <td>Sophia</td>\n",
       "      <td>Kim</td>\n",
       "      <td>F</td>\n",
       "      <td>sophia.kim@uni.ie</td>\n",
       "    </tr>\n",
       "    <tr>\n",
       "      <th>7</th>\n",
       "      <td>250008</td>\n",
       "      <td>Dara</td>\n",
       "      <td>Ryan</td>\n",
       "      <td>M</td>\n",
       "      <td>dara.ryan@uni.ie</td>\n",
       "    </tr>\n",
       "    <tr>\n",
       "      <th>8</th>\n",
       "      <td>250009</td>\n",
       "      <td>Roisin</td>\n",
       "      <td>Ward</td>\n",
       "      <td>F</td>\n",
       "      <td>roisin.ward@uni.ie</td>\n",
       "    </tr>\n",
       "    <tr>\n",
       "      <th>9</th>\n",
       "      <td>250010</td>\n",
       "      <td>Brendan</td>\n",
       "      <td>Sheehan</td>\n",
       "      <td>M</td>\n",
       "      <td>brendan.sheehan@uni.ie</td>\n",
       "    </tr>\n",
       "  </tbody>\n",
       "</table>\n",
       "</div>"
      ],
      "text/plain": [
       "   student_id firstname   lastname gender                     email\n",
       "0      250001     Ciara      Walsh      F        ciara.walsh@uni.ie\n",
       "1      250002   Micheal   Connolly      M   micheal.connolly@uni.ie\n",
       "2      250003        Xu         Li      M              xu.li@uni.ie\n",
       "3      250004       Sia  Khalfaoui      F      sia.khalfaoui@uni.ie\n",
       "4      250005   Orlaith  Gallagher      F  orlaith.gallagher@uni.ie\n",
       "5      250006      Nora     Curran      F        nora.curran@uni.ie\n",
       "6      250007    Sophia        Kim      F         sophia.kim@uni.ie\n",
       "7      250008      Dara       Ryan      M          dara.ryan@uni.ie\n",
       "8      250009    Roisin       Ward      F        roisin.ward@uni.ie\n",
       "9      250010   Brendan    Sheehan      M    brendan.sheehan@uni.ie"
      ]
     },
     "execution_count": 2,
     "metadata": {},
     "output_type": "execute_result"
    }
   ],
   "source": [
    "# read the first dataset\n",
    "df_details = pd.read_csv(\"data/student_details.csv\")\n",
    "print(f\"DataFrame has {df_details.shape[0]} rows and {df_details.shape[1]} columns\")\n",
    "print(f\"Columns: {df_details.columns.tolist()}\")\n",
    "df_details.head(10)"
   ]
  },
  {
   "cell_type": "code",
   "execution_count": 3,
   "id": "69ba0af4-8ba7-46e6-84dd-9194f765bb38",
   "metadata": {
    "scrolled": true
   },
   "outputs": [
    {
     "name": "stdout",
     "output_type": "stream",
     "text": [
      "DataFrame has 45 rows and 4 columns\n",
      "Columns: ['student_id', 'level', 'school', 'year']\n"
     ]
    },
    {
     "data": {
      "text/html": [
       "<div>\n",
       "<style scoped>\n",
       "    .dataframe tbody tr th:only-of-type {\n",
       "        vertical-align: middle;\n",
       "    }\n",
       "\n",
       "    .dataframe tbody tr th {\n",
       "        vertical-align: top;\n",
       "    }\n",
       "\n",
       "    .dataframe thead th {\n",
       "        text-align: right;\n",
       "    }\n",
       "</style>\n",
       "<table border=\"1\" class=\"dataframe\">\n",
       "  <thead>\n",
       "    <tr style=\"text-align: right;\">\n",
       "      <th></th>\n",
       "      <th>student_id</th>\n",
       "      <th>level</th>\n",
       "      <th>school</th>\n",
       "      <th>year</th>\n",
       "    </tr>\n",
       "  </thead>\n",
       "  <tbody>\n",
       "    <tr>\n",
       "      <th>0</th>\n",
       "      <td>250004</td>\n",
       "      <td>Undergraduate</td>\n",
       "      <td>Mathematics</td>\n",
       "      <td>3</td>\n",
       "    </tr>\n",
       "    <tr>\n",
       "      <th>1</th>\n",
       "      <td>250008</td>\n",
       "      <td>Postgraduate Taught</td>\n",
       "      <td>Mathematics</td>\n",
       "      <td>1</td>\n",
       "    </tr>\n",
       "    <tr>\n",
       "      <th>2</th>\n",
       "      <td>250010</td>\n",
       "      <td>Undergraduate</td>\n",
       "      <td>Computer Science</td>\n",
       "      <td>1</td>\n",
       "    </tr>\n",
       "    <tr>\n",
       "      <th>3</th>\n",
       "      <td>250041</td>\n",
       "      <td>Undergraduate</td>\n",
       "      <td>Mathematics</td>\n",
       "      <td>1</td>\n",
       "    </tr>\n",
       "    <tr>\n",
       "      <th>4</th>\n",
       "      <td>250011</td>\n",
       "      <td>Undergraduate</td>\n",
       "      <td>Computer Science</td>\n",
       "      <td>2</td>\n",
       "    </tr>\n",
       "    <tr>\n",
       "      <th>5</th>\n",
       "      <td>250044</td>\n",
       "      <td>Undergraduate</td>\n",
       "      <td>Computer Science</td>\n",
       "      <td>2</td>\n",
       "    </tr>\n",
       "    <tr>\n",
       "      <th>6</th>\n",
       "      <td>250028</td>\n",
       "      <td>Postgraduate Research</td>\n",
       "      <td>Mathematics</td>\n",
       "      <td>4</td>\n",
       "    </tr>\n",
       "    <tr>\n",
       "      <th>7</th>\n",
       "      <td>250039</td>\n",
       "      <td>Postgraduate Research</td>\n",
       "      <td>Chemistry</td>\n",
       "      <td>2</td>\n",
       "    </tr>\n",
       "    <tr>\n",
       "      <th>8</th>\n",
       "      <td>250005</td>\n",
       "      <td>Undergraduate</td>\n",
       "      <td>Physics</td>\n",
       "      <td>3</td>\n",
       "    </tr>\n",
       "    <tr>\n",
       "      <th>9</th>\n",
       "      <td>250025</td>\n",
       "      <td>Undergraduate</td>\n",
       "      <td>Chemistry</td>\n",
       "      <td>1</td>\n",
       "    </tr>\n",
       "  </tbody>\n",
       "</table>\n",
       "</div>"
      ],
      "text/plain": [
       "   student_id                  level            school  year\n",
       "0      250004          Undergraduate       Mathematics     3\n",
       "1      250008    Postgraduate Taught       Mathematics     1\n",
       "2      250010          Undergraduate  Computer Science     1\n",
       "3      250041          Undergraduate       Mathematics     1\n",
       "4      250011          Undergraduate  Computer Science     2\n",
       "5      250044          Undergraduate  Computer Science     2\n",
       "6      250028  Postgraduate Research       Mathematics     4\n",
       "7      250039  Postgraduate Research         Chemistry     2\n",
       "8      250005          Undergraduate           Physics     3\n",
       "9      250025          Undergraduate         Chemistry     1"
      ]
     },
     "execution_count": 3,
     "metadata": {},
     "output_type": "execute_result"
    }
   ],
   "source": [
    "# read the second dataset\n",
    "df_enrol = pd.read_csv(\"data/student_enrolment.csv\")\n",
    "print(f\"DataFrame has {df_enrol.shape[0]} rows and {df_enrol.shape[1]} columns\")\n",
    "print(f\"Columns: {df_enrol.columns.tolist()}\")\n",
    "df_enrol.head(10)"
   ]
  },
  {
   "cell_type": "markdown",
   "id": "8b87d1d2-dfc4-438c-8d9e-a6c0bc1b25c3",
   "metadata": {},
   "source": [
    "## Merging Data - Inner Joins\n",
    "\n",
    "Merging two DataFrames in Pandas involves matching rows based on one or more key columns and combining their associated data into a single unified DataFrame. We do this using the `pd.merge()` function.\n",
    "\n",
    "The most common type of merge in Pandas is an **inner join**. This operation keeps only rows that have matching keys in both DataFrames."
   ]
  },
  {
   "cell_type": "markdown",
   "id": "7c431bd9-315f-4722-87f2-c1e980c09bcc",
   "metadata": {},
   "source": [
    "In the case of our data, we join the two DataFrames based on the column `student_id` in each case, so only students who are present in both files will appear in the result. \n",
    "\n",
    "Note that when we call the `pd.merge()` function here, the argument `how=\"inner\"` indicates that an inner join is to be performed."
   ]
  },
  {
   "cell_type": "code",
   "execution_count": 4,
   "id": "6acbaa2d-a664-4da6-a048-f5142b92188a",
   "metadata": {},
   "outputs": [
    {
     "name": "stdout",
     "output_type": "stream",
     "text": [
      "Merged DataFrame has 45 rows and 8 columns\n",
      "Merged Columns: ['student_id', 'firstname', 'lastname', 'gender', 'email', 'level', 'school', 'year']\n"
     ]
    }
   ],
   "source": [
    "# perform inner join on student_id\n",
    "df_merged1 = pd.merge(\n",
    "    df_details, df_enrol,\n",
    "    how=\"inner\",\n",
    "    on=\"student_id\"\n",
    ")\n",
    "\n",
    "print(f\"Merged DataFrame has {df_merged1.shape[0]} rows and {df_merged1.shape[1]} columns\")\n",
    "print(f\"Merged Columns: {df_merged1.columns.tolist()}\")"
   ]
  },
  {
   "cell_type": "markdown",
   "id": "522e5816-7441-438f-bcb9-6e86caf60b1f",
   "metadata": {},
   "source": [
    "Notice that our new merged DataFrame only contains rows whose `student_id` appears in both input DataFrames, so any students without a matching enrolment are excluded from the result."
   ]
  },
  {
   "cell_type": "code",
   "execution_count": 5,
   "id": "f18fa384-3122-4229-a31d-a96987ec9e7b",
   "metadata": {},
   "outputs": [
    {
     "name": "stdout",
     "output_type": "stream",
     "text": [
      "Count of original students: 50\n",
      "Count of enrolled students: 45\n",
      "Missing students:\n"
     ]
    },
    {
     "data": {
      "text/plain": [
       "{250002, 250012, 250016, 250037, 250042}"
      ]
     },
     "execution_count": 5,
     "metadata": {},
     "output_type": "execute_result"
    }
   ],
   "source": [
    "# check the original student IDs from the details table\n",
    "details_student_ids = set(df_details[\"student_id\"])\n",
    "print(f\"Count of original students: {len(details_student_ids)}\")\n",
    "\n",
    "# check the student IDs from the merged table\n",
    "merged1_student_ids = set(df_merged1[\"student_id\"])\n",
    "print(f\"Count of enrolled students: {len(merged1_student_ids)}\")\n",
    "\n",
    "# which students aren't enrolled?\n",
    "print(\"Missing students:\")\n",
    "details_student_ids.difference(merged1_student_ids)"
   ]
  },
  {
   "cell_type": "markdown",
   "id": "78c1fcbc",
   "metadata": {},
   "source": [
    "We could now perform characterisation of the data in our merged DataFrame.\n",
    "\n",
    "For instance, we could look at gender balance by programme level or by school:"
   ]
  },
  {
   "cell_type": "code",
   "execution_count": 6,
   "id": "555e2cce",
   "metadata": {
    "scrolled": true
   },
   "outputs": [
    {
     "data": {
      "text/html": [
       "<div>\n",
       "<style scoped>\n",
       "    .dataframe tbody tr th:only-of-type {\n",
       "        vertical-align: middle;\n",
       "    }\n",
       "\n",
       "    .dataframe tbody tr th {\n",
       "        vertical-align: top;\n",
       "    }\n",
       "\n",
       "    .dataframe thead th {\n",
       "        text-align: right;\n",
       "    }\n",
       "</style>\n",
       "<table border=\"1\" class=\"dataframe\">\n",
       "  <thead>\n",
       "    <tr style=\"text-align: right;\">\n",
       "      <th>gender</th>\n",
       "      <th>F</th>\n",
       "      <th>M</th>\n",
       "      <th>All</th>\n",
       "    </tr>\n",
       "    <tr>\n",
       "      <th>level</th>\n",
       "      <th></th>\n",
       "      <th></th>\n",
       "      <th></th>\n",
       "    </tr>\n",
       "  </thead>\n",
       "  <tbody>\n",
       "    <tr>\n",
       "      <th>Postgraduate Research</th>\n",
       "      <td>7</td>\n",
       "      <td>6</td>\n",
       "      <td>13</td>\n",
       "    </tr>\n",
       "    <tr>\n",
       "      <th>Postgraduate Taught</th>\n",
       "      <td>2</td>\n",
       "      <td>4</td>\n",
       "      <td>6</td>\n",
       "    </tr>\n",
       "    <tr>\n",
       "      <th>Undergraduate</th>\n",
       "      <td>15</td>\n",
       "      <td>11</td>\n",
       "      <td>26</td>\n",
       "    </tr>\n",
       "    <tr>\n",
       "      <th>All</th>\n",
       "      <td>24</td>\n",
       "      <td>21</td>\n",
       "      <td>45</td>\n",
       "    </tr>\n",
       "  </tbody>\n",
       "</table>\n",
       "</div>"
      ],
      "text/plain": [
       "gender                  F   M  All\n",
       "level                             \n",
       "Postgraduate Research   7   6   13\n",
       "Postgraduate Taught     2   4    6\n",
       "Undergraduate          15  11   26\n",
       "All                    24  21   45"
      ]
     },
     "execution_count": 6,
     "metadata": {},
     "output_type": "execute_result"
    }
   ],
   "source": [
    "# cross tabulation of level and gender\n",
    "pd.crosstab(df_merged1[\"level\"], df_merged1[\"gender\"], margins=True)"
   ]
  },
  {
   "cell_type": "code",
   "execution_count": 7,
   "id": "523a71c5",
   "metadata": {},
   "outputs": [
    {
     "data": {
      "text/html": [
       "<div>\n",
       "<style scoped>\n",
       "    .dataframe tbody tr th:only-of-type {\n",
       "        vertical-align: middle;\n",
       "    }\n",
       "\n",
       "    .dataframe tbody tr th {\n",
       "        vertical-align: top;\n",
       "    }\n",
       "\n",
       "    .dataframe thead th {\n",
       "        text-align: right;\n",
       "    }\n",
       "</style>\n",
       "<table border=\"1\" class=\"dataframe\">\n",
       "  <thead>\n",
       "    <tr style=\"text-align: right;\">\n",
       "      <th>gender</th>\n",
       "      <th>F</th>\n",
       "      <th>M</th>\n",
       "      <th>All</th>\n",
       "    </tr>\n",
       "    <tr>\n",
       "      <th>school</th>\n",
       "      <th></th>\n",
       "      <th></th>\n",
       "      <th></th>\n",
       "    </tr>\n",
       "  </thead>\n",
       "  <tbody>\n",
       "    <tr>\n",
       "      <th>Chemistry</th>\n",
       "      <td>5</td>\n",
       "      <td>2</td>\n",
       "      <td>7</td>\n",
       "    </tr>\n",
       "    <tr>\n",
       "      <th>Computer Science</th>\n",
       "      <td>10</td>\n",
       "      <td>10</td>\n",
       "      <td>20</td>\n",
       "    </tr>\n",
       "    <tr>\n",
       "      <th>Mathematics</th>\n",
       "      <td>4</td>\n",
       "      <td>6</td>\n",
       "      <td>10</td>\n",
       "    </tr>\n",
       "    <tr>\n",
       "      <th>Physics</th>\n",
       "      <td>5</td>\n",
       "      <td>3</td>\n",
       "      <td>8</td>\n",
       "    </tr>\n",
       "    <tr>\n",
       "      <th>All</th>\n",
       "      <td>24</td>\n",
       "      <td>21</td>\n",
       "      <td>45</td>\n",
       "    </tr>\n",
       "  </tbody>\n",
       "</table>\n",
       "</div>"
      ],
      "text/plain": [
       "gender             F   M  All\n",
       "school                       \n",
       "Chemistry          5   2    7\n",
       "Computer Science  10  10   20\n",
       "Mathematics        4   6   10\n",
       "Physics            5   3    8\n",
       "All               24  21   45"
      ]
     },
     "execution_count": 7,
     "metadata": {},
     "output_type": "execute_result"
    }
   ],
   "source": [
    "# cross tabulation of school and gender\n",
    "pd.crosstab(df_merged1[\"school\"], df_merged1[\"gender\"], margins=True)"
   ]
  },
  {
   "cell_type": "markdown",
   "id": "c7d93e1d-fb92-4e90-baa7-197be59fd7da",
   "metadata": {},
   "source": [
    "## Merging Data - Outer Joins\n",
    "\n",
    "An alternative merging strategy is an **outer join**. This includes all keys from both tables: matched rows where possible, and unmatched rows filled with missing values. This is useful for a completeness view, but it introduces missing values for non-matches."
   ]
  },
  {
   "cell_type": "markdown",
   "id": "67c34960-c81e-4d26-a3a1-17be813ca6f8",
   "metadata": {},
   "source": [
    "Again, we will join the two DataFrames based on the column `student_id`. However, when we call the `pd.merge()` function now, the argument `how=\"outer\"` indicates that an outer join is to be performed."
   ]
  },
  {
   "cell_type": "code",
   "execution_count": 8,
   "id": "ae33876c-3df5-4e2c-9398-7b0605f0ae52",
   "metadata": {},
   "outputs": [
    {
     "name": "stdout",
     "output_type": "stream",
     "text": [
      "Merged DataFrame has 50 rows and 8 columns\n",
      "Merged Columns: ['student_id', 'firstname', 'lastname', 'gender', 'email', 'level', 'school', 'year']\n"
     ]
    }
   ],
   "source": [
    "# perform outer join\n",
    "df_merged2 = pd.merge(\n",
    "    df_details, df_enrol,\n",
    "    how=\"outer\"\n",
    ")\n",
    "\n",
    "print(f\"Merged DataFrame has {df_merged2.shape[0]} rows and {df_merged2.shape[1]} columns\")\n",
    "print(f\"Merged Columns: {df_merged2.columns.tolist()}\")"
   ]
  },
  {
   "cell_type": "markdown",
   "id": "65215fba-bbc3-45df-8dfa-9734285d0437",
   "metadata": {},
   "source": [
    "Notice now that our merged DataFrame now contains rows for all students in the original details DataFrame.\n",
    "\n",
    "However, we do now have rows with missing values - i.e. students that are not enrolled on aany programme."
   ]
  },
  {
   "cell_type": "code",
   "execution_count": 9,
   "id": "88e296dc-2f27-49b2-ae3c-b7c83447fbf2",
   "metadata": {},
   "outputs": [
    {
     "data": {
      "text/plain": [
       "student_id    0\n",
       "firstname     0\n",
       "lastname      0\n",
       "gender        0\n",
       "email         0\n",
       "level         5\n",
       "school        5\n",
       "year          5\n",
       "dtype: int64"
      ]
     },
     "execution_count": 9,
     "metadata": {},
     "output_type": "execute_result"
    }
   ],
   "source": [
    "# check columns for missing values \n",
    "df_merged2.isna().sum()"
   ]
  },
  {
   "cell_type": "code",
   "execution_count": 10,
   "id": "db357a6b-2462-4591-8577-3ec9f8481b3a",
   "metadata": {},
   "outputs": [
    {
     "data": {
      "text/html": [
       "<div>\n",
       "<style scoped>\n",
       "    .dataframe tbody tr th:only-of-type {\n",
       "        vertical-align: middle;\n",
       "    }\n",
       "\n",
       "    .dataframe tbody tr th {\n",
       "        vertical-align: top;\n",
       "    }\n",
       "\n",
       "    .dataframe thead th {\n",
       "        text-align: right;\n",
       "    }\n",
       "</style>\n",
       "<table border=\"1\" class=\"dataframe\">\n",
       "  <thead>\n",
       "    <tr style=\"text-align: right;\">\n",
       "      <th></th>\n",
       "      <th>student_id</th>\n",
       "      <th>firstname</th>\n",
       "      <th>lastname</th>\n",
       "      <th>gender</th>\n",
       "      <th>email</th>\n",
       "      <th>level</th>\n",
       "      <th>school</th>\n",
       "      <th>year</th>\n",
       "    </tr>\n",
       "  </thead>\n",
       "  <tbody>\n",
       "    <tr>\n",
       "      <th>1</th>\n",
       "      <td>250002</td>\n",
       "      <td>Micheal</td>\n",
       "      <td>Connolly</td>\n",
       "      <td>M</td>\n",
       "      <td>micheal.connolly@uni.ie</td>\n",
       "      <td>NaN</td>\n",
       "      <td>NaN</td>\n",
       "      <td>NaN</td>\n",
       "    </tr>\n",
       "    <tr>\n",
       "      <th>11</th>\n",
       "      <td>250012</td>\n",
       "      <td>Bob</td>\n",
       "      <td>Maguire</td>\n",
       "      <td>M</td>\n",
       "      <td>bob.maguire@uni.ie</td>\n",
       "      <td>NaN</td>\n",
       "      <td>NaN</td>\n",
       "      <td>NaN</td>\n",
       "    </tr>\n",
       "    <tr>\n",
       "      <th>15</th>\n",
       "      <td>250016</td>\n",
       "      <td>Fiona</td>\n",
       "      <td>O'Reilly</td>\n",
       "      <td>F</td>\n",
       "      <td>fiona.oreilly@uni.ie</td>\n",
       "      <td>NaN</td>\n",
       "      <td>NaN</td>\n",
       "      <td>NaN</td>\n",
       "    </tr>\n",
       "    <tr>\n",
       "      <th>36</th>\n",
       "      <td>250037</td>\n",
       "      <td>Alan</td>\n",
       "      <td>Higgins</td>\n",
       "      <td>M</td>\n",
       "      <td>alan.higgins@uni.ie</td>\n",
       "      <td>NaN</td>\n",
       "      <td>NaN</td>\n",
       "      <td>NaN</td>\n",
       "    </tr>\n",
       "    <tr>\n",
       "      <th>41</th>\n",
       "      <td>250042</td>\n",
       "      <td>Saoirse</td>\n",
       "      <td>Corcoran</td>\n",
       "      <td>F</td>\n",
       "      <td>saoirse.corcoran@uni.ie</td>\n",
       "      <td>NaN</td>\n",
       "      <td>NaN</td>\n",
       "      <td>NaN</td>\n",
       "    </tr>\n",
       "  </tbody>\n",
       "</table>\n",
       "</div>"
      ],
      "text/plain": [
       "    student_id firstname  lastname gender                    email level  \\\n",
       "1       250002   Micheal  Connolly      M  micheal.connolly@uni.ie   NaN   \n",
       "11      250012       Bob   Maguire      M       bob.maguire@uni.ie   NaN   \n",
       "15      250016     Fiona  O'Reilly      F     fiona.oreilly@uni.ie   NaN   \n",
       "36      250037      Alan   Higgins      M      alan.higgins@uni.ie   NaN   \n",
       "41      250042   Saoirse  Corcoran      F  saoirse.corcoran@uni.ie   NaN   \n",
       "\n",
       "   school  year  \n",
       "1     NaN   NaN  \n",
       "11    NaN   NaN  \n",
       "15    NaN   NaN  \n",
       "36    NaN   NaN  \n",
       "41    NaN   NaN  "
      ]
     },
     "execution_count": 10,
     "metadata": {},
     "output_type": "execute_result"
    }
   ],
   "source": [
    "# check which rows have missing values (i.e. students not enrolled)\n",
    "df_merged2[df_merged2.isna().any(axis=1)]"
   ]
  },
  {
   "cell_type": "markdown",
   "id": "6dbd860a-9a62-49df-9aed-7686edb74a82",
   "metadata": {},
   "source": [
    "We could decide to replace the missing values in some of these columns:"
   ]
  },
  {
   "cell_type": "code",
   "execution_count": 11,
   "id": "c77b9a9d-7a43-472f-bcba-ba46e30a7512",
   "metadata": {},
   "outputs": [],
   "source": [
    "df_merged2[\"level\"] = df_merged2[\"level\"].fillna(\"Unknown\")\n",
    "df_merged2[\"school\"] = df_merged2[\"school\"].fillna(\"Not allocated\")"
   ]
  },
  {
   "cell_type": "markdown",
   "id": "b298728d-5998-421a-b39c-1b301c5e270b",
   "metadata": {},
   "source": [
    "Use frequency tables to check the counts for these columns, after filling missing values:"
   ]
  },
  {
   "cell_type": "code",
   "execution_count": 12,
   "id": "b9c926cc-4b36-44e2-8f16-381722b8ff94",
   "metadata": {},
   "outputs": [
    {
     "name": "stdout",
     "output_type": "stream",
     "text": [
      "- Column: level\n"
     ]
    },
    {
     "data": {
      "text/plain": [
       "level\n",
       "Undergraduate            26\n",
       "Postgraduate Research    13\n",
       "Postgraduate Taught       6\n",
       "Unknown                   5\n",
       "Name: count, dtype: int64"
      ]
     },
     "metadata": {},
     "output_type": "display_data"
    },
    {
     "name": "stdout",
     "output_type": "stream",
     "text": [
      "\n",
      "- Column: school\n"
     ]
    },
    {
     "data": {
      "text/plain": [
       "school\n",
       "Computer Science    20\n",
       "Mathematics         10\n",
       "Physics              8\n",
       "Chemistry            7\n",
       "Not allocated        5\n",
       "Name: count, dtype: int64"
      ]
     },
     "metadata": {},
     "output_type": "display_data"
    },
    {
     "name": "stdout",
     "output_type": "stream",
     "text": [
      "\n"
     ]
    }
   ],
   "source": [
    "for col in [\"level\", \"school\"]:\n",
    "    print(f\"- Column: {col}\")\n",
    "    display(df_merged2[col].value_counts())\n",
    "    print()"
   ]
  }
 ],
 "metadata": {
  "kernelspec": {
   "display_name": "Python 3 (ipykernel)",
   "language": "python",
   "name": "python3"
  },
  "language_info": {
   "codemirror_mode": {
    "name": "ipython",
    "version": 3
   },
   "file_extension": ".py",
   "mimetype": "text/x-python",
   "name": "python",
   "nbconvert_exporter": "python",
   "pygments_lexer": "ipython3",
   "version": "3.13.5"
  }
 },
 "nbformat": 4,
 "nbformat_minor": 5
}
