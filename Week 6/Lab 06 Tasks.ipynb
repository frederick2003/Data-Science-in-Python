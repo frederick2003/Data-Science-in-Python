{
 "cells": [
  {
   "cell_type": "markdown",
   "metadata": {},
   "source": [
    "# Lab Tasks\n",
    "\n",
    "In this notebook we will analyse a dataset from an Irish triathlon by using the Pandas library. In the dataset, each row represents an athlete, described by a number of different descriptive features:\n",
    "\n",
    "- *Number:* The athlete's race bib number\n",
    "- *Place:* The place in which the athlete finished the race\n",
    "- *Age:* The athlete's age\n",
    "- *Gender:* The gender that the athlete declared ('M' or 'F')\n",
    "- *Province:* The Irish province where the athlete comes from (Leinster, Munster, Connacht, Ulster)\n",
    "- *Swim:* The time taken for the swimming segment of the event (in seconds)\n",
    "- *T1:* The time taken for the first transition of the event, from cycling to swimming (in seconds)\n",
    "- *Cycle:* The time taken for the cycling segment of the event (in seconds)\n",
    "- *T2:* The time taken for the swimming segment of the event, from swimming to running (in seconds)\n",
    "- *Run:* The time taken for the running segment of the event (in seconds)"
   ]
  },
  {
   "cell_type": "code",
   "execution_count": 38,
   "metadata": {},
   "outputs": [],
   "source": [
    "import pandas as pd\n",
    "import urllib.request\n",
    "import urllib.error"
   ]
  },
  {
   "cell_type": "markdown",
   "metadata": {},
   "source": [
    "## Task 1 - Data Loading and Preparation"
   ]
  },
  {
   "cell_type": "markdown",
   "metadata": {},
   "source": [
    "Use Python to download a file containing triathlon dataset in CSV format from the URL:\n",
    "\n",
    "http://mlg.ucd.ie/modules/python/triathlon.csv\n",
    "\n",
    "Load the dataset into a Pandas DataFrame, where the row index will be given by the athlete's bib number. Display the first 20 rows of the DataFrame."
   ]
  },
  {
   "cell_type": "code",
   "execution_count": 39,
   "metadata": {},
   "outputs": [
    {
     "data": {
      "text/html": [
       "<div>\n",
       "<style scoped>\n",
       "    .dataframe tbody tr th:only-of-type {\n",
       "        vertical-align: middle;\n",
       "    }\n",
       "\n",
       "    .dataframe tbody tr th {\n",
       "        vertical-align: top;\n",
       "    }\n",
       "\n",
       "    .dataframe thead th {\n",
       "        text-align: right;\n",
       "    }\n",
       "</style>\n",
       "<table border=\"1\" class=\"dataframe\">\n",
       "  <thead>\n",
       "    <tr style=\"text-align: right;\">\n",
       "      <th></th>\n",
       "      <th>Place</th>\n",
       "      <th>Gender</th>\n",
       "      <th>Age</th>\n",
       "      <th>Province</th>\n",
       "      <th>Swim</th>\n",
       "      <th>T1</th>\n",
       "      <th>Cycle</th>\n",
       "      <th>T2</th>\n",
       "      <th>Run</th>\n",
       "    </tr>\n",
       "    <tr>\n",
       "      <th>Number</th>\n",
       "      <th></th>\n",
       "      <th></th>\n",
       "      <th></th>\n",
       "      <th></th>\n",
       "      <th></th>\n",
       "      <th></th>\n",
       "      <th></th>\n",
       "      <th></th>\n",
       "      <th></th>\n",
       "    </tr>\n",
       "  </thead>\n",
       "  <tbody>\n",
       "    <tr>\n",
       "      <th>1</th>\n",
       "      <td>11.0</td>\n",
       "      <td>M</td>\n",
       "      <td>19</td>\n",
       "      <td>Munster</td>\n",
       "      <td>518</td>\n",
       "      <td>64.0</td>\n",
       "      <td>2293.0</td>\n",
       "      <td>42.0</td>\n",
       "      <td>1446.0</td>\n",
       "    </tr>\n",
       "    <tr>\n",
       "      <th>2</th>\n",
       "      <td>129.0</td>\n",
       "      <td>M</td>\n",
       "      <td>25</td>\n",
       "      <td>Leinster</td>\n",
       "      <td>1102</td>\n",
       "      <td>124.0</td>\n",
       "      <td>2662.0</td>\n",
       "      <td>47.0</td>\n",
       "      <td>1723.0</td>\n",
       "    </tr>\n",
       "    <tr>\n",
       "      <th>3</th>\n",
       "      <td>35.0</td>\n",
       "      <td>M</td>\n",
       "      <td>25</td>\n",
       "      <td>Leinster</td>\n",
       "      <td>693</td>\n",
       "      <td>138.0</td>\n",
       "      <td>2472.0</td>\n",
       "      <td>42.0</td>\n",
       "      <td>1466.0</td>\n",
       "    </tr>\n",
       "    <tr>\n",
       "      <th>4</th>\n",
       "      <td>153.0</td>\n",
       "      <td>M</td>\n",
       "      <td>26</td>\n",
       "      <td>Munster</td>\n",
       "      <td>906</td>\n",
       "      <td>318.0</td>\n",
       "      <td>3002.0</td>\n",
       "      <td>62.0</td>\n",
       "      <td>1648.0</td>\n",
       "    </tr>\n",
       "    <tr>\n",
       "      <th>5</th>\n",
       "      <td>34.0</td>\n",
       "      <td>M</td>\n",
       "      <td>21</td>\n",
       "      <td>Connacht</td>\n",
       "      <td>566</td>\n",
       "      <td>131.0</td>\n",
       "      <td>2518.0</td>\n",
       "      <td>65.0</td>\n",
       "      <td>1522.0</td>\n",
       "    </tr>\n",
       "    <tr>\n",
       "      <th>6</th>\n",
       "      <td>131.0</td>\n",
       "      <td>M</td>\n",
       "      <td>25</td>\n",
       "      <td>Connacht</td>\n",
       "      <td>940</td>\n",
       "      <td>202.0</td>\n",
       "      <td>3083.0</td>\n",
       "      <td>63.0</td>\n",
       "      <td>1381.0</td>\n",
       "    </tr>\n",
       "    <tr>\n",
       "      <th>7</th>\n",
       "      <td>169.0</td>\n",
       "      <td>M</td>\n",
       "      <td>23</td>\n",
       "      <td>Leinster</td>\n",
       "      <td>1118</td>\n",
       "      <td>366.0</td>\n",
       "      <td>3114.0</td>\n",
       "      <td>127.0</td>\n",
       "      <td>1674.0</td>\n",
       "    </tr>\n",
       "    <tr>\n",
       "      <th>8</th>\n",
       "      <td>95.0</td>\n",
       "      <td>M</td>\n",
       "      <td>22</td>\n",
       "      <td>Leinster</td>\n",
       "      <td>1002</td>\n",
       "      <td>102.0</td>\n",
       "      <td>2449.0</td>\n",
       "      <td>59.0</td>\n",
       "      <td>1756.0</td>\n",
       "    </tr>\n",
       "    <tr>\n",
       "      <th>9</th>\n",
       "      <td>97.0</td>\n",
       "      <td>M</td>\n",
       "      <td>29</td>\n",
       "      <td>Ulster</td>\n",
       "      <td>735</td>\n",
       "      <td>213.0</td>\n",
       "      <td>2701.0</td>\n",
       "      <td>66.0</td>\n",
       "      <td>1655.0</td>\n",
       "    </tr>\n",
       "    <tr>\n",
       "      <th>10</th>\n",
       "      <td>150.0</td>\n",
       "      <td>M</td>\n",
       "      <td>29</td>\n",
       "      <td>Leinster</td>\n",
       "      <td>930</td>\n",
       "      <td>196.0</td>\n",
       "      <td>2976.0</td>\n",
       "      <td>66.0</td>\n",
       "      <td>1700.0</td>\n",
       "    </tr>\n",
       "    <tr>\n",
       "      <th>11</th>\n",
       "      <td>49.0</td>\n",
       "      <td>M</td>\n",
       "      <td>26</td>\n",
       "      <td>Leinster</td>\n",
       "      <td>827</td>\n",
       "      <td>222.0</td>\n",
       "      <td>2524.0</td>\n",
       "      <td>62.0</td>\n",
       "      <td>1369.0</td>\n",
       "    </tr>\n",
       "    <tr>\n",
       "      <th>12</th>\n",
       "      <td>44.0</td>\n",
       "      <td>M</td>\n",
       "      <td>27</td>\n",
       "      <td>Leinster</td>\n",
       "      <td>765</td>\n",
       "      <td>198.0</td>\n",
       "      <td>2428.0</td>\n",
       "      <td>96.0</td>\n",
       "      <td>1436.0</td>\n",
       "    </tr>\n",
       "    <tr>\n",
       "      <th>13</th>\n",
       "      <td>72.0</td>\n",
       "      <td>M</td>\n",
       "      <td>26</td>\n",
       "      <td>Leinster</td>\n",
       "      <td>729</td>\n",
       "      <td>175.0</td>\n",
       "      <td>2584.0</td>\n",
       "      <td>108.0</td>\n",
       "      <td>1570.0</td>\n",
       "    </tr>\n",
       "    <tr>\n",
       "      <th>14</th>\n",
       "      <td>39.0</td>\n",
       "      <td>M</td>\n",
       "      <td>21</td>\n",
       "      <td>Munster</td>\n",
       "      <td>731</td>\n",
       "      <td>140.0</td>\n",
       "      <td>2459.0</td>\n",
       "      <td>77.0</td>\n",
       "      <td>1457.0</td>\n",
       "    </tr>\n",
       "    <tr>\n",
       "      <th>15</th>\n",
       "      <td>103.0</td>\n",
       "      <td>M</td>\n",
       "      <td>23</td>\n",
       "      <td>Leinster</td>\n",
       "      <td>881</td>\n",
       "      <td>182.0</td>\n",
       "      <td>2756.0</td>\n",
       "      <td>91.0</td>\n",
       "      <td>1491.0</td>\n",
       "    </tr>\n",
       "    <tr>\n",
       "      <th>16</th>\n",
       "      <td>154.0</td>\n",
       "      <td>M</td>\n",
       "      <td>22</td>\n",
       "      <td>Leinster</td>\n",
       "      <td>897</td>\n",
       "      <td>348.0</td>\n",
       "      <td>2930.0</td>\n",
       "      <td>172.0</td>\n",
       "      <td>1599.0</td>\n",
       "    </tr>\n",
       "    <tr>\n",
       "      <th>17</th>\n",
       "      <td>145.0</td>\n",
       "      <td>M</td>\n",
       "      <td>27</td>\n",
       "      <td>Munster</td>\n",
       "      <td>760</td>\n",
       "      <td>484.0</td>\n",
       "      <td>2946.0</td>\n",
       "      <td>151.0</td>\n",
       "      <td>1485.0</td>\n",
       "    </tr>\n",
       "    <tr>\n",
       "      <th>18</th>\n",
       "      <td>91.0</td>\n",
       "      <td>M</td>\n",
       "      <td>22</td>\n",
       "      <td>Ulster</td>\n",
       "      <td>820</td>\n",
       "      <td>142.0</td>\n",
       "      <td>2643.0</td>\n",
       "      <td>45.0</td>\n",
       "      <td>1634.0</td>\n",
       "    </tr>\n",
       "    <tr>\n",
       "      <th>19</th>\n",
       "      <td>48.0</td>\n",
       "      <td>M</td>\n",
       "      <td>22</td>\n",
       "      <td>Ulster</td>\n",
       "      <td>787</td>\n",
       "      <td>156.0</td>\n",
       "      <td>2629.0</td>\n",
       "      <td>56.0</td>\n",
       "      <td>1375.0</td>\n",
       "    </tr>\n",
       "    <tr>\n",
       "      <th>20</th>\n",
       "      <td>180.0</td>\n",
       "      <td>M</td>\n",
       "      <td>26</td>\n",
       "      <td>Leinster</td>\n",
       "      <td>1368</td>\n",
       "      <td>NaN</td>\n",
       "      <td>NaN</td>\n",
       "      <td>NaN</td>\n",
       "      <td>NaN</td>\n",
       "    </tr>\n",
       "  </tbody>\n",
       "</table>\n",
       "</div>"
      ],
      "text/plain": [
       "        Place Gender  Age  Province  Swim     T1   Cycle     T2     Run\n",
       "Number                                                                 \n",
       "1        11.0      M   19   Munster   518   64.0  2293.0   42.0  1446.0\n",
       "2       129.0      M   25  Leinster  1102  124.0  2662.0   47.0  1723.0\n",
       "3        35.0      M   25  Leinster   693  138.0  2472.0   42.0  1466.0\n",
       "4       153.0      M   26   Munster   906  318.0  3002.0   62.0  1648.0\n",
       "5        34.0      M   21  Connacht   566  131.0  2518.0   65.0  1522.0\n",
       "6       131.0      M   25  Connacht   940  202.0  3083.0   63.0  1381.0\n",
       "7       169.0      M   23  Leinster  1118  366.0  3114.0  127.0  1674.0\n",
       "8        95.0      M   22  Leinster  1002  102.0  2449.0   59.0  1756.0\n",
       "9        97.0      M   29    Ulster   735  213.0  2701.0   66.0  1655.0\n",
       "10      150.0      M   29  Leinster   930  196.0  2976.0   66.0  1700.0\n",
       "11       49.0      M   26  Leinster   827  222.0  2524.0   62.0  1369.0\n",
       "12       44.0      M   27  Leinster   765  198.0  2428.0   96.0  1436.0\n",
       "13       72.0      M   26  Leinster   729  175.0  2584.0  108.0  1570.0\n",
       "14       39.0      M   21   Munster   731  140.0  2459.0   77.0  1457.0\n",
       "15      103.0      M   23  Leinster   881  182.0  2756.0   91.0  1491.0\n",
       "16      154.0      M   22  Leinster   897  348.0  2930.0  172.0  1599.0\n",
       "17      145.0      M   27   Munster   760  484.0  2946.0  151.0  1485.0\n",
       "18       91.0      M   22    Ulster   820  142.0  2643.0   45.0  1634.0\n",
       "19       48.0      M   22    Ulster   787  156.0  2629.0   56.0  1375.0\n",
       "20      180.0      M   26  Leinster  1368    NaN     NaN    NaN     NaN"
      ]
     },
     "execution_count": 39,
     "metadata": {},
     "output_type": "execute_result"
    }
   ],
   "source": [
    "url = \"http://mlg.ucd.ie/modules/python/triathlon.csv\"\n",
    "df = pd.read_csv(url, index_col=\"Number\")\n",
    "df.head(20)"
   ]
  },
  {
   "cell_type": "markdown",
   "metadata": {},
   "source": [
    "The dataset might contain missing values. For instance, some athletes may have registered for the race for never actually. Other athletes might have started the race, but not completed all segments of the triathlon.\n",
    "\n",
    "From the DataFrame, identify the number of missing values in each column. Then remove any rows which contain missing values (i.e. athletes who did not fullly complete the race). How many rows are remaining?"
   ]
  },
  {
   "cell_type": "code",
   "execution_count": 40,
   "metadata": {},
   "outputs": [
    {
     "data": {
      "text/plain": [
       "Place       4\n",
       "Gender      0\n",
       "Age         0\n",
       "Province    0\n",
       "Swim        0\n",
       "T1          1\n",
       "Cycle       1\n",
       "T2          2\n",
       "Run         6\n",
       "dtype: int64"
      ]
     },
     "execution_count": 40,
     "metadata": {},
     "output_type": "execute_result"
    }
   ],
   "source": [
    "df.isnull().sum()"
   ]
  },
  {
   "cell_type": "code",
   "execution_count": 41,
   "metadata": {},
   "outputs": [],
   "source": [
    "df = df.dropna(axis=0)"
   ]
  },
  {
   "cell_type": "code",
   "execution_count": 43,
   "metadata": {},
   "outputs": [
    {
     "name": "stdout",
     "output_type": "stream",
     "text": [
      "Number of rows remaining is 182\n"
     ]
    },
    {
     "data": {
      "text/plain": [
       "Place       0\n",
       "Gender      0\n",
       "Age         0\n",
       "Province    0\n",
       "Swim        0\n",
       "T1          0\n",
       "Cycle       0\n",
       "T2          0\n",
       "Run         0\n",
       "dtype: int64"
      ]
     },
     "execution_count": 43,
     "metadata": {},
     "output_type": "execute_result"
    }
   ],
   "source": [
    "print(f\"Number of rows remaining is {len(df)}\")\n",
    "df.isnull().sum()"
   ]
  },
  {
   "cell_type": "markdown",
   "metadata": {},
   "source": [
    "Add a new column to the DataFrame, called *Finish*, which is the total time taken for the race for each athlete (i.e. Swim + T1 + Cycle + T2 + Run)."
   ]
  },
  {
   "cell_type": "code",
   "execution_count": 44,
   "metadata": {},
   "outputs": [],
   "source": [
    "df[\"finish\"] = df[\"Swim\"] + df[\"T1\"] + df[\"Cycle\"] + df[\"T2\"] + df[\"Run\"]"
   ]
  },
  {
   "cell_type": "markdown",
   "metadata": {},
   "source": [
    "To verify the step above, sort the DataFrame, based on the *Finish* time, fastest to slowest. Display the top 10 fastest athletes overall:"
   ]
  },
  {
   "cell_type": "code",
   "execution_count": 47,
   "metadata": {
    "scrolled": true
   },
   "outputs": [
    {
     "data": {
      "text/html": [
       "<div>\n",
       "<style scoped>\n",
       "    .dataframe tbody tr th:only-of-type {\n",
       "        vertical-align: middle;\n",
       "    }\n",
       "\n",
       "    .dataframe tbody tr th {\n",
       "        vertical-align: top;\n",
       "    }\n",
       "\n",
       "    .dataframe thead th {\n",
       "        text-align: right;\n",
       "    }\n",
       "</style>\n",
       "<table border=\"1\" class=\"dataframe\">\n",
       "  <thead>\n",
       "    <tr style=\"text-align: right;\">\n",
       "      <th></th>\n",
       "      <th>Place</th>\n",
       "      <th>Gender</th>\n",
       "      <th>Age</th>\n",
       "      <th>Province</th>\n",
       "      <th>Swim</th>\n",
       "      <th>T1</th>\n",
       "      <th>Cycle</th>\n",
       "      <th>T2</th>\n",
       "      <th>Run</th>\n",
       "      <th>finish</th>\n",
       "    </tr>\n",
       "    <tr>\n",
       "      <th>Number</th>\n",
       "      <th></th>\n",
       "      <th></th>\n",
       "      <th></th>\n",
       "      <th></th>\n",
       "      <th></th>\n",
       "      <th></th>\n",
       "      <th></th>\n",
       "      <th></th>\n",
       "      <th></th>\n",
       "      <th></th>\n",
       "    </tr>\n",
       "  </thead>\n",
       "  <tbody>\n",
       "    <tr>\n",
       "      <th>178</th>\n",
       "      <td>184.0</td>\n",
       "      <td>F</td>\n",
       "      <td>64</td>\n",
       "      <td>Munster</td>\n",
       "      <td>1217</td>\n",
       "      <td>567.0</td>\n",
       "      <td>3443.0</td>\n",
       "      <td>118.0</td>\n",
       "      <td>2543.0</td>\n",
       "      <td>7888.0</td>\n",
       "    </tr>\n",
       "    <tr>\n",
       "      <th>119</th>\n",
       "      <td>183.0</td>\n",
       "      <td>M</td>\n",
       "      <td>56</td>\n",
       "      <td>Connacht</td>\n",
       "      <td>1040</td>\n",
       "      <td>234.0</td>\n",
       "      <td>3387.0</td>\n",
       "      <td>119.0</td>\n",
       "      <td>2212.0</td>\n",
       "      <td>6992.0</td>\n",
       "    </tr>\n",
       "    <tr>\n",
       "      <th>167</th>\n",
       "      <td>182.0</td>\n",
       "      <td>F</td>\n",
       "      <td>49</td>\n",
       "      <td>Connacht</td>\n",
       "      <td>1283</td>\n",
       "      <td>189.0</td>\n",
       "      <td>3394.0</td>\n",
       "      <td>118.0</td>\n",
       "      <td>2001.0</td>\n",
       "      <td>6985.0</td>\n",
       "    </tr>\n",
       "    <tr>\n",
       "      <th>157</th>\n",
       "      <td>181.0</td>\n",
       "      <td>F</td>\n",
       "      <td>34</td>\n",
       "      <td>Leinster</td>\n",
       "      <td>1243</td>\n",
       "      <td>156.0</td>\n",
       "      <td>2937.0</td>\n",
       "      <td>119.0</td>\n",
       "      <td>2412.0</td>\n",
       "      <td>6867.0</td>\n",
       "    </tr>\n",
       "    <tr>\n",
       "      <th>101</th>\n",
       "      <td>179.0</td>\n",
       "      <td>M</td>\n",
       "      <td>43</td>\n",
       "      <td>Ulster</td>\n",
       "      <td>1270</td>\n",
       "      <td>208.0</td>\n",
       "      <td>3143.0</td>\n",
       "      <td>122.0</td>\n",
       "      <td>2067.0</td>\n",
       "      <td>6810.0</td>\n",
       "    </tr>\n",
       "    <tr>\n",
       "      <th>...</th>\n",
       "      <td>...</td>\n",
       "      <td>...</td>\n",
       "      <td>...</td>\n",
       "      <td>...</td>\n",
       "      <td>...</td>\n",
       "      <td>...</td>\n",
       "      <td>...</td>\n",
       "      <td>...</td>\n",
       "      <td>...</td>\n",
       "      <td>...</td>\n",
       "    </tr>\n",
       "    <tr>\n",
       "      <th>118</th>\n",
       "      <td>5.0</td>\n",
       "      <td>M</td>\n",
       "      <td>52</td>\n",
       "      <td>Munster</td>\n",
       "      <td>621</td>\n",
       "      <td>104.0</td>\n",
       "      <td>2169.0</td>\n",
       "      <td>51.0</td>\n",
       "      <td>1322.0</td>\n",
       "      <td>4267.0</td>\n",
       "    </tr>\n",
       "    <tr>\n",
       "      <th>92</th>\n",
       "      <td>4.0</td>\n",
       "      <td>M</td>\n",
       "      <td>49</td>\n",
       "      <td>Leinster</td>\n",
       "      <td>621</td>\n",
       "      <td>89.0</td>\n",
       "      <td>2005.0</td>\n",
       "      <td>53.0</td>\n",
       "      <td>1474.0</td>\n",
       "      <td>4242.0</td>\n",
       "    </tr>\n",
       "    <tr>\n",
       "      <th>54</th>\n",
       "      <td>3.0</td>\n",
       "      <td>M</td>\n",
       "      <td>35</td>\n",
       "      <td>Ulster</td>\n",
       "      <td>621</td>\n",
       "      <td>85.0</td>\n",
       "      <td>1982.0</td>\n",
       "      <td>53.0</td>\n",
       "      <td>1282.0</td>\n",
       "      <td>4023.0</td>\n",
       "    </tr>\n",
       "    <tr>\n",
       "      <th>48</th>\n",
       "      <td>2.0</td>\n",
       "      <td>M</td>\n",
       "      <td>32</td>\n",
       "      <td>Munster</td>\n",
       "      <td>616</td>\n",
       "      <td>87.0</td>\n",
       "      <td>2016.0</td>\n",
       "      <td>58.0</td>\n",
       "      <td>1225.0</td>\n",
       "      <td>4002.0</td>\n",
       "    </tr>\n",
       "    <tr>\n",
       "      <th>183</th>\n",
       "      <td>1.0</td>\n",
       "      <td>M</td>\n",
       "      <td>36</td>\n",
       "      <td>Ulster</td>\n",
       "      <td>577</td>\n",
       "      <td>73.0</td>\n",
       "      <td>1867.0</td>\n",
       "      <td>47.0</td>\n",
       "      <td>1195.0</td>\n",
       "      <td>3759.0</td>\n",
       "    </tr>\n",
       "  </tbody>\n",
       "</table>\n",
       "<p>182 rows × 10 columns</p>\n",
       "</div>"
      ],
      "text/plain": [
       "        Place Gender  Age  Province  Swim     T1   Cycle     T2     Run  \\\n",
       "Number                                                                    \n",
       "178     184.0      F   64   Munster  1217  567.0  3443.0  118.0  2543.0   \n",
       "119     183.0      M   56  Connacht  1040  234.0  3387.0  119.0  2212.0   \n",
       "167     182.0      F   49  Connacht  1283  189.0  3394.0  118.0  2001.0   \n",
       "157     181.0      F   34  Leinster  1243  156.0  2937.0  119.0  2412.0   \n",
       "101     179.0      M   43    Ulster  1270  208.0  3143.0  122.0  2067.0   \n",
       "...       ...    ...  ...       ...   ...    ...     ...    ...     ...   \n",
       "118       5.0      M   52   Munster   621  104.0  2169.0   51.0  1322.0   \n",
       "92        4.0      M   49  Leinster   621   89.0  2005.0   53.0  1474.0   \n",
       "54        3.0      M   35    Ulster   621   85.0  1982.0   53.0  1282.0   \n",
       "48        2.0      M   32   Munster   616   87.0  2016.0   58.0  1225.0   \n",
       "183       1.0      M   36    Ulster   577   73.0  1867.0   47.0  1195.0   \n",
       "\n",
       "        finish  \n",
       "Number          \n",
       "178     7888.0  \n",
       "119     6992.0  \n",
       "167     6985.0  \n",
       "157     6867.0  \n",
       "101     6810.0  \n",
       "...        ...  \n",
       "118     4267.0  \n",
       "92      4242.0  \n",
       "54      4023.0  \n",
       "48      4002.0  \n",
       "183     3759.0  \n",
       "\n",
       "[182 rows x 10 columns]"
      ]
     },
     "execution_count": 47,
     "metadata": {},
     "output_type": "execute_result"
    }
   ],
   "source": [
    "df.sort_values(by = \"finish\", ascending=False)"
   ]
  },
  {
   "cell_type": "markdown",
   "metadata": {},
   "source": [
    "## Task 2 - Initial Data Analysis"
   ]
  },
  {
   "cell_type": "markdown",
   "metadata": {},
   "source": [
    "What is the average finishing time for athletes? What is the slowest finishing time?"
   ]
  },
  {
   "cell_type": "code",
   "execution_count": 55,
   "metadata": {},
   "outputs": [
    {
     "name": "stdout",
     "output_type": "stream",
     "text": [
      "Average finishing time was 5359.84, slowest time was 7888.0\n"
     ]
    }
   ],
   "source": [
    "average_finishing_time = df[\"finish\"].mean()\n",
    "slowest_time = df[\"finish\"].max()\n",
    "print(f\"Average finishing time was {round(average_finishing_time,2)}, slowest time was {slowest_time}\")"
   ]
  },
  {
   "cell_type": "markdown",
   "metadata": {},
   "source": [
    "On average which segment of the race took the longest: swimming, cycling or running?"
   ]
  },
  {
   "cell_type": "code",
   "execution_count": 57,
   "metadata": {},
   "outputs": [
    {
     "name": "stdout",
     "output_type": "stream",
     "text": [
      "Cycling took the longest\n"
     ]
    }
   ],
   "source": [
    "average_swim_time = df[\"Swim\"].mean()\n",
    "average_cycling_time = df[\"Cycle\"].mean()\n",
    "average_run_time = df[\"Run\"].mean()\n",
    "\n",
    "if average_cycling_time < average_run_time and average_swim_time < average_run_time:\n",
    "    print(\"Running took the longest\")\n",
    "elif average_run_time < average_swim_time and average_cycling_time < average_swim_time:\n",
    "    print(\"Swimming took the longest\")\n",
    "else:\n",
    "    print(\"Cycling took the longest\")"
   ]
  },
  {
   "cell_type": "markdown",
   "metadata": {},
   "source": [
    "How many female and male athletes competed in the race? How many athletes from each Irish province competed in the race? "
   ]
  },
  {
   "cell_type": "code",
   "execution_count": 60,
   "metadata": {},
   "outputs": [
    {
     "data": {
      "text/plain": [
       "Gender\n",
       "M    134\n",
       "F     48\n",
       "Name: count, dtype: int64"
      ]
     },
     "execution_count": 60,
     "metadata": {},
     "output_type": "execute_result"
    }
   ],
   "source": [
    "df[\"Gender\"].value_counts()"
   ]
  },
  {
   "cell_type": "code",
   "execution_count": 61,
   "metadata": {},
   "outputs": [
    {
     "data": {
      "text/plain": [
       "Province\n",
       "Leinster    75\n",
       "Munster     55\n",
       "Ulster      30\n",
       "Connacht    22\n",
       "Name: count, dtype: int64"
      ]
     },
     "execution_count": 61,
     "metadata": {},
     "output_type": "execute_result"
    }
   ],
   "source": [
    "df[\"Province\"].value_counts()"
   ]
  },
  {
   "cell_type": "markdown",
   "metadata": {},
   "source": [
    "How many female and male athletes were from each of the 4 provinces? \n",
    "\n",
    "(Hint: We can use a cross-tabulation)"
   ]
  },
  {
   "cell_type": "code",
   "execution_count": 63,
   "metadata": {},
   "outputs": [
    {
     "data": {
      "text/html": [
       "<div>\n",
       "<style scoped>\n",
       "    .dataframe tbody tr th:only-of-type {\n",
       "        vertical-align: middle;\n",
       "    }\n",
       "\n",
       "    .dataframe tbody tr th {\n",
       "        vertical-align: top;\n",
       "    }\n",
       "\n",
       "    .dataframe thead th {\n",
       "        text-align: right;\n",
       "    }\n",
       "</style>\n",
       "<table border=\"1\" class=\"dataframe\">\n",
       "  <thead>\n",
       "    <tr style=\"text-align: right;\">\n",
       "      <th>Gender</th>\n",
       "      <th>F</th>\n",
       "      <th>M</th>\n",
       "    </tr>\n",
       "    <tr>\n",
       "      <th>Province</th>\n",
       "      <th></th>\n",
       "      <th></th>\n",
       "    </tr>\n",
       "  </thead>\n",
       "  <tbody>\n",
       "    <tr>\n",
       "      <th>Connacht</th>\n",
       "      <td>6</td>\n",
       "      <td>16</td>\n",
       "    </tr>\n",
       "    <tr>\n",
       "      <th>Leinster</th>\n",
       "      <td>20</td>\n",
       "      <td>55</td>\n",
       "    </tr>\n",
       "    <tr>\n",
       "      <th>Munster</th>\n",
       "      <td>16</td>\n",
       "      <td>39</td>\n",
       "    </tr>\n",
       "    <tr>\n",
       "      <th>Ulster</th>\n",
       "      <td>6</td>\n",
       "      <td>24</td>\n",
       "    </tr>\n",
       "  </tbody>\n",
       "</table>\n",
       "</div>"
      ],
      "text/plain": [
       "Gender     F   M\n",
       "Province        \n",
       "Connacht   6  16\n",
       "Leinster  20  55\n",
       "Munster   16  39\n",
       "Ulster     6  24"
      ]
     },
     "execution_count": 63,
     "metadata": {},
     "output_type": "execute_result"
    }
   ],
   "source": [
    "pd.crosstab(df[\"Province\"], df[\"Gender\"])"
   ]
  },
  {
   "cell_type": "markdown",
   "metadata": {},
   "source": [
    "## Task 3 - Further Data Analysis"
   ]
  },
  {
   "cell_type": "markdown",
   "metadata": {},
   "source": [
    "Create a new column 'AgeCategory' that divides the runners into age categories: 16-19, 20-29, 30-39, 40-49, 50-65."
   ]
  },
  {
   "cell_type": "code",
   "execution_count": 66,
   "metadata": {},
   "outputs": [],
   "source": [
    "bins = [16,20,30,40,50,65]\n",
    "df[\"AgeCategory\"] = pd.cut(df[\"Age\"], bins=bins, right=False)"
   ]
  },
  {
   "cell_type": "markdown",
   "metadata": {},
   "source": [
    "How many female and male athletes were from each age category? \n",
    "\n",
    "(Hint: We can use a cross-tabulation and the 'AgeCategory' column created above)"
   ]
  },
  {
   "cell_type": "code",
   "execution_count": 67,
   "metadata": {
    "scrolled": true
   },
   "outputs": [
    {
     "data": {
      "text/html": [
       "<div>\n",
       "<style scoped>\n",
       "    .dataframe tbody tr th:only-of-type {\n",
       "        vertical-align: middle;\n",
       "    }\n",
       "\n",
       "    .dataframe tbody tr th {\n",
       "        vertical-align: top;\n",
       "    }\n",
       "\n",
       "    .dataframe thead th {\n",
       "        text-align: right;\n",
       "    }\n",
       "</style>\n",
       "<table border=\"1\" class=\"dataframe\">\n",
       "  <thead>\n",
       "    <tr style=\"text-align: right;\">\n",
       "      <th>Gender</th>\n",
       "      <th>F</th>\n",
       "      <th>M</th>\n",
       "    </tr>\n",
       "    <tr>\n",
       "      <th>AgeCategory</th>\n",
       "      <th></th>\n",
       "      <th></th>\n",
       "    </tr>\n",
       "  </thead>\n",
       "  <tbody>\n",
       "    <tr>\n",
       "      <th>[16, 20)</th>\n",
       "      <td>0</td>\n",
       "      <td>1</td>\n",
       "    </tr>\n",
       "    <tr>\n",
       "      <th>[20, 30)</th>\n",
       "      <td>12</td>\n",
       "      <td>20</td>\n",
       "    </tr>\n",
       "    <tr>\n",
       "      <th>[30, 40)</th>\n",
       "      <td>19</td>\n",
       "      <td>56</td>\n",
       "    </tr>\n",
       "    <tr>\n",
       "      <th>[40, 50)</th>\n",
       "      <td>13</td>\n",
       "      <td>41</td>\n",
       "    </tr>\n",
       "    <tr>\n",
       "      <th>[50, 65)</th>\n",
       "      <td>4</td>\n",
       "      <td>16</td>\n",
       "    </tr>\n",
       "  </tbody>\n",
       "</table>\n",
       "</div>"
      ],
      "text/plain": [
       "Gender        F   M\n",
       "AgeCategory        \n",
       "[16, 20)      0   1\n",
       "[20, 30)     12  20\n",
       "[30, 40)     19  56\n",
       "[40, 50)     13  41\n",
       "[50, 65)      4  16"
      ]
     },
     "execution_count": 67,
     "metadata": {},
     "output_type": "execute_result"
    }
   ],
   "source": [
    "pd.crosstab(df[\"AgeCategory\"], df[\"Gender\"])"
   ]
  },
  {
   "cell_type": "markdown",
   "metadata": {},
   "source": [
    "What was finishing place for each athlete per province?\n",
    "\n",
    "(Hint: We can perform group-by aggregation)"
   ]
  },
  {
   "cell_type": "code",
   "execution_count": 73,
   "metadata": {},
   "outputs": [],
   "source": [
    "group_by_province = df.groupby(\"Province\", observed=False)"
   ]
  },
  {
   "cell_type": "markdown",
   "metadata": {},
   "source": [
    "What were the average times for the three segments, per age category?\n",
    "\n",
    "(Hint: We can perform group-by aggregation)"
   ]
  },
  {
   "cell_type": "code",
   "execution_count": 76,
   "metadata": {},
   "outputs": [
    {
     "data": {
      "text/html": [
       "<div>\n",
       "<style scoped>\n",
       "    .dataframe tbody tr th:only-of-type {\n",
       "        vertical-align: middle;\n",
       "    }\n",
       "\n",
       "    .dataframe tbody tr th {\n",
       "        vertical-align: top;\n",
       "    }\n",
       "\n",
       "    .dataframe thead th {\n",
       "        text-align: right;\n",
       "    }\n",
       "</style>\n",
       "<table border=\"1\" class=\"dataframe\">\n",
       "  <thead>\n",
       "    <tr style=\"text-align: right;\">\n",
       "      <th></th>\n",
       "      <th>Swim</th>\n",
       "      <th>Cycle</th>\n",
       "      <th>Run</th>\n",
       "    </tr>\n",
       "    <tr>\n",
       "      <th>AgeCategory</th>\n",
       "      <th></th>\n",
       "      <th></th>\n",
       "      <th></th>\n",
       "    </tr>\n",
       "  </thead>\n",
       "  <tbody>\n",
       "    <tr>\n",
       "      <th>[16, 20)</th>\n",
       "      <td>518.00</td>\n",
       "      <td>2293.000000</td>\n",
       "      <td>1446.000000</td>\n",
       "    </tr>\n",
       "    <tr>\n",
       "      <th>[20, 30)</th>\n",
       "      <td>839.75</td>\n",
       "      <td>2802.031250</td>\n",
       "      <td>1624.625000</td>\n",
       "    </tr>\n",
       "    <tr>\n",
       "      <th>[30, 40)</th>\n",
       "      <td>836.76</td>\n",
       "      <td>2566.346667</td>\n",
       "      <td>1552.840000</td>\n",
       "    </tr>\n",
       "    <tr>\n",
       "      <th>[40, 50)</th>\n",
       "      <td>888.50</td>\n",
       "      <td>2576.611111</td>\n",
       "      <td>1660.277778</td>\n",
       "    </tr>\n",
       "    <tr>\n",
       "      <th>[50, 65)</th>\n",
       "      <td>870.90</td>\n",
       "      <td>2693.350000</td>\n",
       "      <td>1778.500000</td>\n",
       "    </tr>\n",
       "  </tbody>\n",
       "</table>\n",
       "</div>"
      ],
      "text/plain": [
       "               Swim        Cycle          Run\n",
       "AgeCategory                                  \n",
       "[16, 20)     518.00  2293.000000  1446.000000\n",
       "[20, 30)     839.75  2802.031250  1624.625000\n",
       "[30, 40)     836.76  2566.346667  1552.840000\n",
       "[40, 50)     888.50  2576.611111  1660.277778\n",
       "[50, 65)     870.90  2693.350000  1778.500000"
      ]
     },
     "execution_count": 76,
     "metadata": {},
     "output_type": "execute_result"
    }
   ],
   "source": [
    "group_by_age_category = df.groupby(\"AgeCategory\", observed=False)\n",
    "group_by_age_category[[\"Swim\",\"Cycle\",\"Run\"]].mean()"
   ]
  }
 ],
 "metadata": {
  "anaconda-cloud": {},
  "kernelspec": {
   "display_name": "Python 3 (ipykernel)",
   "language": "python",
   "name": "python3"
  },
  "language_info": {
   "codemirror_mode": {
    "name": "ipython",
    "version": 3
   },
   "file_extension": ".py",
   "mimetype": "text/x-python",
   "name": "python",
   "nbconvert_exporter": "python",
   "pygments_lexer": "ipython3",
   "version": "3.13.5"
  }
 },
 "nbformat": 4,
 "nbformat_minor": 4
}
