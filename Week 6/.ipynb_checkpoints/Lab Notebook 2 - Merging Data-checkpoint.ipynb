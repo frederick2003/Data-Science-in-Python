{
 "cells": [
  {
   "cell_type": "markdown",
   "id": "af439bd5",
   "metadata": {},
   "source": [
    "# Merging Data\n",
    "\n",
    "We often want to combine data stored in multiple different sources into a single representation for analysis or modelling. In this notebook, we look at how we can **merge** data using Pandas DataFrames."
   ]
  },
  {
   "cell_type": "code",
   "execution_count": null,
   "id": "6636d980",
   "metadata": {},
   "outputs": [],
   "source": [
    "import pandas as pd\n",
    "import matplotlib.pyplot as plt"
   ]
  },
  {
   "cell_type": "markdown",
   "id": "6164aadd-e3bf-406b-b088-f5ee33f74650",
   "metadata": {},
   "source": [
    "## Data Loading "
   ]
  },
  {
   "cell_type": "markdown",
   "id": "79c365f5-a554-422e-97de-e8b4c86559d5",
   "metadata": {},
   "source": [
    "We will work with records for university students and programmes, which are split across two separate CSV files:\n",
    "- *student_details.csv*: A master list of students with their unique student ID, first name, surname, gender, and university email.\n",
    "- *student_enrolment.csv*: Enrolment records for students, indicating their study level, school, and programme year linked by student ID."
   ]
  },
  {
   "cell_type": "code",
   "execution_count": null,
   "id": "19bd53c7",
   "metadata": {},
   "outputs": [],
   "source": [
    "# read the first dataset\n",
    "df_details = pd.read_csv(\"student_details.csv\")\n",
    "print(f\"DataFrame has {df_details.shape[0]} rows and {df_details.shape[1]} columns\")\n",
    "print(f\"Columns: {df_details.columns.tolist()}\")\n",
    "df_details.head(10)"
   ]
  },
  {
   "cell_type": "code",
   "execution_count": null,
   "id": "69ba0af4-8ba7-46e6-84dd-9194f765bb38",
   "metadata": {},
   "outputs": [],
   "source": [
    "# read the second dataset\n",
    "df_enrol = pd.read_csv(\"student_enrolment.csv\")\n",
    "print(f\"DataFrame has {df_enrol.shape[0]} rows and {df_enrol.shape[1]} columns\")\n",
    "print(f\"Columns: {df_enrol.columns.tolist()}\")\n",
    "df_enrol.head(10)"
   ]
  },
  {
   "cell_type": "markdown",
   "id": "8b87d1d2-dfc4-438c-8d9e-a6c0bc1b25c3",
   "metadata": {},
   "source": [
    "## Merging Data - Inner Joins\n",
    "\n",
    "Merging two DataFrames in Pandas involves matching rows based on one or more key columns and combining their associated data into a single unified DataFrame. We do this using the `pd.merge()` function.\n",
    "\n",
    "The most common type of merge in Pandas is an **inner join**. This operation keeps only rows that have matching keys in both DataFrames."
   ]
  },
  {
   "cell_type": "markdown",
   "id": "7c431bd9-315f-4722-87f2-c1e980c09bcc",
   "metadata": {},
   "source": [
    "In the case of our data, we join the two DataFrames based on the column `student_id` in each case, so only students who are present in both files will appear in the result. \n",
    "\n",
    "Note that when we call the `pd.merge()` function here, the argument `how=\"inner\"` indicates that an inner join is to be performed."
   ]
  },
  {
   "cell_type": "code",
   "execution_count": null,
   "id": "6acbaa2d-a664-4da6-a048-f5142b92188a",
   "metadata": {},
   "outputs": [],
   "source": [
    "# perform inner join on student_id\n",
    "df_merged1 = pd.merge(\n",
    "    df_details, df_enrol,\n",
    "    how=\"inner\",\n",
    "    on=\"student_id\"\n",
    ")\n",
    "\n",
    "print(f\"Merged DataFrame has {df_merged1.shape[0]} rows and {df_merged1.shape[1]} columns\")\n",
    "print(f\"Merged Columns: {df_merged1.columns.tolist()}\")"
   ]
  },
  {
   "cell_type": "markdown",
   "id": "522e5816-7441-438f-bcb9-6e86caf60b1f",
   "metadata": {},
   "source": [
    "Notice that our new merged DataFrame only contains rows whose `student_id` appears in both input DataFrames, so any students without a matching enrolment are excluded from the result."
   ]
  },
  {
   "cell_type": "code",
   "execution_count": null,
   "id": "f18fa384-3122-4229-a31d-a96987ec9e7b",
   "metadata": {},
   "outputs": [],
   "source": [
    "# check the original student IDs from the details table\n",
    "details_student_ids = set(df_details[\"student_id\"])\n",
    "print(f\"Count of original students: {len(details_student_ids)}\")\n",
    "\n",
    "# check the student IDs from the merged table\n",
    "merged1_student_ids = set(df_merged1[\"student_id\"])\n",
    "print(f\"Count of enrolled students: {len(merged1_student_ids)}\")\n",
    "\n",
    "# which students aren't enrolled?\n",
    "print(\"Missing students:\")\n",
    "details_student_ids.difference(merged1_student_ids)"
   ]
  },
  {
   "cell_type": "markdown",
   "id": "78c1fcbc",
   "metadata": {},
   "source": [
    "We could now perform characterisation of the data in our merged DataFrame.\n",
    "\n",
    "For instance, we could look at gender balance by programme level or by school:"
   ]
  },
  {
   "cell_type": "code",
   "execution_count": null,
   "id": "555e2cce",
   "metadata": {},
   "outputs": [],
   "source": [
    "# cross tabulation of level and gender\n",
    "pd.crosstab(df_merged1[\"level\"], df_merged1[\"gender\"], margins=True)"
   ]
  },
  {
   "cell_type": "code",
   "execution_count": null,
   "id": "523a71c5",
   "metadata": {},
   "outputs": [],
   "source": [
    "# cross tabulation of school and gender\n",
    "pd.crosstab(df_merged1[\"school\"], df_merged1[\"gender\"], margins=True)"
   ]
  },
  {
   "cell_type": "markdown",
   "id": "c7d93e1d-fb92-4e90-baa7-197be59fd7da",
   "metadata": {},
   "source": [
    "## Merging Data - Outer Joins\n",
    "\n",
    "An alternative merging strategy is an **outer join**. This includes all keys from both tables: matched rows where possible, and unmatched rows filled with missing values. This is useful for a completeness view, but it introduces missing values for non-matches."
   ]
  },
  {
   "cell_type": "markdown",
   "id": "67c34960-c81e-4d26-a3a1-17be813ca6f8",
   "metadata": {},
   "source": [
    "Again, we will join the two DataFrames based on the column `student_id`. However, when we call the `pd.merge()` function now, the argument `how=\"outer\"` indicates that an outer join is to be performed."
   ]
  },
  {
   "cell_type": "code",
   "execution_count": null,
   "id": "ae33876c-3df5-4e2c-9398-7b0605f0ae52",
   "metadata": {},
   "outputs": [],
   "source": [
    "# perform outer join\n",
    "df_merged2 = pd.merge(\n",
    "    df_details, df_enrol,\n",
    "    how=\"outer\"\n",
    ")\n",
    "\n",
    "print(f\"Merged DataFrame has {df_merged2.shape[0]} rows and {df_merged2.shape[1]} columns\")\n",
    "print(f\"Merged Columns: {df_merged2.columns.tolist()}\")"
   ]
  },
  {
   "cell_type": "markdown",
   "id": "65215fba-bbc3-45df-8dfa-9734285d0437",
   "metadata": {},
   "source": [
    "Notice now that our merged DataFrame now contains rows for all students in the original details DataFrame.\n",
    "\n",
    "However, we do now have rows with missing values - i.e. students that are not enrolled on aany programme."
   ]
  },
  {
   "cell_type": "code",
   "execution_count": null,
   "id": "88e296dc-2f27-49b2-ae3c-b7c83447fbf2",
   "metadata": {},
   "outputs": [],
   "source": [
    "# check columns for missing values \n",
    "df_merged2.isna().sum()"
   ]
  },
  {
   "cell_type": "code",
   "execution_count": null,
   "id": "db357a6b-2462-4591-8577-3ec9f8481b3a",
   "metadata": {},
   "outputs": [],
   "source": [
    "# check which rows have missing values (i.e. students not enrolled)\n",
    "df_merged2[df_merged2.isna().any(axis=1)]"
   ]
  },
  {
   "cell_type": "markdown",
   "id": "6dbd860a-9a62-49df-9aed-7686edb74a82",
   "metadata": {},
   "source": [
    "We could decide to replace the missing values in some of these columns:"
   ]
  },
  {
   "cell_type": "code",
   "execution_count": null,
   "id": "c77b9a9d-7a43-472f-bcba-ba46e30a7512",
   "metadata": {},
   "outputs": [],
   "source": [
    "df_merged2[\"level\"] = df_merged2[\"level\"].fillna(\"Unknown\")\n",
    "df_merged2[\"school\"] = df_merged2[\"school\"].fillna(\"Not allocated\")"
   ]
  },
  {
   "cell_type": "markdown",
   "id": "b298728d-5998-421a-b39c-1b301c5e270b",
   "metadata": {},
   "source": [
    "Use frequency tables to check the counts for these columns, after filling missing values:"
   ]
  },
  {
   "cell_type": "code",
   "execution_count": null,
   "id": "b9c926cc-4b36-44e2-8f16-381722b8ff94",
   "metadata": {},
   "outputs": [],
   "source": [
    "for col in [\"level\", \"school\"]:\n",
    "    print(f\"- Column: {col}\")\n",
    "    display(df_merged2[col].value_counts())\n",
    "    print()"
   ]
  }
 ],
 "metadata": {
  "kernelspec": {
   "display_name": "Python 3 (ipykernel)",
   "language": "python",
   "name": "python3"
  },
  "language_info": {
   "codemirror_mode": {
    "name": "ipython",
    "version": 3
   },
   "file_extension": ".py",
   "mimetype": "text/x-python",
   "name": "python",
   "nbconvert_exporter": "python",
   "pygments_lexer": "ipython3",
   "version": "3.13.5"
  }
 },
 "nbformat": 4,
 "nbformat_minor": 5
}
