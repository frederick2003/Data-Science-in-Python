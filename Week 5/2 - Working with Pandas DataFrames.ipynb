{
 "cells": [
  {
   "cell_type": "markdown",
   "id": "1989de65",
   "metadata": {},
   "source": [
    "# Working with Pandas DataFrames\n",
    "\n",
    "In this notebook we will look at Pandas *DataFrames*. A DataFrame is a 2-dimensional labelled data structure with columns of data that can be of different types. Like a Pandas Series, it supports both position-based and index-based data access."
   ]
  },
  {
   "cell_type": "markdown",
   "id": "aa7e6c8e",
   "metadata": {},
   "source": [
    "To start off, we import the Pandas package. We can import it as `pd` for shorthand."
   ]
  },
  {
   "cell_type": "code",
   "execution_count": 2,
   "id": "4f9e9147",
   "metadata": {},
   "outputs": [],
   "source": [
    "import pandas as pd"
   ]
  },
  {
   "cell_type": "markdown",
   "id": "b277ec31",
   "metadata": {},
   "source": [
    "## Creating Pandas DataFrames\n",
    "\n",
    "The easiest way to manually create a DataFrame is to pass the `DataFrame()` function a dictionary of lists, where each list will be a column. \n",
    "\n",
    "Notice that Jupyter Notebooks will render frames in a tabular format."
   ]
  },
  {
   "cell_type": "code",
   "execution_count": 3,
   "id": "941e10ce",
   "metadata": {},
   "outputs": [],
   "source": [
    "# the data we will use to populate our frame\n",
    "countries = [\"Argentina\", \"Australia\", \"Brazil\", \"Canada\"]\n",
    "regions = [\"South America\", \"Oceania\", \"South America\", \"North America\"]\n",
    "pops = [43.59, 23.99, 200.4, 35.99]\n",
    "life_exp = [75.77, 82.09, 73.12, 80.99]\n",
    "# create the dictionary of lists\n",
    "d1 = {\"Country\":countries, \"Region\":regions, \"Population\":pops, \"Life Exp\":life_exp}\n",
    "# create the DataFrame\n",
    "df1 = pd.DataFrame(d1)"
   ]
  },
  {
   "cell_type": "code",
   "execution_count": 4,
   "id": "af786e71",
   "metadata": {},
   "outputs": [
    {
     "data": {
      "text/html": [
       "<div>\n",
       "<style scoped>\n",
       "    .dataframe tbody tr th:only-of-type {\n",
       "        vertical-align: middle;\n",
       "    }\n",
       "\n",
       "    .dataframe tbody tr th {\n",
       "        vertical-align: top;\n",
       "    }\n",
       "\n",
       "    .dataframe thead th {\n",
       "        text-align: right;\n",
       "    }\n",
       "</style>\n",
       "<table border=\"1\" class=\"dataframe\">\n",
       "  <thead>\n",
       "    <tr style=\"text-align: right;\">\n",
       "      <th></th>\n",
       "      <th>Country</th>\n",
       "      <th>Region</th>\n",
       "      <th>Population</th>\n",
       "      <th>Life Exp</th>\n",
       "    </tr>\n",
       "  </thead>\n",
       "  <tbody>\n",
       "    <tr>\n",
       "      <th>0</th>\n",
       "      <td>Argentina</td>\n",
       "      <td>South America</td>\n",
       "      <td>43.59</td>\n",
       "      <td>75.77</td>\n",
       "    </tr>\n",
       "    <tr>\n",
       "      <th>1</th>\n",
       "      <td>Australia</td>\n",
       "      <td>Oceania</td>\n",
       "      <td>23.99</td>\n",
       "      <td>82.09</td>\n",
       "    </tr>\n",
       "    <tr>\n",
       "      <th>2</th>\n",
       "      <td>Brazil</td>\n",
       "      <td>South America</td>\n",
       "      <td>200.40</td>\n",
       "      <td>73.12</td>\n",
       "    </tr>\n",
       "    <tr>\n",
       "      <th>3</th>\n",
       "      <td>Canada</td>\n",
       "      <td>North America</td>\n",
       "      <td>35.99</td>\n",
       "      <td>80.99</td>\n",
       "    </tr>\n",
       "  </tbody>\n",
       "</table>\n",
       "</div>"
      ],
      "text/plain": [
       "     Country         Region  Population  Life Exp\n",
       "0  Argentina  South America       43.59     75.77\n",
       "1  Australia        Oceania       23.99     82.09\n",
       "2     Brazil  South America      200.40     73.12\n",
       "3     Canada  North America       35.99     80.99"
      ]
     },
     "execution_count": 4,
     "metadata": {},
     "output_type": "execute_result"
    }
   ],
   "source": [
    "# display the DataFrame's contents\n",
    "df1"
   ]
  },
  {
   "cell_type": "markdown",
   "id": "dba55eb9",
   "metadata": {},
   "source": [
    "A DataFrame's associated `shape` attribute tells the number of rows and columns it has:"
   ]
  },
  {
   "cell_type": "code",
   "execution_count": 5,
   "id": "09067f20",
   "metadata": {},
   "outputs": [
    {
     "data": {
      "text/plain": [
       "(4, 4)"
      ]
     },
     "execution_count": 5,
     "metadata": {},
     "output_type": "execute_result"
    }
   ],
   "source": [
    "df1.shape"
   ]
  },
  {
   "cell_type": "markdown",
   "id": "9002328d",
   "metadata": {},
   "source": [
    "If we do not provide data for an index, Pandas automatically creates numeric index labels for the rows, starting at 0. Alternatively, we could pass an explicit list of values to use as an index (e.g. country names in this case)."
   ]
  },
  {
   "cell_type": "code",
   "execution_count": 6,
   "id": "758ee0b6",
   "metadata": {},
   "outputs": [
    {
     "data": {
      "text/html": [
       "<div>\n",
       "<style scoped>\n",
       "    .dataframe tbody tr th:only-of-type {\n",
       "        vertical-align: middle;\n",
       "    }\n",
       "\n",
       "    .dataframe tbody tr th {\n",
       "        vertical-align: top;\n",
       "    }\n",
       "\n",
       "    .dataframe thead th {\n",
       "        text-align: right;\n",
       "    }\n",
       "</style>\n",
       "<table border=\"1\" class=\"dataframe\">\n",
       "  <thead>\n",
       "    <tr style=\"text-align: right;\">\n",
       "      <th></th>\n",
       "      <th>Region</th>\n",
       "      <th>Population</th>\n",
       "      <th>Life Exp</th>\n",
       "    </tr>\n",
       "  </thead>\n",
       "  <tbody>\n",
       "    <tr>\n",
       "      <th>Argentina</th>\n",
       "      <td>South America</td>\n",
       "      <td>43.59</td>\n",
       "      <td>75.77</td>\n",
       "    </tr>\n",
       "    <tr>\n",
       "      <th>Australia</th>\n",
       "      <td>Oceania</td>\n",
       "      <td>23.99</td>\n",
       "      <td>82.09</td>\n",
       "    </tr>\n",
       "    <tr>\n",
       "      <th>Brazil</th>\n",
       "      <td>South America</td>\n",
       "      <td>200.40</td>\n",
       "      <td>73.12</td>\n",
       "    </tr>\n",
       "    <tr>\n",
       "      <th>Canada</th>\n",
       "      <td>North America</td>\n",
       "      <td>35.99</td>\n",
       "      <td>80.99</td>\n",
       "    </tr>\n",
       "  </tbody>\n",
       "</table>\n",
       "</div>"
      ],
      "text/plain": [
       "                  Region  Population  Life Exp\n",
       "Argentina  South America       43.59     75.77\n",
       "Australia        Oceania       23.99     82.09\n",
       "Brazil     South America      200.40     73.12\n",
       "Canada     North America       35.99     80.99"
      ]
     },
     "execution_count": 6,
     "metadata": {},
     "output_type": "execute_result"
    }
   ],
   "source": [
    "# create the dictionary of lists\n",
    "d2 = {\"Region\":regions, \"Population\":pops, \"Life Exp\":life_exp}\n",
    "# create the DataFrame, specifying a set of index labels too\n",
    "df2 = pd.DataFrame(d2, index=countries)\n",
    "df2"
   ]
  },
  {
   "cell_type": "markdown",
   "id": "3b865c73",
   "metadata": {},
   "source": [
    "Like a Series, a DataFrame has an associated `index` attribute, which allows us to access the index values alone:"
   ]
  },
  {
   "cell_type": "code",
   "execution_count": 7,
   "id": "56613534",
   "metadata": {},
   "outputs": [
    {
     "data": {
      "text/plain": [
       "Index(['Argentina', 'Australia', 'Brazil', 'Canada'], dtype='object')"
      ]
     },
     "execution_count": 7,
     "metadata": {},
     "output_type": "execute_result"
    }
   ],
   "source": [
    "df2.index"
   ]
  },
  {
   "cell_type": "markdown",
   "id": "11dc7b53",
   "metadata": {},
   "source": [
    "We can use the *in* operator to check whether or not a particular index exists in the DataFrame:"
   ]
  },
  {
   "cell_type": "code",
   "execution_count": 8,
   "id": "5f69f91e",
   "metadata": {},
   "outputs": [
    {
     "data": {
      "text/plain": [
       "True"
      ]
     },
     "execution_count": 8,
     "metadata": {},
     "output_type": "execute_result"
    }
   ],
   "source": [
    "\"Australia\" in df2.index"
   ]
  },
  {
   "cell_type": "code",
   "execution_count": 9,
   "id": "5ac90232",
   "metadata": {},
   "outputs": [
    {
     "data": {
      "text/plain": [
       "False"
      ]
     },
     "execution_count": 9,
     "metadata": {},
     "output_type": "execute_result"
    }
   ],
   "source": [
    "\"Ireland\" in df2.index"
   ]
  },
  {
   "cell_type": "markdown",
   "id": "a5b96099",
   "metadata": {},
   "source": [
    "The `columns` attribute of a DataFrame returns back an ordered list of its column names (excluding the index):"
   ]
  },
  {
   "cell_type": "code",
   "execution_count": 10,
   "id": "5e47016d",
   "metadata": {},
   "outputs": [
    {
     "data": {
      "text/plain": [
       "Index(['Region', 'Population', 'Life Exp'], dtype='object')"
      ]
     },
     "execution_count": 10,
     "metadata": {},
     "output_type": "execute_result"
    }
   ],
   "source": [
    "df2.columns"
   ]
  },
  {
   "cell_type": "markdown",
   "id": "24e782e8",
   "metadata": {},
   "source": [
    "We can use the `in` operator to check whether or not a particular column exists in a DataFrame:"
   ]
  },
  {
   "cell_type": "code",
   "execution_count": 11,
   "id": "aa7befba",
   "metadata": {},
   "outputs": [
    {
     "data": {
      "text/plain": [
       "True"
      ]
     },
     "execution_count": 11,
     "metadata": {},
     "output_type": "execute_result"
    }
   ],
   "source": [
    "\"Population\" in df2.columns"
   ]
  },
  {
   "cell_type": "code",
   "execution_count": 12,
   "id": "8366993c",
   "metadata": {},
   "outputs": [
    {
     "data": {
      "text/plain": [
       "False"
      ]
     },
     "execution_count": 12,
     "metadata": {},
     "output_type": "execute_result"
    }
   ],
   "source": [
    "\"GDP\" in df2.columns"
   ]
  },
  {
   "cell_type": "markdown",
   "id": "c0eb6a7c",
   "metadata": {},
   "source": [
    "## Loading Pandas DataFrames\n",
    "\n",
    "Next we will load a dataset of country statistics from a Comma-Separated Values (CSV) file."
   ]
  },
  {
   "cell_type": "code",
   "execution_count": 14,
   "id": "67d36322",
   "metadata": {},
   "outputs": [
    {
     "data": {
      "text/plain": [
       "(21, 6)"
      ]
     },
     "execution_count": 14,
     "metadata": {},
     "output_type": "execute_result"
    }
   ],
   "source": [
    "df3 = pd.read_csv(\"data/world_data.csv\")\n",
    "# check the size of the dataset which we have loaded (rows, columns)\n",
    "df3.shape"
   ]
  },
  {
   "cell_type": "markdown",
   "id": "b548f566",
   "metadata": {},
   "source": [
    "We can display the first *n* values in the Pandas by calling the associated `head` function:"
   ]
  },
  {
   "cell_type": "code",
   "execution_count": 15,
   "id": "f30260e5",
   "metadata": {},
   "outputs": [
    {
     "data": {
      "text/html": [
       "<div>\n",
       "<style scoped>\n",
       "    .dataframe tbody tr th:only-of-type {\n",
       "        vertical-align: middle;\n",
       "    }\n",
       "\n",
       "    .dataframe tbody tr th {\n",
       "        vertical-align: top;\n",
       "    }\n",
       "\n",
       "    .dataframe thead th {\n",
       "        text-align: right;\n",
       "    }\n",
       "</style>\n",
       "<table border=\"1\" class=\"dataframe\">\n",
       "  <thead>\n",
       "    <tr style=\"text-align: right;\">\n",
       "      <th></th>\n",
       "      <th>Country</th>\n",
       "      <th>Region</th>\n",
       "      <th>Population</th>\n",
       "      <th>Life Exp</th>\n",
       "      <th>Landlocked</th>\n",
       "      <th>Language</th>\n",
       "    </tr>\n",
       "  </thead>\n",
       "  <tbody>\n",
       "    <tr>\n",
       "      <th>0</th>\n",
       "      <td>Argentina</td>\n",
       "      <td>South America</td>\n",
       "      <td>43.59</td>\n",
       "      <td>75.77</td>\n",
       "      <td>No</td>\n",
       "      <td>Spanish</td>\n",
       "    </tr>\n",
       "    <tr>\n",
       "      <th>1</th>\n",
       "      <td>Australia</td>\n",
       "      <td>Oceania</td>\n",
       "      <td>23.99</td>\n",
       "      <td>82.09</td>\n",
       "      <td>No</td>\n",
       "      <td>English</td>\n",
       "    </tr>\n",
       "    <tr>\n",
       "      <th>2</th>\n",
       "      <td>Brazil</td>\n",
       "      <td>South America</td>\n",
       "      <td>200.40</td>\n",
       "      <td>73.12</td>\n",
       "      <td>No</td>\n",
       "      <td>Portuguese</td>\n",
       "    </tr>\n",
       "    <tr>\n",
       "      <th>3</th>\n",
       "      <td>Canada</td>\n",
       "      <td>North America</td>\n",
       "      <td>35.99</td>\n",
       "      <td>80.99</td>\n",
       "      <td>No</td>\n",
       "      <td>English</td>\n",
       "    </tr>\n",
       "    <tr>\n",
       "      <th>4</th>\n",
       "      <td>Chad</td>\n",
       "      <td>Africa</td>\n",
       "      <td>11.63</td>\n",
       "      <td>49.81</td>\n",
       "      <td>Yes</td>\n",
       "      <td>Arabic</td>\n",
       "    </tr>\n",
       "  </tbody>\n",
       "</table>\n",
       "</div>"
      ],
      "text/plain": [
       "     Country         Region  Population  Life Exp Landlocked    Language\n",
       "0  Argentina  South America       43.59     75.77         No     Spanish\n",
       "1  Australia        Oceania       23.99     82.09         No     English\n",
       "2     Brazil  South America      200.40     73.12         No  Portuguese\n",
       "3     Canada  North America       35.99     80.99         No     English\n",
       "4       Chad         Africa       11.63     49.81        Yes      Arabic"
      ]
     },
     "execution_count": 15,
     "metadata": {},
     "output_type": "execute_result"
    }
   ],
   "source": [
    "# display first 5 rows\n",
    "df3.head(5)"
   ]
  },
  {
   "cell_type": "markdown",
   "id": "dc1ef17c",
   "metadata": {},
   "source": [
    "We can also tell the `read_csv` function to use one of the columns in the CSV file as the index for the rows in our data. "
   ]
  },
  {
   "cell_type": "code",
   "execution_count": 17,
   "id": "54b30f29",
   "metadata": {},
   "outputs": [
    {
     "data": {
      "text/plain": [
       "(21, 5)"
      ]
     },
     "execution_count": 17,
     "metadata": {},
     "output_type": "execute_result"
    }
   ],
   "source": [
    "df4 = pd.read_csv(\"data/world_data.csv\", index_col=\"Country\")\n",
    "# check the size of the dataset which we have loaded\n",
    "df4.shape"
   ]
  },
  {
   "cell_type": "code",
   "execution_count": 18,
   "id": "81432369",
   "metadata": {},
   "outputs": [
    {
     "data": {
      "text/html": [
       "<div>\n",
       "<style scoped>\n",
       "    .dataframe tbody tr th:only-of-type {\n",
       "        vertical-align: middle;\n",
       "    }\n",
       "\n",
       "    .dataframe tbody tr th {\n",
       "        vertical-align: top;\n",
       "    }\n",
       "\n",
       "    .dataframe thead th {\n",
       "        text-align: right;\n",
       "    }\n",
       "</style>\n",
       "<table border=\"1\" class=\"dataframe\">\n",
       "  <thead>\n",
       "    <tr style=\"text-align: right;\">\n",
       "      <th></th>\n",
       "      <th>Region</th>\n",
       "      <th>Population</th>\n",
       "      <th>Life Exp</th>\n",
       "      <th>Landlocked</th>\n",
       "      <th>Language</th>\n",
       "    </tr>\n",
       "    <tr>\n",
       "      <th>Country</th>\n",
       "      <th></th>\n",
       "      <th></th>\n",
       "      <th></th>\n",
       "      <th></th>\n",
       "      <th></th>\n",
       "    </tr>\n",
       "  </thead>\n",
       "  <tbody>\n",
       "    <tr>\n",
       "      <th>Argentina</th>\n",
       "      <td>South America</td>\n",
       "      <td>43.59</td>\n",
       "      <td>75.77</td>\n",
       "      <td>No</td>\n",
       "      <td>Spanish</td>\n",
       "    </tr>\n",
       "    <tr>\n",
       "      <th>Australia</th>\n",
       "      <td>Oceania</td>\n",
       "      <td>23.99</td>\n",
       "      <td>82.09</td>\n",
       "      <td>No</td>\n",
       "      <td>English</td>\n",
       "    </tr>\n",
       "    <tr>\n",
       "      <th>Brazil</th>\n",
       "      <td>South America</td>\n",
       "      <td>200.40</td>\n",
       "      <td>73.12</td>\n",
       "      <td>No</td>\n",
       "      <td>Portuguese</td>\n",
       "    </tr>\n",
       "    <tr>\n",
       "      <th>Canada</th>\n",
       "      <td>North America</td>\n",
       "      <td>35.99</td>\n",
       "      <td>80.99</td>\n",
       "      <td>No</td>\n",
       "      <td>English</td>\n",
       "    </tr>\n",
       "    <tr>\n",
       "      <th>Chad</th>\n",
       "      <td>Africa</td>\n",
       "      <td>11.63</td>\n",
       "      <td>49.81</td>\n",
       "      <td>Yes</td>\n",
       "      <td>Arabic</td>\n",
       "    </tr>\n",
       "    <tr>\n",
       "      <th>China</th>\n",
       "      <td>Asia</td>\n",
       "      <td>1357.00</td>\n",
       "      <td>74.87</td>\n",
       "      <td>No</td>\n",
       "      <td>Chinese</td>\n",
       "    </tr>\n",
       "    <tr>\n",
       "      <th>Egypt</th>\n",
       "      <td>Africa</td>\n",
       "      <td>90.37</td>\n",
       "      <td>70.48</td>\n",
       "      <td>No</td>\n",
       "      <td>Arabic</td>\n",
       "    </tr>\n",
       "    <tr>\n",
       "      <th>Germany</th>\n",
       "      <td>Europe</td>\n",
       "      <td>81.46</td>\n",
       "      <td>80.24</td>\n",
       "      <td>No</td>\n",
       "      <td>German</td>\n",
       "    </tr>\n",
       "    <tr>\n",
       "      <th>Ireland</th>\n",
       "      <td>Europe</td>\n",
       "      <td>4.64</td>\n",
       "      <td>80.15</td>\n",
       "      <td>No</td>\n",
       "      <td>English</td>\n",
       "    </tr>\n",
       "    <tr>\n",
       "      <th>Japan</th>\n",
       "      <td>Asia</td>\n",
       "      <td>126.26</td>\n",
       "      <td>84.36</td>\n",
       "      <td>No</td>\n",
       "      <td>Japanese</td>\n",
       "    </tr>\n",
       "  </tbody>\n",
       "</table>\n",
       "</div>"
      ],
      "text/plain": [
       "                  Region  Population  Life Exp Landlocked    Language\n",
       "Country                                                              \n",
       "Argentina  South America       43.59     75.77         No     Spanish\n",
       "Australia        Oceania       23.99     82.09         No     English\n",
       "Brazil     South America      200.40     73.12         No  Portuguese\n",
       "Canada     North America       35.99     80.99         No     English\n",
       "Chad              Africa       11.63     49.81        Yes      Arabic\n",
       "China               Asia     1357.00     74.87         No     Chinese\n",
       "Egypt             Africa       90.37     70.48         No      Arabic\n",
       "Germany           Europe       81.46     80.24         No      German\n",
       "Ireland           Europe        4.64     80.15         No     English\n",
       "Japan               Asia      126.26     84.36         No    Japanese"
      ]
     },
     "execution_count": 18,
     "metadata": {},
     "output_type": "execute_result"
    }
   ],
   "source": [
    "# display first 10 rows\n",
    "df4.head(10)"
   ]
  },
  {
   "cell_type": "code",
   "execution_count": 19,
   "id": "d55b5046",
   "metadata": {},
   "outputs": [
    {
     "data": {
      "text/plain": [
       "Index(['Region', 'Population', 'Life Exp', 'Landlocked', 'Language'], dtype='object')"
      ]
     },
     "execution_count": 19,
     "metadata": {},
     "output_type": "execute_result"
    }
   ],
   "source": [
    "# check the column names\n",
    "df4.columns"
   ]
  },
  {
   "cell_type": "code",
   "execution_count": 20,
   "id": "b384e654",
   "metadata": {},
   "outputs": [
    {
     "data": {
      "text/plain": [
       "Index(['Argentina', 'Australia', 'Brazil', 'Canada', 'Chad', 'China', 'Egypt',\n",
       "       'Germany', 'Ireland', 'Japan', 'Mexico', 'New Zealand', 'Niger',\n",
       "       'Nigeria', 'Paraguay', 'Portugal', 'South Korea', 'Spain',\n",
       "       'Switzerland', 'United Kingdom', 'United States'],\n",
       "      dtype='object', name='Country')"
      ]
     },
     "execution_count": 20,
     "metadata": {},
     "output_type": "execute_result"
    }
   ],
   "source": [
    "# check the row index labels\n",
    "df4.index"
   ]
  },
  {
   "cell_type": "markdown",
   "id": "97f0ddb4",
   "metadata": {},
   "source": [
    "## Accessing Columns in DataFrames\n",
    "\n",
    "Pandas provides a number of different ways in which to access the elements in a DataFrame (columns, rows, or individual values)."
   ]
  },
  {
   "cell_type": "markdown",
   "id": "3c2100f3",
   "metadata": {},
   "source": [
    "Columns in a DataFrame can be accessed using the index label of the column to give a single column Series. Note the original row index labels are retained:"
   ]
  },
  {
   "cell_type": "code",
   "execution_count": 21,
   "id": "3a898815",
   "metadata": {},
   "outputs": [
    {
     "data": {
      "text/plain": [
       "Country\n",
       "Argentina           43.59\n",
       "Australia           23.99\n",
       "Brazil             200.40\n",
       "Canada              35.99\n",
       "Chad                11.63\n",
       "China             1357.00\n",
       "Egypt               90.37\n",
       "Germany             81.46\n",
       "Ireland              4.64\n",
       "Japan              126.26\n",
       "Mexico             127.58\n",
       "New Zealand          4.66\n",
       "Niger               18.05\n",
       "Nigeria            186.99\n",
       "Paraguay             6.78\n",
       "Portugal            10.29\n",
       "South Korea         51.71\n",
       "Spain               47.13\n",
       "Switzerland          8.12\n",
       "United Kingdom      65.10\n",
       "United States      321.07\n",
       "Name: Population, dtype: float64"
      ]
     },
     "execution_count": 21,
     "metadata": {},
     "output_type": "execute_result"
    }
   ],
   "source": [
    "df4[\"Population\"]"
   ]
  },
  {
   "cell_type": "code",
   "execution_count": 22,
   "id": "f374a1e9",
   "metadata": {},
   "outputs": [
    {
     "data": {
      "text/plain": [
       "Country\n",
       "Argentina         South America\n",
       "Australia               Oceania\n",
       "Brazil            South America\n",
       "Canada            North America\n",
       "Chad                     Africa\n",
       "China                      Asia\n",
       "Egypt                    Africa\n",
       "Germany                  Europe\n",
       "Ireland                  Europe\n",
       "Japan                      Asia\n",
       "Mexico            North America\n",
       "New Zealand             Oceania\n",
       "Niger                    Africa\n",
       "Nigeria                  Africa\n",
       "Paraguay          South America\n",
       "Portugal                 Europe\n",
       "South Korea                Asia\n",
       "Spain                    Europe\n",
       "Switzerland              Europe\n",
       "United Kingdom           Europe\n",
       "United States     North America\n",
       "Name: Region, dtype: object"
      ]
     },
     "execution_count": 22,
     "metadata": {},
     "output_type": "execute_result"
    }
   ],
   "source": [
    "df4[\"Region\"]"
   ]
  },
  {
   "cell_type": "markdown",
   "id": "54bf96ef",
   "metadata": {},
   "source": [
    "We can easily select multiple columns by passing a list of column labels. Note that when multiple columns are selected the returned object is a DataFrame rather than a Series."
   ]
  },
  {
   "cell_type": "code",
   "execution_count": 23,
   "id": "1362b06c",
   "metadata": {},
   "outputs": [
    {
     "data": {
      "text/html": [
       "<div>\n",
       "<style scoped>\n",
       "    .dataframe tbody tr th:only-of-type {\n",
       "        vertical-align: middle;\n",
       "    }\n",
       "\n",
       "    .dataframe tbody tr th {\n",
       "        vertical-align: top;\n",
       "    }\n",
       "\n",
       "    .dataframe thead th {\n",
       "        text-align: right;\n",
       "    }\n",
       "</style>\n",
       "<table border=\"1\" class=\"dataframe\">\n",
       "  <thead>\n",
       "    <tr style=\"text-align: right;\">\n",
       "      <th></th>\n",
       "      <th>Region</th>\n",
       "      <th>Population</th>\n",
       "      <th>Language</th>\n",
       "    </tr>\n",
       "    <tr>\n",
       "      <th>Country</th>\n",
       "      <th></th>\n",
       "      <th></th>\n",
       "      <th></th>\n",
       "    </tr>\n",
       "  </thead>\n",
       "  <tbody>\n",
       "    <tr>\n",
       "      <th>Argentina</th>\n",
       "      <td>South America</td>\n",
       "      <td>43.59</td>\n",
       "      <td>Spanish</td>\n",
       "    </tr>\n",
       "    <tr>\n",
       "      <th>Australia</th>\n",
       "      <td>Oceania</td>\n",
       "      <td>23.99</td>\n",
       "      <td>English</td>\n",
       "    </tr>\n",
       "    <tr>\n",
       "      <th>Brazil</th>\n",
       "      <td>South America</td>\n",
       "      <td>200.40</td>\n",
       "      <td>Portuguese</td>\n",
       "    </tr>\n",
       "    <tr>\n",
       "      <th>Canada</th>\n",
       "      <td>North America</td>\n",
       "      <td>35.99</td>\n",
       "      <td>English</td>\n",
       "    </tr>\n",
       "    <tr>\n",
       "      <th>Chad</th>\n",
       "      <td>Africa</td>\n",
       "      <td>11.63</td>\n",
       "      <td>Arabic</td>\n",
       "    </tr>\n",
       "    <tr>\n",
       "      <th>China</th>\n",
       "      <td>Asia</td>\n",
       "      <td>1357.00</td>\n",
       "      <td>Chinese</td>\n",
       "    </tr>\n",
       "    <tr>\n",
       "      <th>Egypt</th>\n",
       "      <td>Africa</td>\n",
       "      <td>90.37</td>\n",
       "      <td>Arabic</td>\n",
       "    </tr>\n",
       "    <tr>\n",
       "      <th>Germany</th>\n",
       "      <td>Europe</td>\n",
       "      <td>81.46</td>\n",
       "      <td>German</td>\n",
       "    </tr>\n",
       "    <tr>\n",
       "      <th>Ireland</th>\n",
       "      <td>Europe</td>\n",
       "      <td>4.64</td>\n",
       "      <td>English</td>\n",
       "    </tr>\n",
       "    <tr>\n",
       "      <th>Japan</th>\n",
       "      <td>Asia</td>\n",
       "      <td>126.26</td>\n",
       "      <td>Japanese</td>\n",
       "    </tr>\n",
       "    <tr>\n",
       "      <th>Mexico</th>\n",
       "      <td>North America</td>\n",
       "      <td>127.58</td>\n",
       "      <td>Spanish</td>\n",
       "    </tr>\n",
       "    <tr>\n",
       "      <th>New Zealand</th>\n",
       "      <td>Oceania</td>\n",
       "      <td>4.66</td>\n",
       "      <td>English</td>\n",
       "    </tr>\n",
       "    <tr>\n",
       "      <th>Niger</th>\n",
       "      <td>Africa</td>\n",
       "      <td>18.05</td>\n",
       "      <td>French</td>\n",
       "    </tr>\n",
       "    <tr>\n",
       "      <th>Nigeria</th>\n",
       "      <td>Africa</td>\n",
       "      <td>186.99</td>\n",
       "      <td>English</td>\n",
       "    </tr>\n",
       "    <tr>\n",
       "      <th>Paraguay</th>\n",
       "      <td>South America</td>\n",
       "      <td>6.78</td>\n",
       "      <td>Spanish</td>\n",
       "    </tr>\n",
       "    <tr>\n",
       "      <th>Portugal</th>\n",
       "      <td>Europe</td>\n",
       "      <td>10.29</td>\n",
       "      <td>Portuguese</td>\n",
       "    </tr>\n",
       "    <tr>\n",
       "      <th>South Korea</th>\n",
       "      <td>Asia</td>\n",
       "      <td>51.71</td>\n",
       "      <td>Korean</td>\n",
       "    </tr>\n",
       "    <tr>\n",
       "      <th>Spain</th>\n",
       "      <td>Europe</td>\n",
       "      <td>47.13</td>\n",
       "      <td>Spanish</td>\n",
       "    </tr>\n",
       "    <tr>\n",
       "      <th>Switzerland</th>\n",
       "      <td>Europe</td>\n",
       "      <td>8.12</td>\n",
       "      <td>German</td>\n",
       "    </tr>\n",
       "    <tr>\n",
       "      <th>United Kingdom</th>\n",
       "      <td>Europe</td>\n",
       "      <td>65.10</td>\n",
       "      <td>English</td>\n",
       "    </tr>\n",
       "    <tr>\n",
       "      <th>United States</th>\n",
       "      <td>North America</td>\n",
       "      <td>321.07</td>\n",
       "      <td>English</td>\n",
       "    </tr>\n",
       "  </tbody>\n",
       "</table>\n",
       "</div>"
      ],
      "text/plain": [
       "                       Region  Population    Language\n",
       "Country                                              \n",
       "Argentina       South America       43.59     Spanish\n",
       "Australia             Oceania       23.99     English\n",
       "Brazil          South America      200.40  Portuguese\n",
       "Canada          North America       35.99     English\n",
       "Chad                   Africa       11.63      Arabic\n",
       "China                    Asia     1357.00     Chinese\n",
       "Egypt                  Africa       90.37      Arabic\n",
       "Germany                Europe       81.46      German\n",
       "Ireland                Europe        4.64     English\n",
       "Japan                    Asia      126.26    Japanese\n",
       "Mexico          North America      127.58     Spanish\n",
       "New Zealand           Oceania        4.66     English\n",
       "Niger                  Africa       18.05      French\n",
       "Nigeria                Africa      186.99     English\n",
       "Paraguay        South America        6.78     Spanish\n",
       "Portugal               Europe       10.29  Portuguese\n",
       "South Korea              Asia       51.71      Korean\n",
       "Spain                  Europe       47.13     Spanish\n",
       "Switzerland            Europe        8.12      German\n",
       "United Kingdom         Europe       65.10     English\n",
       "United States   North America      321.07     English"
      ]
     },
     "execution_count": 23,
     "metadata": {},
     "output_type": "execute_result"
    }
   ],
   "source": [
    "df4[[\"Region\", \"Population\", \"Language\"]]"
   ]
  },
  {
   "cell_type": "markdown",
   "id": "35a56aec",
   "metadata": {},
   "source": [
    "We can also use numeric positions to access individual columns, using iloc and square brackets notation:"
   ]
  },
  {
   "cell_type": "code",
   "execution_count": null,
   "id": "2263984c",
   "metadata": {},
   "outputs": [],
   "source": [
    "# return all rows and the 2nd column\n",
    "df4.iloc[:,1]"
   ]
  },
  {
   "cell_type": "markdown",
   "id": "a682685c",
   "metadata": {},
   "source": [
    "We can also use the *iloc[]* operator to perform slicing, allowing us to select multiple columns based on their position. The result will be a DataFrame with the specified columns:"
   ]
  },
  {
   "cell_type": "code",
   "execution_count": null,
   "id": "f0c4f09f",
   "metadata": {},
   "outputs": [],
   "source": [
    "# return all rows and first two columns\n",
    "df4.iloc[:,0:2]"
   ]
  },
  {
   "cell_type": "markdown",
   "id": "681cdf1b",
   "metadata": {},
   "source": [
    "## Accessing Rows in DataFrames\n",
    "\n",
    "We can access rows of a DataFrame in several different ways."
   ]
  },
  {
   "cell_type": "markdown",
   "id": "5967aac1",
   "metadata": {},
   "source": [
    "We can access a single row of a DataFrame, by using the *loc[]* operator and the index label of the row. This returns a Series:"
   ]
  },
  {
   "cell_type": "code",
   "execution_count": null,
   "id": "f5ed65dd",
   "metadata": {},
   "outputs": [],
   "source": [
    "df4.loc[\"Spain\"]"
   ]
  },
  {
   "cell_type": "code",
   "execution_count": null,
   "id": "aa427008",
   "metadata": {},
   "outputs": [],
   "source": [
    "df4.loc[\"Ireland\"]"
   ]
  },
  {
   "cell_type": "markdown",
   "id": "0e9078ae",
   "metadata": {},
   "source": [
    "Notice that the row is returned as a Series with the column names as index labels. We can access individual elements using these. The Series also retains its original row index label, in the attribute *name*."
   ]
  },
  {
   "cell_type": "code",
   "execution_count": null,
   "id": "14c06ccc",
   "metadata": {},
   "outputs": [],
   "source": [
    "row = df4.loc[\"Ireland\"]\n",
    "print(\"%s is in %s and has a population of %.2f million\" % (row.name, row[\"Region\"], row[\"Population\"]))"
   ]
  },
  {
   "cell_type": "markdown",
   "id": "2f88034a",
   "metadata": {},
   "source": [
    "Alternatively, we can access a single row by numeric position using *iloc[]*, counting from zero:"
   ]
  },
  {
   "cell_type": "code",
   "execution_count": null,
   "id": "a559d4e4",
   "metadata": {},
   "outputs": [],
   "source": [
    "# return the 1st row\n",
    "df4.iloc[0]"
   ]
  },
  {
   "cell_type": "code",
   "execution_count": null,
   "id": "e8058e9d",
   "metadata": {},
   "outputs": [],
   "source": [
    "# return the last row\n",
    "df4.iloc[-1]"
   ]
  },
  {
   "cell_type": "code",
   "execution_count": null,
   "id": "077fc9cd",
   "metadata": {},
   "outputs": [],
   "source": [
    "# return the 7th row\n",
    "row = df4.iloc[6]\n",
    "# print some values for this row\n",
    "print(\"%s is in %s and has a population of %.2f million\" % (row.name, row[\"Region\"], row[\"Population\"]))"
   ]
  },
  {
   "cell_type": "markdown",
   "id": "9ee48158",
   "metadata": {},
   "source": [
    "Both methods can be used to specify multiple rows to access. The result is a DataFrame in either case:"
   ]
  },
  {
   "cell_type": "code",
   "execution_count": null,
   "id": "76dc90e7",
   "metadata": {},
   "outputs": [],
   "source": [
    "# use a list to specify multiple index labels\n",
    "df4.loc[[\"Ireland\", \"Australia\", \"Portugal\", \"Spain\"]]"
   ]
  },
  {
   "cell_type": "code",
   "execution_count": null,
   "id": "088c8867",
   "metadata": {},
   "outputs": [],
   "source": [
    "# use slicing to specify multiple row positions\n",
    "df4.iloc[0:4]"
   ]
  },
  {
   "cell_type": "code",
   "execution_count": null,
   "id": "b3ade3cb",
   "metadata": {},
   "outputs": [],
   "source": [
    "# use a list to specify multiple row positions\n",
    "positions = [5, 1, 3, 15, 11]\n",
    "df4.iloc[positions]"
   ]
  },
  {
   "cell_type": "markdown",
   "id": "18ba44c6",
   "metadata": {},
   "source": [
    "## Accessing Individual Values\n",
    "\n",
    "We can extend the row/column access approaches above to access individual elements in a DataFrame:"
   ]
  },
  {
   "cell_type": "code",
   "execution_count": null,
   "id": "6f59dec2",
   "metadata": {},
   "outputs": [],
   "source": [
    "# access individual value by column index, then row index\n",
    "df4[\"Life Exp\"][\"Portugal\"]"
   ]
  },
  {
   "cell_type": "code",
   "execution_count": null,
   "id": "c540c20d",
   "metadata": {},
   "outputs": [],
   "source": [
    "# access individual value by row index, then column index\n",
    "df4.loc[\"Spain\"][\"Population\"]"
   ]
  },
  {
   "cell_type": "code",
   "execution_count": null,
   "id": "ab45e29e",
   "metadata": {},
   "outputs": [],
   "source": [
    "# access individual value by row position, then column index\n",
    "df4.iloc[10][\"Region\"]"
   ]
  },
  {
   "cell_type": "code",
   "execution_count": null,
   "id": "c84bbc2d",
   "metadata": {},
   "outputs": [],
   "source": [
    "# access individual value by row position, then column position\n",
    "df4.iloc[10].iloc[2]"
   ]
  },
  {
   "cell_type": "markdown",
   "id": "b6278f8a",
   "metadata": {},
   "source": [
    "Alternatively, we can use the `at[]` operator if we need to get a single value in a DataFrame. We pass in a row/column index pair as arguments to the operator:"
   ]
  },
  {
   "cell_type": "code",
   "execution_count": null,
   "id": "be41ae95",
   "metadata": {},
   "outputs": [],
   "source": [
    "df4.at[\"Ireland\", \"Region\"]"
   ]
  },
  {
   "cell_type": "code",
   "execution_count": null,
   "id": "8c335b33",
   "metadata": {},
   "outputs": [],
   "source": [
    "df4.at[\"Germany\", \"Language\"]"
   ]
  },
  {
   "cell_type": "markdown",
   "id": "8bc14d2e",
   "metadata": {},
   "source": [
    "We can also use this *at[]* operator to modify individual values in a DataFrame:"
   ]
  },
  {
   "cell_type": "code",
   "execution_count": null,
   "id": "08585465",
   "metadata": {},
   "outputs": [],
   "source": [
    "# set the value\n",
    "df4.at[\"Ireland\", \"Population\"] = 4.71\n",
    "# check the value\n",
    "df4.at[\"Ireland\", \"Population\"]"
   ]
  },
  {
   "cell_type": "markdown",
   "id": "44fedbcd",
   "metadata": {},
   "source": [
    "## Applying Conditions to DataFrames\n",
    "\n",
    "We might want to filter the values in a DataFrame, to reduce it to a subset of the original values based on some condition applied to one or more columns in the frame. \n",
    "\n",
    "We can do this by combining the `loc` operator with a boolean expression."
   ]
  },
  {
   "cell_type": "code",
   "execution_count": null,
   "id": "fc7ffb25",
   "metadata": {},
   "outputs": [],
   "source": [
    "# check which rows satisfy this condition \n",
    "df4[\"Life Exp\"] > 80"
   ]
  },
  {
   "cell_type": "code",
   "execution_count": null,
   "id": "61f38cd3",
   "metadata": {},
   "outputs": [],
   "source": [
    "# get subset of rows which satisfy this condition \n",
    "df4.loc[df4[\"Life Exp\"] > 80]"
   ]
  },
  {
   "cell_type": "markdown",
   "id": "b00b7c40",
   "metadata": {},
   "source": [
    "We can combine several different conditions using a boolean operator like AND (`&`) or OR (`|`). Note that each condition is surrounded in parentheses:"
   ]
  },
  {
   "cell_type": "code",
   "execution_count": null,
   "id": "9d391de3",
   "metadata": {},
   "outputs": [],
   "source": [
    "# check which rows satisfy both conditions\n",
    "(df4[\"Life Exp\"] > 80) & (df4[\"Region\"] == \"Europe\")"
   ]
  },
  {
   "cell_type": "code",
   "execution_count": null,
   "id": "08f45d01",
   "metadata": {},
   "outputs": [],
   "source": [
    "# get subset of rows which satisfy both conditions\n",
    "df4.loc[(df4[\"Life Exp\"] > 80) & (df4[\"Region\"] == \"Europe\")]"
   ]
  },
  {
   "cell_type": "code",
   "execution_count": null,
   "id": "2965db36",
   "metadata": {},
   "outputs": [],
   "source": [
    "# get subset of rows which satisfy either condition\n",
    "df4.loc[(df4[\"Life Exp\"] < 50) | (df4[\"Life Exp\"] > 83)]"
   ]
  },
  {
   "cell_type": "markdown",
   "id": "707d65d4",
   "metadata": {},
   "source": [
    "## DataFrame Summary Statistics"
   ]
  },
  {
   "cell_type": "markdown",
   "id": "662a9ff0",
   "metadata": {},
   "source": [
    "We can use the `describe` function to get a basic summary of the numeric values in a frame, which is returned as a new DataFrame with statistics for each columns:"
   ]
  },
  {
   "cell_type": "code",
   "execution_count": null,
   "id": "2d9eb3e8",
   "metadata": {},
   "outputs": [],
   "source": [
    "df4.describe()"
   ]
  },
  {
   "cell_type": "markdown",
   "id": "11f74127",
   "metadata": {},
   "source": [
    "We can also get individual statistics for each column containing numeric values. These get return as a new Series, one element for each column in the original frame:"
   ]
  },
  {
   "cell_type": "code",
   "execution_count": null,
   "id": "4128464c",
   "metadata": {},
   "outputs": [],
   "source": [
    "# get the mean values for columns \n",
    "df4.mean(numeric_only=True)"
   ]
  },
  {
   "cell_type": "code",
   "execution_count": null,
   "id": "14548014",
   "metadata": {},
   "outputs": [],
   "source": [
    "# get the median values for columns \n",
    "df4.median(numeric_only=True)"
   ]
  },
  {
   "cell_type": "code",
   "execution_count": null,
   "id": "b8a25153",
   "metadata": {},
   "outputs": [],
   "source": [
    "# get the ranges for the numeric values (i.e. minimum and maximum)\n",
    "df4.min(numeric_only=True), df4.max(numeric_only=True)"
   ]
  },
  {
   "cell_type": "code",
   "execution_count": null,
   "id": "0a1963ee",
   "metadata": {},
   "outputs": [],
   "source": [
    "# get the standard deviations\n",
    "df4.std(numeric_only=True)"
   ]
  },
  {
   "cell_type": "markdown",
   "id": "2d5dff9c",
   "metadata": {},
   "source": [
    "## Sorting DataFrames\n",
    "\n",
    "To sort a DataFrame, we call its associated `sort_values` function and specify a single column to sort by:"
   ]
  },
  {
   "cell_type": "code",
   "execution_count": null,
   "id": "7e982f0c",
   "metadata": {},
   "outputs": [],
   "source": [
    "# sort by population, lowest to highest\n",
    "df4.sort_values(by=\"Population\")"
   ]
  },
  {
   "cell_type": "markdown",
   "id": "af5ca59e",
   "metadata": {},
   "source": [
    "By default values are ordered in ascending order. We can sort in descending order, by specifying the argument `ascending=False`"
   ]
  },
  {
   "cell_type": "code",
   "execution_count": null,
   "id": "1ecac939",
   "metadata": {},
   "outputs": [],
   "source": [
    "# sort by population, highest to lowest\n",
    "df4.sort_values(by=\"Population\", ascending=False)"
   ]
  },
  {
   "cell_type": "markdown",
   "id": "decdc353",
   "metadata": {},
   "source": [
    "We can also specify a list of multiple columns to sort by, which can be used to resolve ties:"
   ]
  },
  {
   "cell_type": "code",
   "execution_count": null,
   "id": "6a41b0bd",
   "metadata": {},
   "outputs": [],
   "source": [
    "# sort by region first, then population\n",
    "df4.sort_values(by=[\"Region\",\"Population\"])"
   ]
  },
  {
   "cell_type": "code",
   "execution_count": null,
   "id": "1bde7903",
   "metadata": {},
   "outputs": [],
   "source": [
    "# sort by region first (ascending order), then population (descending order)\n",
    "df4.sort_values(by=[\"Region\",\"Population\"], ascending=[True, False])"
   ]
  },
  {
   "cell_type": "markdown",
   "id": "e48079be",
   "metadata": {},
   "source": [
    "We can also sort a DataFrame based on its index labels, by calling `sort_index()`"
   ]
  },
  {
   "cell_type": "code",
   "execution_count": null,
   "id": "b41df9cd",
   "metadata": {},
   "outputs": [],
   "source": [
    "df4.sort_index()"
   ]
  },
  {
   "cell_type": "markdown",
   "id": "012f4008",
   "metadata": {},
   "source": [
    "Ranking or sorting data can provide useful insights and facilitate various data analysis tasks.\n",
    "For instance, we might often want to perform Top-*N* Analysis - i.e. sorting data to identify the top or bottom values."
   ]
  },
  {
   "cell_type": "code",
   "execution_count": null,
   "id": "632945f0",
   "metadata": {},
   "outputs": [],
   "source": [
    "# get top-3 countries with highest population\n",
    "df4.sort_values(by=\"Population\", ascending=False).head(3)"
   ]
  },
  {
   "cell_type": "code",
   "execution_count": null,
   "id": "f626f8db",
   "metadata": {},
   "outputs": [],
   "source": [
    "# get bottom-3 countries with lowest population\n",
    "df4.sort_values(by=\"Population\", ascending=True).head(3)"
   ]
  }
 ],
 "metadata": {
  "kernelspec": {
   "display_name": "Python 3 (ipykernel)",
   "language": "python",
   "name": "python3"
  },
  "language_info": {
   "codemirror_mode": {
    "name": "ipython",
    "version": 3
   },
   "file_extension": ".py",
   "mimetype": "text/x-python",
   "name": "python",
   "nbconvert_exporter": "python",
   "pygments_lexer": "ipython3",
   "version": "3.13.5"
  }
 },
 "nbformat": 4,
 "nbformat_minor": 5
}
