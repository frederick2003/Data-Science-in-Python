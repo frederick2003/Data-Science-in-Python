{
 "cells": [
  {
   "cell_type": "markdown",
   "id": "f0711524",
   "metadata": {},
   "source": [
    "# Working with Pandas Series\n",
    "\n",
    "The *Pandas* package offers two key data structures that are optimised for data analysis and manipulation: *Series* and *DataFrame*. In this notebook we will start off by looking at the *Series*, which is a one-dimensional structure holding data of any type."
   ]
  },
  {
   "cell_type": "markdown",
   "id": "c420aa82",
   "metadata": {},
   "source": [
    "To start off, we import the Pandas package. We can import it as *pd* for shorthand."
   ]
  },
  {
   "cell_type": "code",
   "execution_count": null,
   "id": "336aa9ca",
   "metadata": {},
   "outputs": [],
   "source": [
    "import pandas as pd"
   ]
  },
  {
   "cell_type": "markdown",
   "id": "9bf0fb72",
   "metadata": {},
   "source": [
    "## Creating Pandas Series\n",
    "\n",
    "To create a new series, we can use the `Series`function. The simplest (but least useful) approach is to pass in a Python list. By default, the Series will have a numeric index, counting from 0."
   ]
  },
  {
   "cell_type": "code",
   "execution_count": null,
   "id": "b33ded38",
   "metadata": {},
   "outputs": [],
   "source": [
    "values = [2, 101, 45, 232, 45, 67]\n",
    "# create the Series\n",
    "s1 = pd.Series(values)\n",
    "s1"
   ]
  },
  {
   "cell_type": "code",
   "execution_count": null,
   "id": "83f95148",
   "metadata": {},
   "outputs": [],
   "source": [
    "# how many values in the series?\n",
    "len(s1)"
   ]
  },
  {
   "cell_type": "markdown",
   "id": "f6615b12",
   "metadata": {},
   "source": [
    "We can also explicitly pass a list of index labels to the *Series()* function to use a more useful index (in this case strings containing country names). Note the number of values and labels must match."
   ]
  },
  {
   "cell_type": "code",
   "execution_count": null,
   "id": "e3eb0d6f",
   "metadata": {},
   "outputs": [],
   "source": [
    "life_exp_values = [75.77, 82.09, 73.12, 80.99]\n",
    "countries = [\"Argentina\", \"Australia\", \"Brazil\", \"Canada\"]\n",
    "# create the Series\n",
    "s2 = pd.Series(life_exp_values, countries)\n",
    "s2"
   ]
  },
  {
   "cell_type": "code",
   "execution_count": null,
   "id": "3e1bf4bf",
   "metadata": {},
   "outputs": [],
   "source": [
    "# how many values in the series?\n",
    "len(s2)"
   ]
  },
  {
   "cell_type": "markdown",
   "id": "8c5ae0e0",
   "metadata": {},
   "source": [
    "This use of index labels very similar to a Python dictionary. In fact we can create a Pandas Series directly from a Python dictionary:"
   ]
  },
  {
   "cell_type": "code",
   "execution_count": null,
   "id": "1e1d0384",
   "metadata": {},
   "outputs": [],
   "source": [
    "d_life_exp = {\"Argentina\": 75.77, \"Australia\": 82.09, \"Brazil\": 73.12, \"Canada\": 80.99}\n",
    "s3 = pd.Series(d_life_exp)\n",
    "s3"
   ]
  },
  {
   "cell_type": "markdown",
   "id": "984400e4",
   "metadata": {},
   "source": [
    "Let's create a Series with a larger number of values: "
   ]
  },
  {
   "cell_type": "code",
   "execution_count": null,
   "id": "9212546e",
   "metadata": {},
   "outputs": [],
   "source": [
    "values = [75.77, 82.09, 73.12, 80.99, 49.81, 74.87, 70.48, 80.24, 80.15, \n",
    "          84.36, 75.05, 80.67, 55.13, 51.3, 76.99, 80.68, 83.23, 83.49, 82.5, 80.09, 78.51]\n",
    "labels = [\"Argentina\", \"Australia\", \"Brazil\", \"Canada\", \"Chad\", \"China\", \"Egypt\", \"Germany\", \"Ireland\", \n",
    "          \"Japan\", \"Mexico\", \"New Zealand\", \"Niger\", \"Nigeria\", \"Paraguay\", \"Portugal\", \"South Korea\", \n",
    "          \"Spain\", \"Switzerland\", \"United Kingdom\", \"United States\"]"
   ]
  },
  {
   "cell_type": "code",
   "execution_count": null,
   "id": "ac4010bf",
   "metadata": {},
   "outputs": [],
   "source": [
    "life_exp = pd.Series(values, labels)\n",
    "len(life_exp)"
   ]
  },
  {
   "cell_type": "markdown",
   "id": "137b2ccc",
   "metadata": {},
   "source": [
    "We can display the first *n* values in the Series by calling the associated *head()* function:"
   ]
  },
  {
   "cell_type": "code",
   "execution_count": null,
   "id": "2e07e494",
   "metadata": {},
   "outputs": [],
   "source": [
    "# show the first 10 values\n",
    "life_exp.head(10)"
   ]
  },
  {
   "cell_type": "markdown",
   "id": "9dae571b",
   "metadata": {},
   "source": [
    "A Series has an associated `index` attribute, which allows us to access the index values alone:"
   ]
  },
  {
   "cell_type": "code",
   "execution_count": null,
   "id": "f1584336",
   "metadata": {},
   "outputs": [],
   "source": [
    "life_exp.index"
   ]
  },
  {
   "cell_type": "markdown",
   "id": "580b9dbb",
   "metadata": {},
   "source": [
    "We can use the Python *in* operator to check whether or not a particular index exists in a Series:"
   ]
  },
  {
   "cell_type": "code",
   "execution_count": null,
   "id": "d7799702",
   "metadata": {},
   "outputs": [],
   "source": [
    "\"Canada\" in life_exp.index"
   ]
  },
  {
   "cell_type": "code",
   "execution_count": null,
   "id": "14258820",
   "metadata": {},
   "outputs": [],
   "source": [
    "\"France\" in life_exp.index"
   ]
  },
  {
   "cell_type": "markdown",
   "id": "9f42d959",
   "metadata": {},
   "source": [
    "## Accessing Values by Position"
   ]
  },
  {
   "cell_type": "markdown",
   "id": "3cbab5c9",
   "metadata": {},
   "source": [
    "A Pandas Series offers a number of different ways to access values. We can use simple position numbers like with standard Python lists, counting from 0:"
   ]
  },
  {
   "cell_type": "code",
   "execution_count": null,
   "id": "efd7dfea",
   "metadata": {},
   "outputs": [],
   "source": [
    "life_exp.iloc[0]"
   ]
  },
  {
   "cell_type": "code",
   "execution_count": null,
   "id": "0b78e801",
   "metadata": {},
   "outputs": [],
   "source": [
    "life_exp.iloc[4]"
   ]
  },
  {
   "cell_type": "markdown",
   "id": "d07989cc",
   "metadata": {},
   "source": [
    "We can use negative indexing to count from the last position backwards:"
   ]
  },
  {
   "cell_type": "code",
   "execution_count": null,
   "id": "8e78e136",
   "metadata": {},
   "outputs": [],
   "source": [
    "# get the last value in the Series\n",
    "life_exp.iloc[-1]"
   ]
  },
  {
   "cell_type": "code",
   "execution_count": null,
   "id": "144396f4",
   "metadata": {},
   "outputs": [],
   "source": [
    "# get the third last value\n",
    "life_exp.iloc[-3]"
   ]
  },
  {
   "cell_type": "markdown",
   "id": "f17f36c1",
   "metadata": {},
   "source": [
    "Just like lists, we can also using slicing via the `[i:j]` operation. Remember this includes the elements from position *i* up to but not including position *j*: "
   ]
  },
  {
   "cell_type": "code",
   "execution_count": null,
   "id": "b687c57e",
   "metadata": {},
   "outputs": [],
   "source": [
    "# start at position 0, end before position 2\n",
    "life_exp[0:2]"
   ]
  },
  {
   "cell_type": "code",
   "execution_count": null,
   "id": "66c94451",
   "metadata": {},
   "outputs": [],
   "source": [
    "# start at position 3, end before position 7\n",
    "life_exp[3:7]"
   ]
  },
  {
   "cell_type": "code",
   "execution_count": null,
   "id": "41269a22",
   "metadata": {},
   "outputs": [],
   "source": [
    "# start at the beginning of the Series, end before position 5\n",
    "life_exp[:5]"
   ]
  },
  {
   "cell_type": "code",
   "execution_count": null,
   "id": "bd5ad65d",
   "metadata": {},
   "outputs": [],
   "source": [
    "# start at position 8, go to the end of the Series\n",
    "life_exp[8:]"
   ]
  },
  {
   "cell_type": "markdown",
   "id": "f418da31",
   "metadata": {},
   "source": [
    "To access values by position in a Series, we can also use the `iloc[]` operator. This can be useful when we want to explicitly distinguish between positions and numeric index labels."
   ]
  },
  {
   "cell_type": "code",
   "execution_count": null,
   "id": "552d46cd",
   "metadata": {},
   "outputs": [],
   "source": [
    "# get the value at position 3\n",
    "life_exp.iloc[3]"
   ]
  },
  {
   "cell_type": "code",
   "execution_count": null,
   "id": "4f505f0f",
   "metadata": {},
   "outputs": [],
   "source": [
    "# start at position 3, end before position 7\n",
    "life_exp.iloc[3:7]"
   ]
  },
  {
   "cell_type": "markdown",
   "id": "76bfac50",
   "metadata": {},
   "source": [
    "We can return multiple specific values by passing in a list of numeric positions to `iloc[]`:"
   ]
  },
  {
   "cell_type": "code",
   "execution_count": null,
   "id": "816c20bb",
   "metadata": {},
   "outputs": [],
   "source": [
    "life_exp.iloc[[1, 3, 5, 7]]"
   ]
  },
  {
   "cell_type": "code",
   "execution_count": null,
   "id": "787e113b",
   "metadata": {},
   "outputs": [],
   "source": [
    "life_exp.iloc[[8, 11, 3, 14, 0]]"
   ]
  },
  {
   "cell_type": "markdown",
   "id": "aa1cb1ee",
   "metadata": {},
   "source": [
    "## Accessing Values by Index Label\n",
    "\n",
    "We can also access values by their associated index labels defined at creation using the `loc[]` operator:"
   ]
  },
  {
   "cell_type": "code",
   "execution_count": null,
   "id": "795bb972",
   "metadata": {},
   "outputs": [],
   "source": [
    "life_exp.loc[\"Ireland\"]"
   ]
  },
  {
   "cell_type": "code",
   "execution_count": null,
   "id": "14c2c72a",
   "metadata": {},
   "outputs": [],
   "source": [
    "life_exp.loc[\"Japan\"]"
   ]
  },
  {
   "cell_type": "markdown",
   "id": "b519bda6",
   "metadata": {},
   "source": [
    "We can return multiple values by passing in a list of index labels to *loc[]*:"
   ]
  },
  {
   "cell_type": "code",
   "execution_count": null,
   "id": "3b005a5b",
   "metadata": {},
   "outputs": [],
   "source": [
    "life_exp.loc[[\"Ireland\", \"Germany\", \"United Kingdom\"]]"
   ]
  },
  {
   "cell_type": "code",
   "execution_count": null,
   "id": "a5233100",
   "metadata": {},
   "outputs": [],
   "source": [
    "life_exp.loc[[\"Japan\", \"United Kingdom\", \"China\", \"Australia\"]]"
   ]
  },
  {
   "cell_type": "markdown",
   "id": "40464fbc",
   "metadata": {},
   "source": [
    "## Applying Conditions to Series\n",
    "\n",
    "We might want to filter the values in a Pandas Series, to reduce it to a subset of the original values based on some condition applied to the values. We can do this by indexing with a boolean expression."
   ]
  },
  {
   "cell_type": "code",
   "execution_count": null,
   "id": "a1bc3d4c",
   "metadata": {},
   "outputs": [],
   "source": [
    "# check which values match the specified condition\n",
    "life_exp > 80"
   ]
  },
  {
   "cell_type": "markdown",
   "id": "e1e16fa9-423e-4c7f-b723-5265f328a716",
   "metadata": {},
   "source": [
    "To actually apply the filter to the Series, we use the `loc` operator:"
   ]
  },
  {
   "cell_type": "code",
   "execution_count": null,
   "id": "e78d5b43",
   "metadata": {},
   "outputs": [],
   "source": [
    "# create a new series, with only values > 80\n",
    "life_exp.loc[life_exp > 80]"
   ]
  },
  {
   "cell_type": "code",
   "execution_count": null,
   "id": "48eaad76",
   "metadata": {},
   "outputs": [],
   "source": [
    "# create a new series, with only values <= 80\n",
    "life_exp.loc[life_exp <= 80]"
   ]
  },
  {
   "cell_type": "markdown",
   "id": "aab9749c",
   "metadata": {},
   "source": [
    "We can combine several different conditions using a boolean operator like AND (indicated by the character `&`) or OR ( indicated by the character `|`). Note that each condition is surrounded in parentheses:"
   ]
  },
  {
   "cell_type": "code",
   "execution_count": null,
   "id": "ebebe7f2",
   "metadata": {},
   "outputs": [],
   "source": [
    "# values > 75 AND < 80\n",
    "life_exp.loc[(life_exp > 75) & (life_exp < 80)]"
   ]
  },
  {
   "cell_type": "code",
   "execution_count": null,
   "id": "01939bf9",
   "metadata": {},
   "outputs": [],
   "source": [
    "# values < 70 OR values > 80\n",
    "life_exp.loc[(life_exp < 70) | (life_exp > 83)]"
   ]
  },
  {
   "cell_type": "markdown",
   "id": "006accd7",
   "metadata": {},
   "source": [
    "## Modifying a Series"
   ]
  },
  {
   "cell_type": "markdown",
   "id": "3e8c926b",
   "metadata": {},
   "source": [
    "The easiest way to change elements in an existing Pandas Series is to use the index label and `loc`:"
   ]
  },
  {
   "cell_type": "code",
   "execution_count": null,
   "id": "349c2b0c",
   "metadata": {},
   "outputs": [],
   "source": [
    "# modify the existing value\n",
    "life_exp.loc[\"Chad\"] = 50.3"
   ]
  },
  {
   "cell_type": "code",
   "execution_count": null,
   "id": "28c5ed47",
   "metadata": {},
   "outputs": [],
   "source": [
    "# check the values has changed\n",
    "life_exp[\"Chad\"]"
   ]
  },
  {
   "cell_type": "markdown",
   "id": "509e2260",
   "metadata": {},
   "source": [
    "We can also use position numbers to modify elements, via the *iloc[]* operator:"
   ]
  },
  {
   "cell_type": "code",
   "execution_count": null,
   "id": "3978e59c",
   "metadata": {},
   "outputs": [],
   "source": [
    "life_exp.iloc[0] = 75.90\n",
    "life_exp.head()"
   ]
  },
  {
   "cell_type": "markdown",
   "id": "6f273c4b",
   "metadata": {},
   "source": [
    "We can also add an additional element to the Series, by just assigning a value to a label:"
   ]
  },
  {
   "cell_type": "code",
   "execution_count": null,
   "id": "ebcd0c4d",
   "metadata": {},
   "outputs": [],
   "source": [
    "life_exp[\"Norway\"] = 82.91\n",
    "life_exp"
   ]
  },
  {
   "cell_type": "markdown",
   "id": "8ec06839",
   "metadata": {},
   "source": [
    "##  Series Statistics\n",
    "\n",
    "A Series has associated functions for a range of simple statisticsl analyses."
   ]
  },
  {
   "cell_type": "code",
   "execution_count": null,
   "id": "dc306937",
   "metadata": {},
   "outputs": [],
   "source": [
    "# average of the values\n",
    "life_exp.mean()"
   ]
  },
  {
   "cell_type": "code",
   "execution_count": null,
   "id": "4d51952c",
   "metadata": {},
   "outputs": [],
   "source": [
    "# median of the values (the middle value)\n",
    "life_exp.median()"
   ]
  },
  {
   "cell_type": "code",
   "execution_count": null,
   "id": "7228afe3",
   "metadata": {},
   "outputs": [],
   "source": [
    "# the standard deviation of the values (the spread)\n",
    "life_exp.std()"
   ]
  },
  {
   "cell_type": "code",
   "execution_count": null,
   "id": "694a59d5",
   "metadata": {},
   "outputs": [],
   "source": [
    "# range of the values (the minimum and maximum)\n",
    "life_exp.min(), life_exp.max()"
   ]
  },
  {
   "cell_type": "markdown",
   "id": "92f69f95",
   "metadata": {},
   "source": [
    "The associated `describe` function gives a useful statistical summary of a Series:"
   ]
  },
  {
   "cell_type": "code",
   "execution_count": null,
   "id": "60ea1aba",
   "metadata": {},
   "outputs": [],
   "source": [
    "life_exp.describe()"
   ]
  },
  {
   "cell_type": "markdown",
   "id": "8ebe504a",
   "metadata": {},
   "source": [
    "## Sorting Series\n",
    "\n",
    "To sort a Series, we call its associated `sort_values` function. Note this creates a copy of the original Series."
   ]
  },
  {
   "cell_type": "code",
   "execution_count": null,
   "id": "9fc811d9",
   "metadata": {},
   "outputs": [],
   "source": [
    "# sort lowest to highest\n",
    "life_exp.sort_values()"
   ]
  },
  {
   "cell_type": "markdown",
   "id": "b7a2ad96-788f-42a9-b4aa-4538d4765163",
   "metadata": {},
   "source": [
    "By default values are ordered in ascending order. We can sort in descending order, by specifying the argument `ascending=False`:"
   ]
  },
  {
   "cell_type": "code",
   "execution_count": null,
   "id": "c547f64e",
   "metadata": {},
   "outputs": [],
   "source": [
    "# sort highest to lowest\n",
    "life_exp.sort_values(ascending=False)"
   ]
  },
  {
   "cell_type": "markdown",
   "id": "0ea7b1d9",
   "metadata": {},
   "source": [
    "We can get the top-10 highest values by combining `sort_values` and `head`:"
   ]
  },
  {
   "cell_type": "code",
   "execution_count": null,
   "id": "4d5e9210-cf07-4097-b372-b043ba4ded45",
   "metadata": {},
   "outputs": [],
   "source": [
    "life_exp.sort_values(ascending=False).head(10)"
   ]
  },
  {
   "cell_type": "markdown",
   "id": "d7d92beb-7df4-4ab0-a545-56da086064b2",
   "metadata": {},
   "source": [
    "We can also sort a Series based on its index labels, by calling `sort_index`:"
   ]
  },
  {
   "cell_type": "code",
   "execution_count": null,
   "id": "292c86cc",
   "metadata": {},
   "outputs": [],
   "source": [
    "life_exp.sort_index()"
   ]
  }
 ],
 "metadata": {
  "kernelspec": {
   "display_name": "Python 3 (ipykernel)",
   "language": "python",
   "name": "python3"
  },
  "language_info": {
   "codemirror_mode": {
    "name": "ipython",
    "version": 3
   },
   "file_extension": ".py",
   "mimetype": "text/x-python",
   "name": "python",
   "nbconvert_exporter": "python",
   "pygments_lexer": "ipython3",
   "version": "3.12.4"
  }
 },
 "nbformat": 4,
 "nbformat_minor": 5
}
